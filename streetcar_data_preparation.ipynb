{
 "cells": [
  {
   "cell_type": "markdown",
   "metadata": {},
   "source": [
    "# Streetcar Delay Prediction\n",
    "\n",
    "Use dataset covering Toronto Transit Commission (TTC) streetcar delays 2014 - 2018 to predict future delays and come up with recommendations for avoiding delays.\n",
    "\n",
    "Source dataset: : https://www.toronto.ca/city-government/data-research-maps/open-data/open-data-catalogue/#e8f359f0-2f47-3058-bf64-6ec488de52da"
   ]
  },
  {
   "cell_type": "markdown",
   "metadata": {},
   "source": [
    "# Streetcar routes\n",
    "\n",
    "From https://www.ttc.ca/Routes/Streetcars.jsp\n",
    "\n",
    "<table style=\"border: none\" align=\"left\">\n",
    "   </tr>\n",
    "   <tr style=\"border: none\">\n",
    "       <th style=\"border: none\"><img src=\"https://raw.githubusercontent.com/ryanmark1867/streetcarnov3/master/streetcar%20routes.jpg\" width=\"600\" alt=\"Icon\"> </th>\n",
    "   </tr>\n",
    "</table>"
   ]
  },
  {
   "cell_type": "markdown",
   "metadata": {},
   "source": [
    "# Streetcar vehicle IDs CLRV/ALRV\n",
    "\n",
    "From https://en.wikipedia.org/wiki/Toronto_streetcar_system_rolling_stock#CLRVs_and_ALRVs\n",
    "\n",
    "<table style=\"border: none\" align=\"left\">\n",
    "   </tr>\n",
    "   <tr style=\"border: none\">\n",
    "       <th style=\"border: none\"><img src=\"https://raw.githubusercontent.com/ryanmark1867/streetcarnov3/master/streetcarCLRV.jpg\" width=\"600\" alt=\"Icon\"> </th>\n",
    "   </tr>\n",
    "</table>"
   ]
  },
  {
   "cell_type": "markdown",
   "metadata": {},
   "source": [
    "# Streetcar vehicle IDs Flexity\n",
    "\n",
    "From https://en.wikipedia.org/wiki/Toronto_streetcar_system_rolling_stock#CLRVs_and_ALRVs\n",
    "\n",
    "<table style=\"border: none\" align=\"left\">\n",
    "   </tr>\n",
    "   <tr style=\"border: none\">\n",
    "       <th style=\"border: none\"><img src=\"https://raw.githubusercontent.com/ryanmark1867/streetcarnov3/master/streetcarflexity.jpg\" width=\"600\" alt=\"Icon\"> </th>\n",
    "   </tr>\n",
    "</table>"
   ]
  },
  {
   "cell_type": "code",
   "execution_count": 43,
   "metadata": {},
   "outputs": [],
   "source": [
    "# load the valid list of TTC Streetcar routes\n",
    "valid_routes = ['501','502','503','504','505','506','509','510','511','512','301','304','306','310']"
   ]
  },
  {
   "cell_type": "code",
   "execution_count": 44,
   "metadata": {},
   "outputs": [
    {
     "data": {
      "text/plain": [
       "['501',\n",
       " '502',\n",
       " '503',\n",
       " '504',\n",
       " '505',\n",
       " '506',\n",
       " '509',\n",
       " '510',\n",
       " '511',\n",
       " '512',\n",
       " '301',\n",
       " '304',\n",
       " '306',\n",
       " '310']"
      ]
     },
     "execution_count": 44,
     "metadata": {},
     "output_type": "execute_result"
    }
   ],
   "source": [
    "valid_routes"
   ]
  },
  {
   "cell_type": "code",
   "execution_count": 45,
   "metadata": {},
   "outputs": [],
   "source": [
    "valid_directions = ['E/B','W/B','N/B','S/B']"
   ]
  },
  {
   "cell_type": "code",
   "execution_count": 46,
   "metadata": {},
   "outputs": [],
   "source": [
    "valid_days = ['Monday','Tuesday','Wednesday','Thursday','Friday','Saturday','Sunday']"
   ]
  },
  {
   "cell_type": "code",
   "execution_count": 47,
   "metadata": {},
   "outputs": [
    {
     "name": "stdout",
     "output_type": "stream",
     "text": [
      "/notebooks/manning/notebooks\r\n"
     ]
    }
   ],
   "source": [
    "! pwd"
   ]
  },
  {
   "cell_type": "markdown",
   "metadata": {},
   "source": [
    "# Load and Save Data\n",
    "- parse list of XLS files \n",
    "- load XLS files, tab by tab, into dataframe\n",
    "- pickle dataframe for future runs"
   ]
  },
  {
   "cell_type": "code",
   "execution_count": 48,
   "metadata": {},
   "outputs": [],
   "source": [
    "# variables to control function of this notebook\n",
    "# control whether to load data from scratch from original source or from saved dataframe\n",
    "load_from_scratch = True\n",
    "# control whether to save dataframe with transformed data\n",
    "save_transformed_dataframe = True"
   ]
  },
  {
   "cell_type": "code",
   "execution_count": 49,
   "metadata": {},
   "outputs": [],
   "source": [
    "import numpy as np # linear algebra\n",
    "import pandas as pd # data processing, CSV file I/O (e.g. pd.read_csv)\n",
    "import matplotlib.pyplot as plt\n",
    "# import seaborn as sns\n",
    "import datetime\n",
    "import os\n"
   ]
  },
  {
   "cell_type": "code",
   "execution_count": 50,
   "metadata": {},
   "outputs": [
    {
     "name": "stdout",
     "output_type": "stream",
     "text": [
      "/notebooks/manning/notebooks\r\n"
     ]
    }
   ],
   "source": [
    "!pwd"
   ]
  },
  {
   "cell_type": "code",
   "execution_count": 51,
   "metadata": {},
   "outputs": [
    {
     "name": "stdout",
     "output_type": "stream",
     "text": [
      "raw path is /notebooks/manning/notebooks\n"
     ]
    }
   ],
   "source": [
    "# get the directory for that this notebook is in\n",
    "rawpath = os.getcwd()\n",
    "print(\"raw path is\",rawpath)"
   ]
  },
  {
   "cell_type": "code",
   "execution_count": 52,
   "metadata": {},
   "outputs": [
    {
     "name": "stdout",
     "output_type": "stream",
     "text": [
      "path is /notebooks/manning/data/\n"
     ]
    }
   ],
   "source": [
    "# data is in a directory called \"data\" that is a sibling to the directory containing the notebook\n",
    "path = os.path.abspath(os.path.join(rawpath, '..', 'data')) + \"/\"\n",
    "print(\"path is\", path)"
   ]
  },
  {
   "cell_type": "code",
   "execution_count": 53,
   "metadata": {},
   "outputs": [],
   "source": [
    "# pickled_dataframe = '20142018_df.pkl'\n",
    "pickled_input_dataframe = '2014_2018.pkl'\n",
    "pickled_output_dataframe = '2014_2018_df.pkl'\n",
    "# path,picklename,firstfile, firstsheet\n",
    "firstfile = 'Streetcar_2018_aug_nov.xlsx'\n",
    "firstsheet = 'Aug 2018'\n",
    "newload = False\n"
   ]
  },
  {
   "cell_type": "code",
   "execution_count": 54,
   "metadata": {},
   "outputs": [],
   "source": [
    "#path = os.getcwd()\n",
    "def get_xls_list(path):\n",
    "    # path = '../datasets/'\n",
    "    files = os.listdir(path)\n",
    "    files_xls = [f for f in files if f[-4:] == 'xlsx']\n",
    "    print(files)\n",
    "    print(files_xls)\n",
    "    return(files_xls)\n"
   ]
  },
  {
   "cell_type": "code",
   "execution_count": 55,
   "metadata": {},
   "outputs": [],
   "source": [
    "def load_xls(path, files_xls, firstfile, firstsheet, df):\n",
    "    for f in files_xls:\n",
    "        print(\"file name\",f)\n",
    "        xlsf = pd.ExcelFile(path+f)\n",
    "        # iterate through sheets\n",
    "        for sheet_name in xlsf.sheet_names:\n",
    "            print(\"sheet_name\",sheet_name)\n",
    "            if (f != firstfile) or (sheet_name != firstsheet):\n",
    "                print(\"sheet_name in loop\",sheet_name)\n",
    "                data = pd.read_excel(path+f,sheetname=sheet_name)    \n",
    "                df = df.append(data)\n",
    "    return (df)"
   ]
  },
  {
   "cell_type": "code",
   "execution_count": 60,
   "metadata": {},
   "outputs": [],
   "source": [
    "def reloader(path,picklename):\n",
    "    # get list of all xls files in the path\n",
    "    files_xls = get_xls_list(path)\n",
    "    print(\"list of xls\",files_xls)\n",
    "    # seed initial tab on initial xls file\n",
    "    dfnew = pd.read_excel(path+files_xls[0])\n",
    "    # get the list of sheets in the first file\n",
    "    xlsf = pd.ExcelFile(path+files_xls[0])\n",
    "    # load the remaining tabs from all the other xls\n",
    "    # pass the first file (files_xls[0]) and the first tab in that file (xlsf[0]) explicitly\n",
    "    dflatest = load_xls(path,files_xls,files_xls[0],xlsf.sheet_names[0], dfnew)\n",
    "    # save dataframe to pickle\n",
    "    dflatest.to_pickle(path+ picklename)\n",
    "    # return dataframe loaded with all tabs of all xls files\n",
    "    return(dflatest)\n",
    "    "
   ]
  },
  {
   "cell_type": "code",
   "execution_count": 61,
   "metadata": {},
   "outputs": [],
   "source": [
    "def define_feature_categories(df):\n",
    "    allcols = list(df)\n",
    "    print(\"all cols\",allcols)\n",
    "    textcols = ['Incident','Location'] # \n",
    "    continuouscols = ['Min Delay','Min Gap'] \n",
    "                      # columns to deal with as continuous values - no embeddings\n",
    "    timecols = ['Report Date','Time']\n",
    "    collist = ['Day','Vehicle','Route','Direction']\n",
    "    for col in continuouscols:\n",
    "        df[col] = df[col].astype(float)\n",
    "    print('texcols: ',textcols)\n",
    "    print('continuouscols: ',continuouscols)\n",
    "    print('timecols: ',timecols)\n",
    "    print('collist: ',collist)\n",
    "    return(allcols,textcols,continuouscols,timecols,collist)"
   ]
  },
  {
   "cell_type": "code",
   "execution_count": 62,
   "metadata": {},
   "outputs": [],
   "source": [
    "def fill_missing(dataset):\n",
    "    print(\"before mv\")\n",
    "    for col in collist:\n",
    "        dataset[col].fillna(value=\"missing\", inplace=True)\n",
    "    for col in continuouscols:\n",
    "        dataset[col].fillna(value=0.0,inplace=True)\n",
    "    for col in textcols:\n",
    "        dataset[col].fillna(value=\"missing\", inplace=True)\n",
    "    return (dataset)"
   ]
  },
  {
   "cell_type": "markdown",
   "metadata": {},
   "source": [
    "# Load dataframe and add columns for time series manipulation\n",
    "- load pickled dataframe\n",
    "- show info about the dataset\n",
    "- build index combining date+time along with labelled column date+time\n"
   ]
  },
  {
   "cell_type": "code",
   "execution_count": 63,
   "metadata": {},
   "outputs": [
    {
     "name": "stdout",
     "output_type": "stream",
     "text": [
      "['Streetcar 2015.xlsx', 'iriscaps.csv', 'Streetcar 2014.xlsx', 'Streetcar_2019.xlsx', 'iris.csv', 'Streetcar_2018.xlsx', 'iris_dataframe.pkl', 'Streetcar 2017.xlsx', 'Streetcar 2016.xlsx']\n",
      "['Streetcar 2015.xlsx', 'Streetcar 2014.xlsx', 'Streetcar_2019.xlsx', 'Streetcar_2018.xlsx', 'Streetcar 2017.xlsx', 'Streetcar 2016.xlsx']\n",
      "list of xls ['Streetcar 2015.xlsx', 'Streetcar 2014.xlsx', 'Streetcar_2019.xlsx', 'Streetcar_2018.xlsx', 'Streetcar 2017.xlsx', 'Streetcar 2016.xlsx']\n",
      "file name Streetcar 2015.xlsx\n",
      "sheet_name Jan 2015\n",
      "sheet_name Feb 2015\n",
      "sheet_name in loop Feb 2015\n"
     ]
    },
    {
     "name": "stderr",
     "output_type": "stream",
     "text": [
      "/opt/conda/envs/fastai/lib/python3.6/site-packages/pandas/io/excel.py:329: FutureWarning: The `sheetname` keyword is deprecated, use `sheet_name` instead\n",
      "  **kwds)\n"
     ]
    },
    {
     "name": "stdout",
     "output_type": "stream",
     "text": [
      "sheet_name Mar 2015\n",
      "sheet_name in loop Mar 2015\n",
      "sheet_name Apr 2015\n",
      "sheet_name in loop Apr 2015\n",
      "sheet_name May 2015\n",
      "sheet_name in loop May 2015\n",
      "sheet_name Jun 2015\n",
      "sheet_name in loop Jun 2015\n",
      "sheet_name July 2015\n",
      "sheet_name in loop July 2015\n",
      "sheet_name Aug 2015\n",
      "sheet_name in loop Aug 2015\n",
      "sheet_name Sept 2015\n",
      "sheet_name in loop Sept 2015\n",
      "sheet_name Oct 2015\n",
      "sheet_name in loop Oct 2015\n",
      "sheet_name Nov 2015\n",
      "sheet_name in loop Nov 2015\n",
      "sheet_name Dec 2015\n",
      "sheet_name in loop Dec 2015\n",
      "file name Streetcar 2014.xlsx\n",
      "sheet_name Jan 2014\n",
      "sheet_name in loop Jan 2014\n",
      "sheet_name Feb 2014\n",
      "sheet_name in loop Feb 2014\n",
      "sheet_name Mar 2014\n",
      "sheet_name in loop Mar 2014\n",
      "sheet_name Apr 2014\n",
      "sheet_name in loop Apr 2014\n",
      "sheet_name May 2014\n",
      "sheet_name in loop May 2014\n",
      "sheet_name Jun 2014\n",
      "sheet_name in loop Jun 2014\n",
      "sheet_name July 2014\n",
      "sheet_name in loop July 2014\n",
      "sheet_name Aug 2014\n",
      "sheet_name in loop Aug 2014\n",
      "sheet_name Sept 2014\n",
      "sheet_name in loop Sept 2014\n",
      "sheet_name Oct 2014\n",
      "sheet_name in loop Oct 2014\n",
      "sheet_name Nov 2014\n",
      "sheet_name in loop Nov 2014\n",
      "sheet_name Dec 2014\n",
      "sheet_name in loop Dec 2014\n",
      "file name Streetcar_2019.xlsx\n",
      "sheet_name Jan 2019 \n",
      "sheet_name in loop Jan 2019 \n",
      "sheet_name Feb 2019 \n",
      "sheet_name in loop Feb 2019 \n",
      "file name Streetcar_2018.xlsx\n",
      "sheet_name Jan 2018\n",
      "sheet_name in loop Jan 2018\n",
      "sheet_name Feb 2018 \n",
      "sheet_name in loop Feb 2018 \n",
      "sheet_name Mar 2018\n",
      "sheet_name in loop Mar 2018\n",
      "sheet_name Apr 2018 \n",
      "sheet_name in loop Apr 2018 \n",
      "sheet_name May 2018 \n",
      "sheet_name in loop May 2018 \n",
      "sheet_name June 2018 \n",
      "sheet_name in loop June 2018 \n",
      "sheet_name July 2018\n",
      "sheet_name in loop July 2018\n",
      "sheet_name Aug 2018 \n",
      "sheet_name in loop Aug 2018 \n",
      "sheet_name Sept 2018 \n",
      "sheet_name in loop Sept 2018 \n",
      "sheet_name Oct 2018 \n",
      "sheet_name in loop Oct 2018 \n",
      "sheet_name Nov 2018 \n",
      "sheet_name in loop Nov 2018 \n",
      "sheet_name Dec 2018 \n",
      "sheet_name in loop Dec 2018 \n",
      "file name Streetcar 2017.xlsx\n",
      "sheet_name Combined\n",
      "sheet_name in loop Combined\n",
      "sheet_name Jan 2017\n",
      "sheet_name in loop Jan 2017\n",
      "sheet_name Feb 2017\n",
      "sheet_name in loop Feb 2017\n",
      "sheet_name Mar 2017\n",
      "sheet_name in loop Mar 2017\n",
      "sheet_name Apr 2017\n",
      "sheet_name in loop Apr 2017\n",
      "sheet_name May 2017\n",
      "sheet_name in loop May 2017\n",
      "sheet_name Jun 2017\n",
      "sheet_name in loop Jun 2017\n",
      "sheet_name July 2017\n",
      "sheet_name in loop July 2017\n",
      "sheet_name Aug 2017\n",
      "sheet_name in loop Aug 2017\n",
      "sheet_name Sept 2017 \n",
      "sheet_name in loop Sept 2017 \n",
      "sheet_name Oct 2017\n",
      "sheet_name in loop Oct 2017\n",
      "sheet_name Nov 2017\n",
      "sheet_name in loop Nov 2017\n",
      "sheet_name Dec 2017\n",
      "sheet_name in loop Dec 2017\n",
      "file name Streetcar 2016.xlsx\n",
      "sheet_name Jan 2016\n",
      "sheet_name in loop Jan 2016\n",
      "sheet_name Feb 2016\n",
      "sheet_name in loop Feb 2016\n",
      "sheet_name Mar 2016\n",
      "sheet_name in loop Mar 2016\n",
      "sheet_name Apr 2016\n",
      "sheet_name in loop Apr 2016\n",
      "sheet_name May 2016\n",
      "sheet_name in loop May 2016\n",
      "sheet_name Jun 2016\n",
      "sheet_name in loop Jun 2016\n",
      "sheet_name July 2016\n",
      "sheet_name in loop July 2016\n",
      "sheet_name Aug 2016\n",
      "sheet_name in loop Aug 2016\n",
      "sheet_name Sept 2016\n",
      "sheet_name in loop Sept 2016\n",
      "sheet_name Oct 2016\n",
      "sheet_name in loop Oct 2016\n",
      "sheet_name Nov 2016\n",
      "sheet_name in loop Nov 2016\n",
      "sheet_name Dec 2016\n",
      "sheet_name in loop Dec 2016\n",
      "reloader done\n"
     ]
    }
   ],
   "source": [
    "# read in previously pickled dataframe containing data from s/s 2014 - 2018\n",
    "if load_from_scratch:\n",
    "    unpickled_df = reloader(path,pickled_input_dataframe)\n",
    "    print(\"reloader done\")\n",
    "    #unpickled_df = pd.read_pickle(path+pickled_data_file)\n",
    "else:\n",
    "    unpickled_df = pd.read_pickle(path+pickled_input_dataframe)"
   ]
  },
  {
   "cell_type": "code",
   "execution_count": 65,
   "metadata": {},
   "outputs": [
    {
     "data": {
      "text/html": [
       "<div>\n",
       "<style scoped>\n",
       "    .dataframe tbody tr th:only-of-type {\n",
       "        vertical-align: middle;\n",
       "    }\n",
       "\n",
       "    .dataframe tbody tr th {\n",
       "        vertical-align: top;\n",
       "    }\n",
       "\n",
       "    .dataframe thead th {\n",
       "        text-align: right;\n",
       "    }\n",
       "</style>\n",
       "<table border=\"1\" class=\"dataframe\">\n",
       "  <thead>\n",
       "    <tr style=\"text-align: right;\">\n",
       "      <th></th>\n",
       "      <th>Report Date</th>\n",
       "      <th>Route</th>\n",
       "      <th>Time</th>\n",
       "      <th>Day</th>\n",
       "      <th>Location</th>\n",
       "      <th>Incident</th>\n",
       "      <th>Min Delay</th>\n",
       "      <th>Min Gap</th>\n",
       "      <th>Direction</th>\n",
       "      <th>Vehicle</th>\n",
       "    </tr>\n",
       "  </thead>\n",
       "  <tbody>\n",
       "    <tr>\n",
       "      <th>0</th>\n",
       "      <td>2015-01-01</td>\n",
       "      <td>504</td>\n",
       "      <td>01:25:00</td>\n",
       "      <td>Thursday</td>\n",
       "      <td>Broadview and Gerrard</td>\n",
       "      <td>Mechanical</td>\n",
       "      <td>9.0</td>\n",
       "      <td>18.0</td>\n",
       "      <td>S/B</td>\n",
       "      <td>4092.0</td>\n",
       "    </tr>\n",
       "    <tr>\n",
       "      <th>1</th>\n",
       "      <td>2015-01-01</td>\n",
       "      <td>504</td>\n",
       "      <td>01:44:00</td>\n",
       "      <td>Thursday</td>\n",
       "      <td>Roncesvalles and Galley</td>\n",
       "      <td>Held By</td>\n",
       "      <td>14.0</td>\n",
       "      <td>23.0</td>\n",
       "      <td>S/B</td>\n",
       "      <td>4030.0</td>\n",
       "    </tr>\n",
       "    <tr>\n",
       "      <th>2</th>\n",
       "      <td>2015-01-01</td>\n",
       "      <td>504</td>\n",
       "      <td>02:04:00</td>\n",
       "      <td>Thursday</td>\n",
       "      <td>King and Sherborne</td>\n",
       "      <td>Mechanical</td>\n",
       "      <td>9.0</td>\n",
       "      <td>18.0</td>\n",
       "      <td>E/B</td>\n",
       "      <td>4147.0</td>\n",
       "    </tr>\n",
       "    <tr>\n",
       "      <th>3</th>\n",
       "      <td>2015-01-01</td>\n",
       "      <td>306</td>\n",
       "      <td>02:12:00</td>\n",
       "      <td>Thursday</td>\n",
       "      <td>Main St. and Upper Gerard</td>\n",
       "      <td>Investigation</td>\n",
       "      <td>29.0</td>\n",
       "      <td>39.0</td>\n",
       "      <td>S/B</td>\n",
       "      <td>4049.0</td>\n",
       "    </tr>\n",
       "    <tr>\n",
       "      <th>4</th>\n",
       "      <td>2015-01-01</td>\n",
       "      <td>306</td>\n",
       "      <td>05:05:00</td>\n",
       "      <td>Thursday</td>\n",
       "      <td>Gerrard and Sumach</td>\n",
       "      <td>Mechanical</td>\n",
       "      <td>30.0</td>\n",
       "      <td>60.0</td>\n",
       "      <td>W/B</td>\n",
       "      <td>4114.0</td>\n",
       "    </tr>\n",
       "  </tbody>\n",
       "</table>\n",
       "</div>"
      ],
      "text/plain": [
       "  Report Date  Route      Time       Day                   Location  \\\n",
       "0  2015-01-01    504  01:25:00  Thursday      Broadview and Gerrard   \n",
       "1  2015-01-01    504  01:44:00  Thursday    Roncesvalles and Galley   \n",
       "2  2015-01-01    504  02:04:00  Thursday         King and Sherborne   \n",
       "3  2015-01-01    306  02:12:00  Thursday  Main St. and Upper Gerard   \n",
       "4  2015-01-01    306  05:05:00  Thursday         Gerrard and Sumach   \n",
       "\n",
       "        Incident  Min Delay  Min Gap Direction  Vehicle  \n",
       "0     Mechanical        9.0     18.0       S/B   4092.0  \n",
       "1        Held By       14.0     23.0       S/B   4030.0  \n",
       "2     Mechanical        9.0     18.0       E/B   4147.0  \n",
       "3  Investigation       29.0     39.0       S/B   4049.0  \n",
       "4     Mechanical       30.0     60.0       W/B   4114.0  "
      ]
     },
     "execution_count": 65,
     "metadata": {},
     "output_type": "execute_result"
    }
   ],
   "source": [
    "df = unpickled_df\n",
    "df.head()"
   ]
  },
  {
   "cell_type": "code",
   "execution_count": 68,
   "metadata": {},
   "outputs": [
    {
     "data": {
      "text/html": [
       "<div>\n",
       "<style scoped>\n",
       "    .dataframe tbody tr th:only-of-type {\n",
       "        vertical-align: middle;\n",
       "    }\n",
       "\n",
       "    .dataframe tbody tr th {\n",
       "        vertical-align: top;\n",
       "    }\n",
       "\n",
       "    .dataframe thead th {\n",
       "        text-align: right;\n",
       "    }\n",
       "</style>\n",
       "<table border=\"1\" class=\"dataframe\">\n",
       "  <thead>\n",
       "    <tr style=\"text-align: right;\">\n",
       "      <th></th>\n",
       "      <th>Report Date</th>\n",
       "      <th>Route</th>\n",
       "      <th>Time</th>\n",
       "      <th>Day</th>\n",
       "      <th>Location</th>\n",
       "      <th>Incident</th>\n",
       "      <th>Min Delay</th>\n",
       "      <th>Min Gap</th>\n",
       "      <th>Direction</th>\n",
       "      <th>Vehicle</th>\n",
       "    </tr>\n",
       "  </thead>\n",
       "  <tbody>\n",
       "    <tr>\n",
       "      <th>0</th>\n",
       "      <td>2015-01-01</td>\n",
       "      <td>504</td>\n",
       "      <td>01:25:00</td>\n",
       "      <td>Thursday</td>\n",
       "      <td>Broadview and Gerrard</td>\n",
       "      <td>Mechanical</td>\n",
       "      <td>9.0</td>\n",
       "      <td>18.0</td>\n",
       "      <td>S/B</td>\n",
       "      <td>4092</td>\n",
       "    </tr>\n",
       "    <tr>\n",
       "      <th>1</th>\n",
       "      <td>2015-01-01</td>\n",
       "      <td>504</td>\n",
       "      <td>01:44:00</td>\n",
       "      <td>Thursday</td>\n",
       "      <td>Roncesvalles and Galley</td>\n",
       "      <td>Held By</td>\n",
       "      <td>14.0</td>\n",
       "      <td>23.0</td>\n",
       "      <td>S/B</td>\n",
       "      <td>4030</td>\n",
       "    </tr>\n",
       "    <tr>\n",
       "      <th>2</th>\n",
       "      <td>2015-01-01</td>\n",
       "      <td>504</td>\n",
       "      <td>02:04:00</td>\n",
       "      <td>Thursday</td>\n",
       "      <td>King and Sherborne</td>\n",
       "      <td>Mechanical</td>\n",
       "      <td>9.0</td>\n",
       "      <td>18.0</td>\n",
       "      <td>E/B</td>\n",
       "      <td>4147</td>\n",
       "    </tr>\n",
       "    <tr>\n",
       "      <th>3</th>\n",
       "      <td>2015-01-01</td>\n",
       "      <td>306</td>\n",
       "      <td>02:12:00</td>\n",
       "      <td>Thursday</td>\n",
       "      <td>Main St. and Upper Gerard</td>\n",
       "      <td>Investigation</td>\n",
       "      <td>29.0</td>\n",
       "      <td>39.0</td>\n",
       "      <td>S/B</td>\n",
       "      <td>4049</td>\n",
       "    </tr>\n",
       "    <tr>\n",
       "      <th>4</th>\n",
       "      <td>2015-01-01</td>\n",
       "      <td>306</td>\n",
       "      <td>05:05:00</td>\n",
       "      <td>Thursday</td>\n",
       "      <td>Gerrard and Sumach</td>\n",
       "      <td>Mechanical</td>\n",
       "      <td>30.0</td>\n",
       "      <td>60.0</td>\n",
       "      <td>W/B</td>\n",
       "      <td>4114</td>\n",
       "    </tr>\n",
       "  </tbody>\n",
       "</table>\n",
       "</div>"
      ],
      "text/plain": [
       "  Report Date Route      Time       Day                   Location  \\\n",
       "0  2015-01-01   504  01:25:00  Thursday      Broadview and Gerrard   \n",
       "1  2015-01-01   504  01:44:00  Thursday    Roncesvalles and Galley   \n",
       "2  2015-01-01   504  02:04:00  Thursday         King and Sherborne   \n",
       "3  2015-01-01   306  02:12:00  Thursday  Main St. and Upper Gerard   \n",
       "4  2015-01-01   306  05:05:00  Thursday         Gerrard and Sumach   \n",
       "\n",
       "        Incident  Min Delay  Min Gap Direction Vehicle  \n",
       "0     Mechanical        9.0     18.0       S/B    4092  \n",
       "1        Held By       14.0     23.0       S/B    4030  \n",
       "2     Mechanical        9.0     18.0       E/B    4147  \n",
       "3  Investigation       29.0     39.0       S/B    4049  \n",
       "4     Mechanical       30.0     60.0       W/B    4114  "
      ]
     },
     "execution_count": 68,
     "metadata": {},
     "output_type": "execute_result"
    }
   ],
   "source": [
    "# ensure Route and Vehicle are strings, not numeric\n",
    "# df = df.astype({\"Route\": str, \"Vehicle\": int})\n",
    "df['Route'] = df['Route'].astype(str)\n",
    "df['Vehicle'] = df['Vehicle'].astype(str)\n",
    "# df['filename'] = df['filename'].str[:-4]\n",
    "df['Vehicle'] = df['Vehicle'].str[:-2]\n",
    "df.head()"
   ]
  },
  {
   "cell_type": "code",
   "execution_count": 69,
   "metadata": {},
   "outputs": [
    {
     "name": "stdout",
     "output_type": "stream",
     "text": [
      "all cols ['Report Date', 'Route', 'Time', 'Day', 'Location', 'Incident', 'Min Delay', 'Min Gap', 'Direction', 'Vehicle']\n",
      "texcols:  ['Incident', 'Location']\n",
      "continuouscols:  ['Min Delay', 'Min Gap']\n",
      "timecols:  ['Report Date', 'Time']\n",
      "collist:  ['Day', 'Vehicle', 'Route', 'Direction']\n"
     ]
    }
   ],
   "source": [
    "# define categories\n",
    "allcols,textcols,continuouscols,timecols,collist = define_feature_categories(df) "
   ]
  },
  {
   "cell_type": "code",
   "execution_count": 70,
   "metadata": {},
   "outputs": [
    {
     "name": "stdout",
     "output_type": "stream",
     "text": [
      "before mv\n"
     ]
    }
   ],
   "source": [
    "# fill in missing values\n",
    "df = fill_missing(df)"
   ]
  },
  {
   "cell_type": "code",
   "execution_count": 71,
   "metadata": {},
   "outputs": [
    {
     "name": "stdout",
     "output_type": "stream",
     "text": [
      "<class 'pandas.core.frame.DataFrame'>\n",
      "Int64Index: 83365 entries, 0 to 1519\n",
      "Data columns (total 10 columns):\n",
      "Report Date    83365 non-null datetime64[ns]\n",
      "Route          83365 non-null object\n",
      "Time           83365 non-null object\n",
      "Day            83365 non-null object\n",
      "Location       83365 non-null object\n",
      "Incident       83365 non-null object\n",
      "Min Delay      83365 non-null float64\n",
      "Min Gap        83365 non-null float64\n",
      "Direction      83365 non-null object\n",
      "Vehicle        83365 non-null object\n",
      "dtypes: datetime64[ns](1), float64(2), object(7)\n",
      "memory usage: 7.0+ MB\n"
     ]
    }
   ],
   "source": [
    "# getting some information about dataset\n",
    "df.info()"
   ]
  },
  {
   "cell_type": "code",
   "execution_count": 72,
   "metadata": {},
   "outputs": [
    {
     "data": {
      "text/plain": [
       "(83365, 10)"
      ]
     },
     "execution_count": 72,
     "metadata": {},
     "output_type": "execute_result"
    }
   ],
   "source": [
    "# getting some information about dataset\n",
    "df.shape"
   ]
  },
  {
   "cell_type": "code",
   "execution_count": 73,
   "metadata": {},
   "outputs": [
    {
     "data": {
      "text/html": [
       "<div>\n",
       "<style scoped>\n",
       "    .dataframe tbody tr th:only-of-type {\n",
       "        vertical-align: middle;\n",
       "    }\n",
       "\n",
       "    .dataframe tbody tr th {\n",
       "        vertical-align: top;\n",
       "    }\n",
       "\n",
       "    .dataframe thead th {\n",
       "        text-align: right;\n",
       "    }\n",
       "</style>\n",
       "<table border=\"1\" class=\"dataframe\">\n",
       "  <thead>\n",
       "    <tr style=\"text-align: right;\">\n",
       "      <th></th>\n",
       "      <th>Min Delay</th>\n",
       "      <th>Min Gap</th>\n",
       "    </tr>\n",
       "  </thead>\n",
       "  <tbody>\n",
       "    <tr>\n",
       "      <th>count</th>\n",
       "      <td>83365.000000</td>\n",
       "      <td>83365.000000</td>\n",
       "    </tr>\n",
       "    <tr>\n",
       "      <th>mean</th>\n",
       "      <td>12.630229</td>\n",
       "      <td>18.103209</td>\n",
       "    </tr>\n",
       "    <tr>\n",
       "      <th>std</th>\n",
       "      <td>29.939810</td>\n",
       "      <td>33.000675</td>\n",
       "    </tr>\n",
       "    <tr>\n",
       "      <th>min</th>\n",
       "      <td>0.000000</td>\n",
       "      <td>0.000000</td>\n",
       "    </tr>\n",
       "    <tr>\n",
       "      <th>25%</th>\n",
       "      <td>5.000000</td>\n",
       "      <td>9.000000</td>\n",
       "    </tr>\n",
       "    <tr>\n",
       "      <th>50%</th>\n",
       "      <td>6.000000</td>\n",
       "      <td>12.000000</td>\n",
       "    </tr>\n",
       "    <tr>\n",
       "      <th>75%</th>\n",
       "      <td>11.000000</td>\n",
       "      <td>20.000000</td>\n",
       "    </tr>\n",
       "    <tr>\n",
       "      <th>max</th>\n",
       "      <td>1400.000000</td>\n",
       "      <td>4216.000000</td>\n",
       "    </tr>\n",
       "  </tbody>\n",
       "</table>\n",
       "</div>"
      ],
      "text/plain": [
       "          Min Delay       Min Gap\n",
       "count  83365.000000  83365.000000\n",
       "mean      12.630229     18.103209\n",
       "std       29.939810     33.000675\n",
       "min        0.000000      0.000000\n",
       "25%        5.000000      9.000000\n",
       "50%        6.000000     12.000000\n",
       "75%       11.000000     20.000000\n",
       "max     1400.000000   4216.000000"
      ]
     },
     "execution_count": 73,
     "metadata": {},
     "output_type": "execute_result"
    }
   ],
   "source": [
    "# further Analysis \n",
    "df.describe()"
   ]
  },
  {
   "cell_type": "code",
   "execution_count": 74,
   "metadata": {},
   "outputs": [
    {
     "data": {
      "text/plain": [
       "Report Date    datetime64[ns]\n",
       "Route                  object\n",
       "Time                   object\n",
       "Day                    object\n",
       "Location               object\n",
       "Incident               object\n",
       "Min Delay             float64\n",
       "Min Gap               float64\n",
       "Direction              object\n",
       "Vehicle                object\n",
       "dtype: object"
      ]
     },
     "execution_count": 74,
     "metadata": {},
     "output_type": "execute_result"
    }
   ],
   "source": [
    "df.dtypes"
   ]
  },
  {
   "cell_type": "code",
   "execution_count": 75,
   "metadata": {},
   "outputs": [
    {
     "data": {
      "text/html": [
       "<div>\n",
       "<style scoped>\n",
       "    .dataframe tbody tr th:only-of-type {\n",
       "        vertical-align: middle;\n",
       "    }\n",
       "\n",
       "    .dataframe tbody tr th {\n",
       "        vertical-align: top;\n",
       "    }\n",
       "\n",
       "    .dataframe thead th {\n",
       "        text-align: right;\n",
       "    }\n",
       "</style>\n",
       "<table border=\"1\" class=\"dataframe\">\n",
       "  <thead>\n",
       "    <tr style=\"text-align: right;\">\n",
       "      <th></th>\n",
       "      <th>Report Date</th>\n",
       "      <th>Route</th>\n",
       "      <th>Time</th>\n",
       "      <th>Day</th>\n",
       "      <th>Location</th>\n",
       "      <th>Incident</th>\n",
       "      <th>Min Delay</th>\n",
       "      <th>Min Gap</th>\n",
       "      <th>Direction</th>\n",
       "      <th>Vehicle</th>\n",
       "      <th>Report Date Time</th>\n",
       "    </tr>\n",
       "    <tr>\n",
       "      <th>Report Date Time</th>\n",
       "      <th></th>\n",
       "      <th></th>\n",
       "      <th></th>\n",
       "      <th></th>\n",
       "      <th></th>\n",
       "      <th></th>\n",
       "      <th></th>\n",
       "      <th></th>\n",
       "      <th></th>\n",
       "      <th></th>\n",
       "      <th></th>\n",
       "    </tr>\n",
       "  </thead>\n",
       "  <tbody>\n",
       "    <tr>\n",
       "      <th>2015-01-01 01:25:00</th>\n",
       "      <td>2015-01-01</td>\n",
       "      <td>504</td>\n",
       "      <td>01:25:00</td>\n",
       "      <td>Thursday</td>\n",
       "      <td>Broadview and Gerrard</td>\n",
       "      <td>Mechanical</td>\n",
       "      <td>9.0</td>\n",
       "      <td>18.0</td>\n",
       "      <td>S/B</td>\n",
       "      <td>4092</td>\n",
       "      <td>2015-01-01 01:25:00</td>\n",
       "    </tr>\n",
       "    <tr>\n",
       "      <th>2015-01-01 01:44:00</th>\n",
       "      <td>2015-01-01</td>\n",
       "      <td>504</td>\n",
       "      <td>01:44:00</td>\n",
       "      <td>Thursday</td>\n",
       "      <td>Roncesvalles and Galley</td>\n",
       "      <td>Held By</td>\n",
       "      <td>14.0</td>\n",
       "      <td>23.0</td>\n",
       "      <td>S/B</td>\n",
       "      <td>4030</td>\n",
       "      <td>2015-01-01 01:44:00</td>\n",
       "    </tr>\n",
       "    <tr>\n",
       "      <th>2015-01-01 02:04:00</th>\n",
       "      <td>2015-01-01</td>\n",
       "      <td>504</td>\n",
       "      <td>02:04:00</td>\n",
       "      <td>Thursday</td>\n",
       "      <td>King and Sherborne</td>\n",
       "      <td>Mechanical</td>\n",
       "      <td>9.0</td>\n",
       "      <td>18.0</td>\n",
       "      <td>E/B</td>\n",
       "      <td>4147</td>\n",
       "      <td>2015-01-01 02:04:00</td>\n",
       "    </tr>\n",
       "    <tr>\n",
       "      <th>2015-01-01 02:12:00</th>\n",
       "      <td>2015-01-01</td>\n",
       "      <td>306</td>\n",
       "      <td>02:12:00</td>\n",
       "      <td>Thursday</td>\n",
       "      <td>Main St. and Upper Gerard</td>\n",
       "      <td>Investigation</td>\n",
       "      <td>29.0</td>\n",
       "      <td>39.0</td>\n",
       "      <td>S/B</td>\n",
       "      <td>4049</td>\n",
       "      <td>2015-01-01 02:12:00</td>\n",
       "    </tr>\n",
       "    <tr>\n",
       "      <th>2015-01-01 05:05:00</th>\n",
       "      <td>2015-01-01</td>\n",
       "      <td>306</td>\n",
       "      <td>05:05:00</td>\n",
       "      <td>Thursday</td>\n",
       "      <td>Gerrard and Sumach</td>\n",
       "      <td>Mechanical</td>\n",
       "      <td>30.0</td>\n",
       "      <td>60.0</td>\n",
       "      <td>W/B</td>\n",
       "      <td>4114</td>\n",
       "      <td>2015-01-01 05:05:00</td>\n",
       "    </tr>\n",
       "  </tbody>\n",
       "</table>\n",
       "</div>"
      ],
      "text/plain": [
       "                    Report Date Route      Time       Day  \\\n",
       "Report Date Time                                            \n",
       "2015-01-01 01:25:00  2015-01-01   504  01:25:00  Thursday   \n",
       "2015-01-01 01:44:00  2015-01-01   504  01:44:00  Thursday   \n",
       "2015-01-01 02:04:00  2015-01-01   504  02:04:00  Thursday   \n",
       "2015-01-01 02:12:00  2015-01-01   306  02:12:00  Thursday   \n",
       "2015-01-01 05:05:00  2015-01-01   306  05:05:00  Thursday   \n",
       "\n",
       "                                      Location       Incident  Min Delay  \\\n",
       "Report Date Time                                                           \n",
       "2015-01-01 01:25:00      Broadview and Gerrard     Mechanical        9.0   \n",
       "2015-01-01 01:44:00    Roncesvalles and Galley        Held By       14.0   \n",
       "2015-01-01 02:04:00         King and Sherborne     Mechanical        9.0   \n",
       "2015-01-01 02:12:00  Main St. and Upper Gerard  Investigation       29.0   \n",
       "2015-01-01 05:05:00         Gerrard and Sumach     Mechanical       30.0   \n",
       "\n",
       "                     Min Gap Direction Vehicle    Report Date Time  \n",
       "Report Date Time                                                    \n",
       "2015-01-01 01:25:00     18.0       S/B    4092 2015-01-01 01:25:00  \n",
       "2015-01-01 01:44:00     23.0       S/B    4030 2015-01-01 01:44:00  \n",
       "2015-01-01 02:04:00     18.0       E/B    4147 2015-01-01 02:04:00  \n",
       "2015-01-01 02:12:00     39.0       S/B    4049 2015-01-01 02:12:00  \n",
       "2015-01-01 05:05:00     60.0       W/B    4114 2015-01-01 05:05:00  "
      ]
     },
     "execution_count": 75,
     "metadata": {},
     "output_type": "execute_result"
    }
   ],
   "source": [
    "# create new column combing date + time (needed for resampling) and make it the index\n",
    "\n",
    "df['Report Date Time'] = pd.to_datetime(df['Report Date'].astype(str) + ' ' + df['Time'].astype(str))\n",
    "df.index = df['Report Date Time']\n",
    "df.head()"
   ]
  },
  {
   "cell_type": "markdown",
   "metadata": {},
   "source": [
    "# Additional data explorations"
   ]
  },
  {
   "cell_type": "code",
   "execution_count": 76,
   "metadata": {},
   "outputs": [
    {
     "name": "stdout",
     "output_type": "stream",
     "text": [
      "Unique Location values: 15691\n",
      "Unique Location values after lcasing: 13263\n"
     ]
    },
    {
     "data": {
      "text/plain": [
       "russell yard                 1805\n",
       "roncy yard                   1385\n",
       "queen and connaught          1158\n",
       "roncesvalles yard            1088\n",
       "roncesvalles and queen       1046\n",
       "leslie barns                  936\n",
       "queen and roncesvalles        846\n",
       "broadview station             827\n",
       "dundas west station           812\n",
       "cne loop                      794\n",
       "broadview stn                 667\n",
       "humber loop                   625\n",
       "broadview and queen           622\n",
       "queen at connaught            573\n",
       "spadina and king              519\n",
       "neville loop                  498\n",
       "main station                  495\n",
       "bathurst station              488\n",
       "bingham loop                  488\n",
       "king and spadina              451\n",
       "dundas west stn               443\n",
       "coxwell and gerrard           437\n",
       "roncesvalles yard.            435\n",
       "queen and broadview           423\n",
       "spadina station               415\n",
       "broadview and dundas          351\n",
       "queen at roncesvalles         346\n",
       "long branch loop              332\n",
       "exhibition loop               318\n",
       "longbranch loop               317\n",
       "                             ... \n",
       "queen and church              147\n",
       "parliament                    143\n",
       "springhurst loop              139\n",
       "queen and dufferin            137\n",
       "queensway at roncesvalles     135\n",
       "union station                 134\n",
       "russell carhouse              134\n",
       "st clair station              133\n",
       "college and spadina           132\n",
       "roncesvalles & queen          131\n",
       "dundas and broadview          131\n",
       "dundas and bathurst           131\n",
       "king and church               129\n",
       "queen and shaw                128\n",
       "roncesvalles carhouse         128\n",
       "dundas and parliament         127\n",
       "roncy                         126\n",
       "bathurst and dundas           122\n",
       "spadina/king                  119\n",
       "broadview and danforth        118\n",
       "russel yard                   117\n",
       "leslie yard                   114\n",
       "queen st e and leslie st      113\n",
       "spadina and dundas            113\n",
       "spadina at king               113\n",
       "spadina and queens quay       113\n",
       "king and shaw                 112\n",
       "queen and coxwell             109\n",
       "queen at broadview            108\n",
       "distillery loop               106\n",
       "Name: Location, Length: 100, dtype: int64"
      ]
     },
     "execution_count": 76,
     "metadata": {},
     "output_type": "execute_result"
    }
   ],
   "source": [
    "# the values in the location column were entered in free form, so there are several problems to fix\n",
    "\n",
    "# start by counting the distinct values in location column before and after lowercasing\n",
    "print(\"Unique Location values:\",df['Location'].nunique())\n",
    "df['Location'] = df['Location'].str.lower()\n",
    "print(\"Unique Location values after lcasing:\",df['Location'].nunique())\n",
    "df['Location'].value_counts().head(100)"
   ]
  },
  {
   "cell_type": "code",
   "execution_count": 77,
   "metadata": {},
   "outputs": [
    {
     "name": "stdout",
     "output_type": "stream",
     "text": [
      "Unique Location values before substitutions: 13263\n",
      "Unique Location values after substitutions: 10936\n"
     ]
    },
    {
     "data": {
      "text/plain": [
       "roncesvalles yard               3951\n",
       "russell yard                    2050\n",
       "queen and connaught             1994\n",
       "roncesvalles and queen          1896\n",
       "broadview station               1494\n",
       "queen and roncesvalles          1392\n",
       "dundas west station             1255\n",
       "leslie yard                     1052\n",
       "broadview and queen              805\n",
       "cne loop                         794\n",
       "spadina and king                 770\n",
       "bathurst station                 768\n",
       "king and spadina                 727\n",
       "main station                     655\n",
       "longbranch loop                  649\n",
       "queen and broadview              641\n",
       "spadina station                  626\n",
       "humber loop                      625\n",
       "broadview and dundas             586\n",
       "coxwell and gerrard              525\n",
       "neville loop                     498\n",
       "bingham loop                     488\n",
       "st clair west station            477\n",
       "king and bathurst                441\n",
       "broadview and gerrard            418\n",
       "bathurst and king                411\n",
       "howard park and roncesvalles     405\n",
       "bathurst and fleet               349\n",
       "gerrard and coxwell              342\n",
       "roncesvalles and howard park     319\n",
       "exhibition loop                  318\n",
       "high park loop                   316\n",
       "queen and spadina                311\n",
       "queen and parliament             307\n",
       "neville park loop                299\n",
       "gunns loop                       292\n",
       "king and church                  286\n",
       "king and parliament              285\n",
       "fleet loop                       278\n",
       "st clair station                 270\n",
       "missing                          270\n",
       "king and dufferin                269\n",
       "queen and bathurst               268\n",
       "bathurst and st clair            267\n",
       "dundas and broadview             264\n",
       "spadina and queen                260\n",
       "queen and church                 257\n",
       "st clair and bathurst            246\n",
       "gerrard and broadview            243\n",
       "king and sumach                  240\n",
       "Name: Location, dtype: int64"
      ]
     },
     "execution_count": 77,
     "metadata": {},
     "output_type": "execute_result"
    }
   ],
   "source": [
    "# make substitutions to eliminate obvious duplicate tokens, counting unique values before and after\n",
    "# need to add a function to flip \"x and y\" consistently\n",
    "print(\"Unique Location values before substitutions:\",df['Location'].nunique())\n",
    "df['Location'] = df['Location'].replace({'broadviewstation':'broadview station',' at ':' and ',' stn':' station','/':' and ','roncy':'roncesvalles','carhouse':'yard','yard.':'yard','st. clair':'st clair','ronc. ':'roncesvalles ','long branch':'longbranch','garage':'yard','barns':'yard',' & ':' and '}, regex=True)\n",
    "print(\"Unique Location values after substitutions:\",df['Location'].nunique())\n",
    "df['Location'].value_counts().head(50)"
   ]
  },
  {
   "cell_type": "code",
   "execution_count": 95,
   "metadata": {},
   "outputs": [
    {
     "data": {
      "text/plain": [
       "russell yard                        301\n",
       "queen and connaught                 194\n",
       "leslie yard                         179\n",
       "broadview station                   148\n",
       "humber loop                         143\n",
       "dundas west station                 114\n",
       "high park station                    86\n",
       "broadview and queen                  82\n",
       "king and spadina                     79\n",
       "king and bathurst                    65\n",
       "queen and broadview                  63\n",
       "cne loop                             58\n",
       "bathurst station                     52\n",
       "neville loop                         50\n",
       "coxwell and gerrard                  47\n",
       "st clair west station                46\n",
       "leslie yard yard                     46\n",
       "spadina and king                     44\n",
       "longbranch loop                      43\n",
       "victoria park station                42\n",
       "queen and church                     38\n",
       "queen and roncesvalles               36\n",
       "bingham loop                         35\n",
       "neville park loop                    34\n",
       "bathurst and fleet                   34\n",
       "dws                                  33\n",
       "king and church                      32\n",
       "queen and coxwell                    32\n",
       "connaught and queen                  31\n",
       "main station                         30\n",
       "                                   ... \n",
       "queen route                          20\n",
       "gunns loop                           20\n",
       "queen and yonge                      19\n",
       "king and parliament                  19\n",
       "gerrard and broadview                19\n",
       "broadview and dundas                 18\n",
       "queen and york                       17\n",
       "dundas and bathurst                  17\n",
       "lakeshore and legion                 16\n",
       "queen and mccaul                     16\n",
       "st clair and bathurst                16\n",
       "cannaught and queen                  15\n",
       "spadina and queens quay              15\n",
       "college and spadina                  15\n",
       "high park loop                       15\n",
       "queen and shaw                       15\n",
       "college and bay                      15\n",
       "spadina and queen                    15\n",
       "queens quay and spadina              15\n",
       "king and jarvis                      15\n",
       "college and bathurst                 14\n",
       "missing                              14\n",
       "queen and carlaw                     14\n",
       "dundas west to broadview station     14\n",
       "union station                        14\n",
       "queen and victoria                   14\n",
       "queen and sherbourne                 14\n",
       "queen and sumach                     13\n",
       "charlotte loop                       13\n",
       "queen and leslie                     13\n",
       "Name: Location, Length: 80, dtype: int64"
      ]
     },
     "execution_count": 95,
     "metadata": {},
     "output_type": "execute_result"
    }
   ],
   "source": [
    "df['Location'].value_counts().head(80)"
   ]
  },
  {
   "cell_type": "code",
   "execution_count": 85,
   "metadata": {},
   "outputs": [
    {
     "name": "stdout",
     "output_type": "stream",
     "text": [
      "conj length 5\n",
      "end_first_street 4\n",
      "start_second_street 9\n",
      "first_street king\n",
      "second_street john\n",
      "a ordered john and king\n"
     ]
    }
   ],
   "source": [
    "intersection = \"king and john\"\n",
    "conj = \" and \"\n",
    "tester.find(\" and \")\n",
    "end_first_street = intersection.find(conj)\n",
    "start_second_street = intersection.find(conj) + len(conj)\n",
    "print(\"conj length\",len(conj))\n",
    "print(\"end_first_street\",end_first_street)\n",
    "print(\"start_second_street\",start_second_street)\n",
    "first_street = intersection[0:end_first_street]\n",
    "second_street = intersection[start_second_street:]\n",
    "print(\"first_street\",first_street)\n",
    "print(\"second_street\",second_street)\n",
    "alpha_ordered_intersection = min(first_street,second_street)+conj+max(first_street,second_street)\n",
    "print(\"a ordered\",alpha_ordered_intersection)\n"
   ]
  },
  {
   "cell_type": "code",
   "execution_count": 97,
   "metadata": {},
   "outputs": [],
   "source": [
    "def order_location(intersection):\n",
    "    # for any string with the format \"* and *\" if the value before the and is alphabetically\n",
    "    # higher than the value after the and, swap the values\n",
    "    conj = \" and \"\n",
    "    alpha_ordered_intersection = intersection\n",
    "    if conj in intersection:\n",
    "        end_first_street = intersection.find(conj)\n",
    "        if (end_first_street > 0) and (len(intersection) > (end_first_street + len(conj))):\n",
    "            start_second_street = intersection.find(conj) + len(conj)\n",
    "            first_street = intersection[0:end_first_street]\n",
    "            second_street = intersection[start_second_street:]\n",
    "            alpha_ordered_intersection = min(first_street,second_street)+conj+max(first_street,second_street)\n",
    "    return(alpha_ordered_intersection)\n",
    "                                       \n",
    "                                       \n",
    "           \n",
    "                                       \n",
    "        "
   ]
  },
  {
   "cell_type": "code",
   "execution_count": 99,
   "metadata": {},
   "outputs": [
    {
     "name": "stdout",
     "output_type": "stream",
     "text": [
      "sorted king and roncy\n"
     ]
    }
   ],
   "source": [
    "sorted = order_location(\"roncy and king\")\n",
    "print(\"sorted\",sorted)"
   ]
  },
  {
   "cell_type": "code",
   "execution_count": 100,
   "metadata": {},
   "outputs": [
    {
     "name": "stdout",
     "output_type": "stream",
     "text": [
      "Unique Location values: 10936\n",
      "Unique Location values after lcasing: 10125\n"
     ]
    },
    {
     "data": {
      "text/plain": [
       "roncesvalles yard               3951\n",
       "queen and roncesvalles          3288\n",
       "connaught and queen             2221\n",
       "russell yard                    2050\n",
       "king and spadina                1497\n",
       "broadview station               1494\n",
       "broadview and queen             1446\n",
       "dundas west station             1255\n",
       "leslie yard                     1052\n",
       "coxwell and gerrard              867\n",
       "bathurst and king                852\n",
       "broadview and dundas             850\n",
       "cne loop                         794\n",
       "bathurst station                 768\n",
       "howard park and roncesvalles     724\n",
       "broadview and gerrard            661\n",
       "main station                     655\n",
       "longbranch loop                  649\n",
       "spadina station                  626\n",
       "humber loop                      625\n",
       "queen and spadina                571\n",
       "bathurst and st clair            513\n",
       "neville loop                     498\n",
       "bingham loop                     488\n",
       "bathurst and queen               479\n",
       "bathurst and fleet               478\n",
       "st clair west station            477\n",
       "bathurst and dundas              453\n",
       "parliament and queen             413\n",
       "king and parliament              401\n",
       "                                ... \n",
       "queen and river                  169\n",
       "birchmount yard                  167\n",
       "college and lansdowne            162\n",
       "lansdowne and st clair           161\n",
       "sunnyside loop                   161\n",
       "leslie and queen                 161\n",
       "dundas and yonge                 160\n",
       "mccaul and queen                 160\n",
       "dundas and howard park           157\n",
       "john and king                    157\n",
       "king and yonge                   157\n",
       "queen and university             156\n",
       "high park station                154\n",
       "bay and dundas                   152\n",
       "parliament                       143\n",
       "king and portland                141\n",
       "bathurst and st.clair            139\n",
       "lakeshore and parklawn           139\n",
       "springhurst loop                 139\n",
       "russel yard                      138\n",
       "kipling and lakeshore            138\n",
       "queen and victoria               136\n",
       "jarvis and king                  135\n",
       "scw station                      135\n",
       "kingston rd and queen            134\n",
       "dundas and ossington             133\n",
       "king and queen                   132\n",
       "kingston and queen               130\n",
       "king and university              127\n",
       "dundas and university            126\n",
       "Name: Location, Length: 100, dtype: int64"
      ]
     },
     "execution_count": 100,
     "metadata": {},
     "output_type": "execute_result"
    }
   ],
   "source": [
    "# put intersection values into consistent order\n",
    "print(\"Unique Location values:\",df['Location'].nunique())\n",
    "df['Location'] = df['Location'].apply(lambda x:order_location(x))\n",
    "print(\"Unique Location values after lcasing:\",df['Location'].nunique())\n",
    "df['Location'].value_counts().head(100)"
   ]
  },
  {
   "cell_type": "code",
   "execution_count": 101,
   "metadata": {},
   "outputs": [
    {
     "name": "stdout",
     "output_type": "stream",
     "text": [
      "route count 106\n"
     ]
    },
    {
     "data": {
      "text/plain": [
       "501    21160\n",
       "504    15862\n",
       "506    11361\n",
       "505     8947\n",
       "512     6354\n",
       "510     5291\n",
       "511     4208\n",
       "509     2817\n",
       "514     2086\n",
       "502     1746\n",
       "503     1027\n",
       "301      891\n",
       "306      356\n",
       "705      209\n",
       "304      205\n",
       "805      192\n",
       "508      137\n",
       "535       53\n",
       "317       52\n",
       "50        50\n",
       "310       49\n",
       "807       23\n",
       "5         22\n",
       "51        21\n",
       "1         20\n",
       "4         11\n",
       "500       11\n",
       "8          8\n",
       "3          8\n",
       "11         8\n",
       "       ...  \n",
       "595        2\n",
       "57         1\n",
       "111        1\n",
       "403        1\n",
       "375        1\n",
       "205        1\n",
       "804        1\n",
       "519        1\n",
       "31         1\n",
       "19         1\n",
       "53         1\n",
       "999        1\n",
       "13         1\n",
       "85         1\n",
       "513        1\n",
       "204        1\n",
       "68         1\n",
       "594        1\n",
       "86         1\n",
       "63         1\n",
       "93         1\n",
       "45         1\n",
       "81         1\n",
       "60         1\n",
       "210        1\n",
       "28         1\n",
       "21         1\n",
       "830        1\n",
       "405        1\n",
       "701        1\n",
       "Name: Route, Length: 106, dtype: int64"
      ]
     },
     "execution_count": 101,
     "metadata": {},
     "output_type": "execute_result"
    }
   ],
   "source": [
    "print(\"route count\",df['Route'].nunique())\n",
    "df['Route'].value_counts()"
   ]
  },
  {
   "cell_type": "code",
   "execution_count": 102,
   "metadata": {},
   "outputs": [],
   "source": [
    "def check_route (x):\n",
    "    if x in valid_routes:\n",
    "        return(x)\n",
    "    else:\n",
    "        return(\"bad route\")"
   ]
  },
  {
   "cell_type": "code",
   "execution_count": 103,
   "metadata": {},
   "outputs": [],
   "source": [
    "# apply(lambda x:findEmpty(x) df['Route'].apply(lambda x:check_route(x))\n",
    "df['Route'] = df['Route'].apply(lambda x:check_route(x))"
   ]
  },
  {
   "cell_type": "code",
   "execution_count": 104,
   "metadata": {},
   "outputs": [
    {
     "name": "stdout",
     "output_type": "stream",
     "text": [
      "route count 15\n"
     ]
    },
    {
     "data": {
      "text/plain": [
       "501          21160\n",
       "504          15862\n",
       "506          11361\n",
       "505           8947\n",
       "512           6354\n",
       "510           5291\n",
       "511           4208\n",
       "bad route     3091\n",
       "509           2817\n",
       "502           1746\n",
       "503           1027\n",
       "301            891\n",
       "306            356\n",
       "304            205\n",
       "310             49\n",
       "Name: Route, dtype: int64"
      ]
     },
     "execution_count": 104,
     "metadata": {},
     "output_type": "execute_result"
    }
   ],
   "source": [
    "print(\"route count\",df['Route'].nunique())\n",
    "df['Route'].value_counts()"
   ]
  },
  {
   "cell_type": "code",
   "execution_count": 105,
   "metadata": {},
   "outputs": [
    {
     "data": {
      "text/plain": [
       "5552"
      ]
     },
     "execution_count": 105,
     "metadata": {},
     "output_type": "execute_result"
    }
   ],
   "source": [
    "df[df.Vehicle == 'n'].shape[0]"
   ]
  },
  {
   "cell_type": "code",
   "execution_count": 106,
   "metadata": {},
   "outputs": [
    {
     "data": {
      "text/plain": [
       "83365"
      ]
     },
     "execution_count": 106,
     "metadata": {},
     "output_type": "execute_result"
    }
   ],
   "source": [
    "df['Vehicle'].shape[0]"
   ]
  },
  {
   "cell_type": "code",
   "execution_count": 107,
   "metadata": {},
   "outputs": [],
   "source": [
    "def check_vehicle (x):\n",
    "    if str.isdigit(x):\n",
    "        if int(x) >= 4000 and int(x) < 4600:\n",
    "            return x\n",
    "        else:\n",
    "            return(\"bad vehicle\")\n",
    "    else:\n",
    "        return(\"bad vehicle\")"
   ]
  },
  {
   "cell_type": "code",
   "execution_count": 108,
   "metadata": {},
   "outputs": [],
   "source": [
    "def check_direction (x):\n",
    "    if x in valid_directions:\n",
    "        return(x)\n",
    "    else:\n",
    "        return(\"bad direction\")"
   ]
  },
  {
   "cell_type": "code",
   "execution_count": 109,
   "metadata": {},
   "outputs": [
    {
     "name": "stdout",
     "output_type": "stream",
     "text": [
      "vehicle count 2438\n"
     ]
    },
    {
     "data": {
      "text/plain": [
       "bad vehicle    18467\n",
       "4074             330\n",
       "4199             320\n",
       "4101             316\n",
       "4209             314\n",
       "4229             308\n",
       "4204             307\n",
       "4176             306\n",
       "4247             304\n",
       "4144             302\n",
       "4218             300\n",
       "4115             299\n",
       "4050             299\n",
       "4200             298\n",
       "4001             297\n",
       "4147             294\n",
       "4222             293\n",
       "4185             291\n",
       "4149             290\n",
       "4215             288\n",
       "4141             288\n",
       "4152             287\n",
       "4210             287\n",
       "4048             286\n",
       "4208             286\n",
       "4110             286\n",
       "4143             284\n",
       "4181             283\n",
       "4217             282\n",
       "4226             280\n",
       "               ...  \n",
       "4509              12\n",
       "4572              10\n",
       "4511              10\n",
       "4516              10\n",
       "4520              10\n",
       "4523               9\n",
       "4401               8\n",
       "4499               8\n",
       "4519               6\n",
       "4522               6\n",
       "4478               5\n",
       "4008               3\n",
       "4231               3\n",
       "4299               3\n",
       "4521               3\n",
       "4063               3\n",
       "4524               2\n",
       "4263               2\n",
       "4357               2\n",
       "4252               2\n",
       "4007               2\n",
       "4009               2\n",
       "4258               1\n",
       "4284               1\n",
       "4277               1\n",
       "4006               1\n",
       "4255               1\n",
       "4397               1\n",
       "4526               1\n",
       "4296               1\n",
       "Name: Vehicle, Length: 390, dtype: int64"
      ]
     },
     "execution_count": 109,
     "metadata": {},
     "output_type": "execute_result"
    }
   ],
   "source": [
    "print(\"vehicle count\",df['Vehicle'].nunique())\n",
    "df['Vehicle'] = df['Vehicle'].apply(lambda x:check_vehicle(x))\n",
    "df['Vehicle'].value_counts()"
   ]
  },
  {
   "cell_type": "code",
   "execution_count": 110,
   "metadata": {},
   "outputs": [
    {
     "data": {
      "text/plain": [
       "18467"
      ]
     },
     "execution_count": 110,
     "metadata": {},
     "output_type": "execute_result"
    }
   ],
   "source": [
    "df[df.Vehicle == 'bad vehicle'].shape[0]"
   ]
  },
  {
   "cell_type": "code",
   "execution_count": 111,
   "metadata": {},
   "outputs": [
    {
     "data": {
      "text/plain": [
       "83365"
      ]
     },
     "execution_count": 111,
     "metadata": {},
     "output_type": "execute_result"
    }
   ],
   "source": [
    "df['Direction'].shape[0]"
   ]
  },
  {
   "cell_type": "code",
   "execution_count": 112,
   "metadata": {},
   "outputs": [],
   "source": [
    "# apply(lambda x:findEmpty(x) df['Route'].apply(lambda x:check_route(x))\n",
    "df['Direction'] = df['Direction'].apply(lambda x:check_direction(x))"
   ]
  },
  {
   "cell_type": "code",
   "execution_count": 113,
   "metadata": {},
   "outputs": [
    {
     "name": "stdout",
     "output_type": "stream",
     "text": [
      "direction count 5\n"
     ]
    },
    {
     "data": {
      "text/plain": [
       "W/B              32466\n",
       "E/B              32343\n",
       "bad direction     6871\n",
       "N/B               6006\n",
       "S/B               5679\n",
       "Name: Direction, dtype: int64"
      ]
     },
     "execution_count": 113,
     "metadata": {},
     "output_type": "execute_result"
    }
   ],
   "source": [
    "print(\"direction count\",df['Direction'].nunique())\n",
    "df['Direction'].value_counts()"
   ]
  },
  {
   "cell_type": "code",
   "execution_count": 114,
   "metadata": {},
   "outputs": [],
   "source": [
    "# pickle the cleansed dataframe\n",
    "file_name = path + pickled_output_dataframe\n",
    "df.to_pickle(file_name)"
   ]
  },
  {
   "cell_type": "code",
   "execution_count": 115,
   "metadata": {},
   "outputs": [
    {
     "data": {
      "text/html": [
       "<div>\n",
       "<style scoped>\n",
       "    .dataframe tbody tr th:only-of-type {\n",
       "        vertical-align: middle;\n",
       "    }\n",
       "\n",
       "    .dataframe tbody tr th {\n",
       "        vertical-align: top;\n",
       "    }\n",
       "\n",
       "    .dataframe thead th {\n",
       "        text-align: right;\n",
       "    }\n",
       "</style>\n",
       "<table border=\"1\" class=\"dataframe\">\n",
       "  <thead>\n",
       "    <tr style=\"text-align: right;\">\n",
       "      <th></th>\n",
       "      <th>Report Date</th>\n",
       "      <th>Route</th>\n",
       "      <th>Time</th>\n",
       "      <th>Day</th>\n",
       "      <th>Location</th>\n",
       "      <th>Incident</th>\n",
       "      <th>Min Delay</th>\n",
       "      <th>Min Gap</th>\n",
       "      <th>Direction</th>\n",
       "      <th>Vehicle</th>\n",
       "      <th>Report Date Time</th>\n",
       "    </tr>\n",
       "    <tr>\n",
       "      <th>Report Date Time</th>\n",
       "      <th></th>\n",
       "      <th></th>\n",
       "      <th></th>\n",
       "      <th></th>\n",
       "      <th></th>\n",
       "      <th></th>\n",
       "      <th></th>\n",
       "      <th></th>\n",
       "      <th></th>\n",
       "      <th></th>\n",
       "      <th></th>\n",
       "    </tr>\n",
       "  </thead>\n",
       "  <tbody>\n",
       "    <tr>\n",
       "      <th>2015-01-01 01:25:00</th>\n",
       "      <td>2015-01-01</td>\n",
       "      <td>504</td>\n",
       "      <td>01:25:00</td>\n",
       "      <td>Thursday</td>\n",
       "      <td>broadview and gerrard</td>\n",
       "      <td>Mechanical</td>\n",
       "      <td>9.0</td>\n",
       "      <td>18.0</td>\n",
       "      <td>S/B</td>\n",
       "      <td>4092</td>\n",
       "      <td>2015-01-01 01:25:00</td>\n",
       "    </tr>\n",
       "    <tr>\n",
       "      <th>2015-01-01 01:44:00</th>\n",
       "      <td>2015-01-01</td>\n",
       "      <td>504</td>\n",
       "      <td>01:44:00</td>\n",
       "      <td>Thursday</td>\n",
       "      <td>galley and roncesvalles</td>\n",
       "      <td>Held By</td>\n",
       "      <td>14.0</td>\n",
       "      <td>23.0</td>\n",
       "      <td>S/B</td>\n",
       "      <td>4030</td>\n",
       "      <td>2015-01-01 01:44:00</td>\n",
       "    </tr>\n",
       "    <tr>\n",
       "      <th>2015-01-01 02:04:00</th>\n",
       "      <td>2015-01-01</td>\n",
       "      <td>504</td>\n",
       "      <td>02:04:00</td>\n",
       "      <td>Thursday</td>\n",
       "      <td>king and sherborne</td>\n",
       "      <td>Mechanical</td>\n",
       "      <td>9.0</td>\n",
       "      <td>18.0</td>\n",
       "      <td>E/B</td>\n",
       "      <td>4147</td>\n",
       "      <td>2015-01-01 02:04:00</td>\n",
       "    </tr>\n",
       "    <tr>\n",
       "      <th>2015-01-01 02:12:00</th>\n",
       "      <td>2015-01-01</td>\n",
       "      <td>306</td>\n",
       "      <td>02:12:00</td>\n",
       "      <td>Thursday</td>\n",
       "      <td>main st. and upper gerard</td>\n",
       "      <td>Investigation</td>\n",
       "      <td>29.0</td>\n",
       "      <td>39.0</td>\n",
       "      <td>S/B</td>\n",
       "      <td>4049</td>\n",
       "      <td>2015-01-01 02:12:00</td>\n",
       "    </tr>\n",
       "    <tr>\n",
       "      <th>2015-01-01 05:05:00</th>\n",
       "      <td>2015-01-01</td>\n",
       "      <td>306</td>\n",
       "      <td>05:05:00</td>\n",
       "      <td>Thursday</td>\n",
       "      <td>gerrard and sumach</td>\n",
       "      <td>Mechanical</td>\n",
       "      <td>30.0</td>\n",
       "      <td>60.0</td>\n",
       "      <td>W/B</td>\n",
       "      <td>4114</td>\n",
       "      <td>2015-01-01 05:05:00</td>\n",
       "    </tr>\n",
       "  </tbody>\n",
       "</table>\n",
       "</div>"
      ],
      "text/plain": [
       "                    Report Date Route      Time       Day  \\\n",
       "Report Date Time                                            \n",
       "2015-01-01 01:25:00  2015-01-01   504  01:25:00  Thursday   \n",
       "2015-01-01 01:44:00  2015-01-01   504  01:44:00  Thursday   \n",
       "2015-01-01 02:04:00  2015-01-01   504  02:04:00  Thursday   \n",
       "2015-01-01 02:12:00  2015-01-01   306  02:12:00  Thursday   \n",
       "2015-01-01 05:05:00  2015-01-01   306  05:05:00  Thursday   \n",
       "\n",
       "                                      Location       Incident  Min Delay  \\\n",
       "Report Date Time                                                           \n",
       "2015-01-01 01:25:00      broadview and gerrard     Mechanical        9.0   \n",
       "2015-01-01 01:44:00    galley and roncesvalles        Held By       14.0   \n",
       "2015-01-01 02:04:00         king and sherborne     Mechanical        9.0   \n",
       "2015-01-01 02:12:00  main st. and upper gerard  Investigation       29.0   \n",
       "2015-01-01 05:05:00         gerrard and sumach     Mechanical       30.0   \n",
       "\n",
       "                     Min Gap Direction Vehicle    Report Date Time  \n",
       "Report Date Time                                                    \n",
       "2015-01-01 01:25:00     18.0       S/B    4092 2015-01-01 01:25:00  \n",
       "2015-01-01 01:44:00     23.0       S/B    4030 2015-01-01 01:44:00  \n",
       "2015-01-01 02:04:00     18.0       E/B    4147 2015-01-01 02:04:00  \n",
       "2015-01-01 02:12:00     39.0       S/B    4049 2015-01-01 02:12:00  \n",
       "2015-01-01 05:05:00     60.0       W/B    4114 2015-01-01 05:05:00  "
      ]
     },
     "execution_count": 115,
     "metadata": {},
     "output_type": "execute_result"
    }
   ],
   "source": [
    "dfn = pd.read_pickle(file_name)\n",
    "dfn.head()"
   ]
  },
  {
   "cell_type": "code",
   "execution_count": 117,
   "metadata": {},
   "outputs": [
    {
     "name": "stdout",
     "output_type": "stream",
     "text": [
      "Collecting pixiedust\n",
      "\u001b[?25l  Downloading https://files.pythonhosted.org/packages/7c/01/d2084c07fdc05aafeaecff74f5888280c55193cd16c3572bbcee12bbc008/pixiedust-1.1.15.tar.gz (197kB)\n",
      "\u001b[K    100% |████████████████████████████████| 204kB 21.3MB/s ta 0:00:01\n",
      "\u001b[?25hCollecting mpld3 (from pixiedust)\n",
      "\u001b[?25l  Downloading https://files.pythonhosted.org/packages/91/95/a52d3a83d0a29ba0d6898f6727e9858fe7a43f6c2ce81a5fe7e05f0f4912/mpld3-0.3.tar.gz (788kB)\n",
      "\u001b[K    100% |████████████████████████████████| 798kB 23.5MB/s ta 0:00:01\n",
      "\u001b[?25hCollecting lxml (from pixiedust)\n",
      "\u001b[?25l  Downloading https://files.pythonhosted.org/packages/79/ae/35f5dbbac8efec8b8d1300858f1ce0b453ea2ff644abe6b5c5c358013dfa/lxml-4.3.2-cp36-cp36m-manylinux1_x86_64.whl (5.7MB)\n",
      "\u001b[K    100% |████████████████████████████████| 5.7MB 5.8MB/s eta 0:00:01\n",
      "\u001b[?25hCollecting geojson (from pixiedust)\n",
      "  Downloading https://files.pythonhosted.org/packages/f1/34/bc3a65faabce27a7faa755ab08d811207a4fc438f77ef09c229fc022d778/geojson-2.4.1-py2.py3-none-any.whl\n",
      "Collecting astunparse (from pixiedust)\n",
      "  Downloading https://files.pythonhosted.org/packages/2e/37/5dd0dd89b87bb5f0f32a7e775458412c52d78f230ab8d0c65df6aabc4479/astunparse-1.6.2-py2.py3-none-any.whl\n",
      "Collecting markdown (from pixiedust)\n",
      "\u001b[?25l  Downloading https://files.pythonhosted.org/packages/7a/6b/5600647404ba15545ec37d2f7f58844d690baf2f81f3a60b862e48f29287/Markdown-3.0.1-py2.py3-none-any.whl (89kB)\n",
      "\u001b[K    100% |████████████████████████████████| 92kB 26.7MB/s ta 0:00:01\n",
      "\u001b[?25hCollecting colour (from pixiedust)\n",
      "  Downloading https://files.pythonhosted.org/packages/74/46/e81907704ab203206769dee1385dc77e1407576ff8f50a0681d0a6b541be/colour-0.1.5-py2.py3-none-any.whl\n",
      "Requirement already satisfied: requests in /opt/conda/envs/fastai/lib/python3.6/site-packages (from pixiedust) (2.21.0)\n",
      "Requirement already satisfied: wheel<1.0,>=0.23.0 in /opt/conda/envs/fastai/lib/python3.6/site-packages (from astunparse->pixiedust) (0.32.3)\n",
      "Requirement already satisfied: six<2.0,>=1.6.1 in /opt/conda/envs/fastai/lib/python3.6/site-packages (from astunparse->pixiedust) (1.12.0)\n",
      "Requirement already satisfied: chardet<3.1.0,>=3.0.2 in /opt/conda/envs/fastai/lib/python3.6/site-packages (from requests->pixiedust) (3.0.4)\n",
      "Requirement already satisfied: urllib3<1.25,>=1.21.1 in /opt/conda/envs/fastai/lib/python3.6/site-packages (from requests->pixiedust) (1.24.1)\n",
      "Requirement already satisfied: idna<2.9,>=2.5 in /opt/conda/envs/fastai/lib/python3.6/site-packages (from requests->pixiedust) (2.8)\n",
      "Requirement already satisfied: certifi>=2017.4.17 in /opt/conda/envs/fastai/lib/python3.6/site-packages (from requests->pixiedust) (2018.11.29)\n",
      "Building wheels for collected packages: pixiedust, mpld3\n",
      "  Running setup.py bdist_wheel for pixiedust ... \u001b[?25ldone\n",
      "\u001b[?25h  Stored in directory: /root/.cache/pip/wheels/ee/53/a8/7a2ed392a416ec3eaa4eef4f49c2e9c6c9587c8e3cec9ec3a6\n",
      "  Running setup.py bdist_wheel for mpld3 ... \u001b[?25ldone\n",
      "\u001b[?25h  Stored in directory: /root/.cache/pip/wheels/c0/47/fb/8a64f89aecfe0059830479308ad42d62e898a3e3cefdf6ba28\n",
      "Successfully built pixiedust mpld3\n",
      "Installing collected packages: mpld3, lxml, geojson, astunparse, markdown, colour, pixiedust\n",
      "Successfully installed astunparse-1.6.2 colour-0.1.5 geojson-2.4.1 lxml-4.3.2 markdown-3.0.1 mpld3-0.3 pixiedust-1.1.15\n"
     ]
    }
   ],
   "source": [
    "!pip install pixiedust"
   ]
  },
  {
   "cell_type": "code",
   "execution_count": 118,
   "metadata": {},
   "outputs": [
    {
     "name": "stdout",
     "output_type": "stream",
     "text": [
      "Pixiedust database opened successfully\n",
      "Table VERSION_TRACKER created successfully\n",
      "Table METRICS_TRACKER created successfully\n",
      "\n",
      "Share anonymous install statistics? (opt-out instructions)\n",
      "\n",
      "PixieDust will record metadata on its environment the next time the package is installed or updated. The data is anonymized and aggregated to help plan for future releases, and records only the following values:\n",
      "\n",
      "{\n",
      "   \"data_sent\": currentDate,\n",
      "   \"runtime\": \"python\",\n",
      "   \"application_version\": currentPixiedustVersion,\n",
      "   \"space_id\": nonIdentifyingUniqueId,\n",
      "   \"config\": {\n",
      "       \"repository_id\": \"https://github.com/ibm-watson-data-lab/pixiedust\",\n",
      "       \"target_runtimes\": [\"Data Science Experience\"],\n",
      "       \"event_id\": \"web\",\n",
      "       \"event_organizer\": \"dev-journeys\"\n",
      "   }\n",
      "}\n",
      "You can opt out by calling pixiedust.optOut() in a new cell.\n"
     ]
    },
    {
     "data": {
      "text/html": [
       "\n",
       "        <div style=\"margin:10px\">\n",
       "            <a href=\"https://github.com/ibm-watson-data-lab/pixiedust\" target=\"_new\">\n",
       "                <img src=\"https://github.com/ibm-watson-data-lab/pixiedust/raw/master/docs/_static/pd_icon32.png\" style=\"float:left;margin-right:10px\"/>\n",
       "            </a>\n",
       "            <span>Pixiedust version 1.1.15</span>\n",
       "        </div>\n",
       "        "
      ],
      "text/plain": [
       "<IPython.core.display.HTML object>"
      ]
     },
     "metadata": {},
     "output_type": "display_data"
    },
    {
     "name": "stdout",
     "output_type": "stream",
     "text": [
      "\u001b[31mPixiedust runtime updated. Please restart kernel\u001b[0m\n",
      "Table USER_PREFERENCES created successfully\n",
      "Table service_connections created successfully\n"
     ]
    }
   ],
   "source": [
    "import pixiedust"
   ]
  },
  {
   "cell_type": "code",
   "execution_count": 119,
   "metadata": {
    "pixiedust": {
     "displayParams": {
      "binsize": "23",
      "chartsize": "70",
      "handlerId": "barChart",
      "keyFields": "Route",
      "mapboxtoken": "pk.eyJ1Ijoicnlhbm1hcmsiLCJhIjoiY2pvM2JnZmE0MHY5dzNxcXM0Zmw3c2RwZSJ9.k-PhU8qMVztXtdyuX2Yjpw",
      "sortby": "Values DESC",
      "stretch": "false",
      "tableFields": "Day",
      "valueFields": "Min Delay"
     }
    },
    "scrolled": false
   },
   "outputs": [
    {
     "data": {
      "text/html": [
       "<style type=\"text/css\">.pd_warning{display:none;}</style><div class=\"pd_warning\"><em>Hey, there's something awesome here! To see it, open this notebook outside GitHub, in a viewer like Jupyter</em></div>\n",
       "        <div class=\"pd_save is-viewer-good\" style=\"padding-right:10px;text-align: center;line-height:initial !important;font-size: xx-large;font-weight: 500;color: coral;\">\n",
       "            \n",
       "        </div>\n",
       "    <div id=\"chartFigure0679c812\" class=\"pd_save is-viewer-good\" style=\"overflow-x:auto\">\n",
       "            \n",
       "                    \n",
       "                            <center><img style=\"max-width:initial !important\" src=\"data:image/png;base64,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\" class=\"pd_save\"></center>\n",
       "                        \n",
       "                    \n",
       "                \n",
       "        </div>"
      ],
      "text/plain": [
       "<IPython.core.display.HTML object>"
      ]
     },
     "metadata": {},
     "output_type": "display_data"
    }
   ],
   "source": [
    "display(df)"
   ]
  }
 ],
 "metadata": {
  "kernelspec": {
   "display_name": "Python 3",
   "language": "python",
   "name": "python3"
  },
  "language_info": {
   "codemirror_mode": {
    "name": "ipython",
    "version": 3
   },
   "file_extension": ".py",
   "mimetype": "text/x-python",
   "name": "python",
   "nbconvert_exporter": "python",
   "pygments_lexer": "ipython3",
   "version": "3.6.7"
  }
 },
 "nbformat": 4,
 "nbformat_minor": 2
}
