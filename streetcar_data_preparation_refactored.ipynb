{
 "cells": [
  {
   "cell_type": "markdown",
   "metadata": {},
   "source": [
    "# Streetcar Delay Prediction - Data Preparation\n",
    "\n",
    "Use dataset covering Toronto Transit Commission (TTC) streetcar delays 2014 - present to predict future delays and come up with recommendations for avoiding delays.\n",
    "\n",
    "Source dataset: https://open.toronto.ca/dataset/ttc-streetcar-delay-data/\n",
    "\n",
    "This notebook contains the common data loading and preparation steps:\n",
    "- load data from all the tabs of all the XLS files into a single dataframe\n",
    "- correct type issues\n",
    "- fix missing values\n",
    "- clean up anomalies in the route, location, direction and vehicle columns"
   ]
  },
  {
   "cell_type": "markdown",
   "metadata": {},
   "source": [
    "# Streetcar routes\n",
    "\n",
    "From https://www.ttc.ca/Routes/Streetcars.jsp\n",
    "\n",
    "<table style=\"border: none\" align=\"left\">\n",
    "   </tr>\n",
    "   <tr style=\"border: none\">\n",
    "       <th style=\"border: none\"><img src=\"https://raw.githubusercontent.com/ryanmark1867/streetcarnov3/master/streetcar%20routes.jpg\" width=\"600\" alt=\"Icon\"> </th>\n",
    "   </tr>\n",
    "</table>"
   ]
  },
  {
   "cell_type": "markdown",
   "metadata": {},
   "source": [
    "# Common imports and variables\n",
    "Imports and variable definitions that are common to the entire notebook\n"
   ]
  },
  {
   "cell_type": "code",
   "execution_count": 91,
   "metadata": {},
   "outputs": [],
   "source": [
    "import numpy as np # linear algebra\n",
    "import pandas as pd # data processing, CSV file I/O (e.g. pd.read_csv)\n",
    "import matplotlib.pyplot as plt\n",
    "import datetime\n",
    "# common imports\n",
    "import zipfile\n",
    "import time\n",
    "# import datetime, timedelta\n",
    "import datetime\n",
    "from datetime import datetime, timedelta\n",
    "from datetime import date\n",
    "from dateutil import relativedelta\n",
    "from io import StringIO\n",
    "import pandas as pd\n",
    "import pickle\n",
    "from sklearn.base import BaseEstimator\n",
    "from sklearn.base import TransformerMixin\n",
    "from io import StringIO\n",
    "import requests\n",
    "import json\n",
    "from sklearn.preprocessing import LabelEncoder, MinMaxScaler, StandardScaler\n",
    "from sklearn.model_selection import train_test_split\n",
    "import matplotlib.pyplot as plt\n",
    "%matplotlib inline \n",
    "import os\n",
    "import math\n",
    "from subprocess import check_output\n",
    "import seaborn as sns\n",
    "from IPython.display import display\n",
    "\n",
    "import re\n",
    "import os\n"
   ]
  },
  {
   "cell_type": "code",
   "execution_count": 92,
   "metadata": {},
   "outputs": [],
   "source": [
    "# common variables\n",
    "# control whether to load data from scratch from original source or from saved dataframe\n",
    "load_from_scratch = False\n",
    "# control whether to save dataframe with transformed data\n",
    "save_transformed_dataframe = True\n",
    "# control whether rows containing erroneous values are removed from the saved dataset\n",
    "remove_bad_values = True\n",
    "# name of file containing pickled dataframe version of input (unprocessed) dataset\n",
    "pickled_input_dataframe = '2014_2019_upto_june.pkl'\n",
    "# name of file to which prepared data set is saved as a pickled dataframe\n",
    "pickled_output_dataframe = '2014_2019_df_cleaned_remove_bad_oct18.pkl'\n"
   ]
  },
  {
   "cell_type": "markdown",
   "metadata": {},
   "source": [
    "# Streetcar vehicle IDs CLRV/ALRV\n",
    "\n",
    "From https://en.wikipedia.org/wiki/Toronto_streetcar_system_rolling_stock#CLRVs_and_ALRVs\n",
    "\n",
    "<table style=\"border: none\" align=\"left\">\n",
    "   </tr>\n",
    "   <tr style=\"border: none\">\n",
    "       <th style=\"border: none\"><img src=\"https://raw.githubusercontent.com/ryanmark1867/streetcarnov3/master/streetcarCLRV.jpg\" width=\"600\" alt=\"Icon\"> </th>\n",
    "   </tr>\n",
    "</table>"
   ]
  },
  {
   "cell_type": "code",
   "execution_count": 93,
   "metadata": {},
   "outputs": [
    {
     "name": "stdout",
     "output_type": "stream",
     "text": [
      "valid streetcars [4000, 4001, 4002, 4003, 4004, 4010, 4011, 4012, 4013, 4014, 4015, 4016, 4017, 4018, 4019, 4020, 4021, 4022, 4023, 4024, 4025, 4026, 4027, 4028, 4029, 4030, 4031, 4032, 4033, 4034, 4035, 4036, 4037, 4038, 4039, 4040, 4041, 4042, 4043, 4044, 4045, 4046, 4047, 4048, 4049, 4050, 4051, 4052, 4053, 4054, 4055, 4056, 4057, 4058, 4059, 4060, 4061, 4062, 4063, 4064, 4065, 4066, 4067, 4068, 4069, 4070, 4071, 4072, 4073, 4074, 4075, 4076, 4077, 4078, 4079, 4080, 4081, 4082, 4083, 4084, 4085, 4086, 4087, 4088, 4089, 4090, 4091, 4092, 4093, 4094, 4095, 4096, 4097, 4098, 4099, 4100, 4101, 4102, 4103, 4104, 4105, 4106, 4107, 4108, 4109, 4110, 4111, 4112, 4113, 4114, 4115, 4116, 4117, 4118, 4119, 4120, 4121, 4122, 4123, 4124, 4125, 4126, 4127, 4128, 4129, 4130, 4131, 4132, 4133, 4134, 4135, 4136, 4137, 4138, 4139, 4140, 4141, 4142, 4143, 4144, 4145, 4146, 4147, 4148, 4149, 4150, 4151, 4152, 4153, 4154, 4155, 4156, 4157, 4158, 4159, 4160, 4161, 4162, 4163, 4164, 4165, 4166, 4167, 4168, 4169, 4170, 4171, 4172, 4173, 4174, 4175, 4176, 4177, 4178, 4179, 4180, 4181, 4182, 4183, 4184, 4185, 4186, 4187, 4188, 4189, 4190, 4191, 4192, 4193, 4194, 4195, 4196, 4197, 4198, 4199, 4200, 4201, 4202, 4203, 4204, 4205, 4206, 4207, 4208, 4209, 4210, 4211, 4212, 4213, 4214, 4215, 4216, 4217, 4218, 4219, 4220, 4221, 4222, 4223, 4224, 4225, 4226, 4227, 4228, 4229, 4230, 4231, 4232, 4233, 4234, 4235, 4236, 4237, 4238, 4239, 4240, 4241, 4242, 4243, 4244, 4245, 4246, 4247, 4248, 4249, 4250, 4251, 4900, 4400, 4402, 4403, 4404, 4405, 4406, 4407, 4408, 4409, 4410, 4411, 4412, 4413, 4414, 4415, 4416, 4417, 4418, 4419, 4420, 4421, 4422, 4423, 4424, 4425, 4426, 4427, 4428, 4429, 4430, 4431, 4432, 4433, 4434, 4435, 4436, 4437, 4438, 4439, 4440, 4441, 4442, 4443, 4444, 4445, 4446, 4447, 4448, 4449, 4450, 4451, 4452, 4453, 4454, 4455, 4456, 4457, 4458, 4459, 4460, 4461, 4462, 4463, 4464, 4465, 4466, 4467, 4468, 4469, 4470, 4471, 4472, 4473, 4474, 4475, 4476, 4477, 4478, 4479, 4480, 4481, 4482, 4483, 4484, 4485, 4486, 4487, 4488, 4489, 4490, 4491, 4492, 4493, 4494, 4495, 4496, 4497, 4498, 4499, 4500, 4501, 4502, 4503, 4504, 4505, 4506, 4507]\n"
     ]
    }
   ],
   "source": [
    "streetcar_vehicles = list(range(4000,4005))+ list(range(4010,4200)) +  list(range(4200,4252)) + [4900]\n",
    "streetcar_vehicles = streetcar_vehicles + [4400] + list(range(4402,4508))\n",
    "print(\"valid streetcars\",streetcar_vehicles)"
   ]
  },
  {
   "cell_type": "markdown",
   "metadata": {},
   "source": [
    "# Streetcar vehicle IDs Flexity\n",
    "\n",
    "From https://en.wikipedia.org/wiki/Toronto_streetcar_system_rolling_stock#CLRVs_and_ALRVs\n",
    "\n",
    "<table style=\"border: none\" align=\"left\">\n",
    "   </tr>\n",
    "   <tr style=\"border: none\">\n",
    "       <th style=\"border: none\"><img src=\"https://raw.githubusercontent.com/ryanmark1867/streetcarnov3/master/streetcarflexity.jpg\" width=\"600\" alt=\"Icon\"> </th>\n",
    "   </tr>\n",
    "</table>"
   ]
  },
  {
   "cell_type": "markdown",
   "metadata": {},
   "source": [
    "# Bus identification\n",
    "The following links define the valid non-streetcar vehicles that can be delayed by streetcar incidents\n",
    "\n",
    "- Buses 1xxx: https://cptdb.ca/wiki/index.php/Toronto_Transit_Commission_1000-1149\n",
    "- Buses 2xxx: https://cptdb.ca/wiki/index.php/Toronto_Transit_Commission_2000-2110,_2150-2155,_2240-2485,_2600-2619,_2700-2765,_2767-2858\n",
    "- Buses 70xx: https://cptdb.ca/wiki/index.php/Toronto_Transit_Commission_7000-7134\n",
    "- Buses 74xx: https://cptdb.ca/wiki/index.php/Toronto_Transit_Commission_7400-7499,_7500-7619,_7620-7881\n",
    "- Buses 8xxx: https://cptdb.ca/wiki/index.php/Toronto_Transit_Commission_8000-8099\n",
    "- Buses 9xxx: https://cptdb.ca/wiki/index.php/Toronto_Transit_Commission_9000-9026\n",
    "\n",
    "\n",
    "\n",
    "\n",
    "\n"
   ]
  },
  {
   "cell_type": "code",
   "execution_count": 94,
   "metadata": {},
   "outputs": [
    {
     "name": "stdout",
     "output_type": "stream",
     "text": [
      "valid vehicles [4000, 4001, 4002, 4003, 4004, 4010, 4011, 4012, 4013, 4014, 4015, 4016, 4017, 4018, 4019, 4020, 4021, 4022, 4023, 4024, 4025, 4026, 4027, 4028, 4029, 4030, 4031, 4032, 4033, 4034, 4035, 4036, 4037, 4038, 4039, 4040, 4041, 4042, 4043, 4044, 4045, 4046, 4047, 4048, 4049, 4050, 4051, 4052, 4053, 4054, 4055, 4056, 4057, 4058, 4059, 4060, 4061, 4062, 4063, 4064, 4065, 4066, 4067, 4068, 4069, 4070, 4071, 4072, 4073, 4074, 4075, 4076, 4077, 4078, 4079, 4080, 4081, 4082, 4083, 4084, 4085, 4086, 4087, 4088, 4089, 4090, 4091, 4092, 4093, 4094, 4095, 4096, 4097, 4098, 4099, 4100, 4101, 4102, 4103, 4104, 4105, 4106, 4107, 4108, 4109, 4110, 4111, 4112, 4113, 4114, 4115, 4116, 4117, 4118, 4119, 4120, 4121, 4122, 4123, 4124, 4125, 4126, 4127, 4128, 4129, 4130, 4131, 4132, 4133, 4134, 4135, 4136, 4137, 4138, 4139, 4140, 4141, 4142, 4143, 4144, 4145, 4146, 4147, 4148, 4149, 4150, 4151, 4152, 4153, 4154, 4155, 4156, 4157, 4158, 4159, 4160, 4161, 4162, 4163, 4164, 4165, 4166, 4167, 4168, 4169, 4170, 4171, 4172, 4173, 4174, 4175, 4176, 4177, 4178, 4179, 4180, 4181, 4182, 4183, 4184, 4185, 4186, 4187, 4188, 4189, 4190, 4191, 4192, 4193, 4194, 4195, 4196, 4197, 4198, 4199, 4200, 4201, 4202, 4203, 4204, 4205, 4206, 4207, 4208, 4209, 4210, 4211, 4212, 4213, 4214, 4215, 4216, 4217, 4218, 4219, 4220, 4221, 4222, 4223, 4224, 4225, 4226, 4227, 4228, 4229, 4230, 4231, 4232, 4233, 4234, 4235, 4236, 4237, 4238, 4239, 4240, 4241, 4242, 4243, 4244, 4245, 4246, 4247, 4248, 4249, 4250, 4251, 4900, 4400, 4402, 4403, 4404, 4405, 4406, 4407, 4408, 4409, 4410, 4411, 4412, 4413, 4414, 4415, 4416, 4417, 4418, 4419, 4420, 4421, 4422, 4423, 4424, 4425, 4426, 4427, 4428, 4429, 4430, 4431, 4432, 4433, 4434, 4435, 4436, 4437, 4438, 4439, 4440, 4441, 4442, 4443, 4444, 4445, 4446, 4447, 4448, 4449, 4450, 4451, 4452, 4453, 4454, 4455, 4456, 4457, 4458, 4459, 4460, 4461, 4462, 4463, 4464, 4465, 4466, 4467, 4468, 4469, 4470, 4471, 4472, 4473, 4474, 4475, 4476, 4477, 4478, 4479, 4480, 4481, 4482, 4483, 4484, 4485, 4486, 4487, 4488, 4489, 4490, 4491, 4492, 4493, 4494, 4495, 4496, 4497, 4498, 4499, 4500, 4501, 4502, 4503, 4504, 4505, 4506, 4507, 1000, 1001, 1002, 1003, 1004, 1005, 1006, 1007, 1008, 1009, 1010, 1011, 1012, 1013, 1014, 1015, 1016, 1017, 1018, 1019, 1020, 1021, 1022, 1023, 1024, 1025, 1026, 1027, 1028, 1029, 1030, 1031, 1032, 1033, 1034, 1035, 1036, 1037, 1038, 1039, 1040, 1041, 1042, 1043, 1044, 1045, 1046, 1047, 1048, 1049, 1050, 1051, 1052, 1053, 1054, 1055, 1056, 1057, 1058, 1059, 1060, 1061, 1062, 1063, 1064, 1065, 1066, 1067, 1068, 1069, 1070, 1071, 1072, 1073, 1074, 1075, 1076, 1077, 1078, 1079, 1080, 1081, 1082, 1083, 1084, 1085, 1086, 1087, 1088, 1089, 1090, 1091, 1092, 1093, 1094, 1095, 1096, 1097, 1098, 1099, 1100, 1101, 1102, 1103, 1104, 1105, 1106, 1107, 1108, 1109, 1110, 1111, 1112, 1113, 1114, 1115, 1116, 1117, 1118, 1119, 1120, 1121, 1122, 1123, 1124, 1125, 1126, 1127, 1128, 1129, 1130, 1131, 1132, 1133, 1134, 1135, 1136, 1137, 1138, 1139, 1140, 1141, 1142, 1143, 1144, 1145, 1146, 1147, 1148, 1149, 2000, 2001, 2002, 2003, 2004, 2005, 2006, 2007, 2008, 2009, 2010, 2011, 2012, 2013, 2014, 2015, 2016, 2017, 2018, 2019, 2020, 2021, 2022, 2023, 2024, 2025, 2026, 2027, 2028, 2029, 2030, 2031, 2032, 2033, 2034, 2035, 2036, 2037, 2038, 2039, 2040, 2041, 2042, 2043, 2044, 2045, 2046, 2047, 2048, 2049, 2050, 2051, 2052, 2053, 2054, 2055, 2056, 2057, 2058, 2059, 2060, 2061, 2062, 2063, 2064, 2065, 2066, 2067, 2068, 2069, 2070, 2071, 2072, 2073, 2074, 2075, 2076, 2077, 2078, 2079, 2080, 2081, 2082, 2083, 2084, 2085, 2086, 2087, 2088, 2089, 2090, 2091, 2092, 2093, 2094, 2095, 2096, 2097, 2098, 2099, 2100, 2101, 2102, 2103, 2104, 2105, 2106, 2107, 2108, 2109, 2110, 2150, 2151, 2152, 2153, 2154, 2155, 2240, 2241, 2242, 2243, 2244, 2245, 2246, 2247, 2248, 2249, 2250, 2251, 2252, 2253, 2254, 2255, 2256, 2257, 2258, 2259, 2260, 2261, 2262, 2263, 2264, 2265, 2266, 2267, 2268, 2269, 2270, 2271, 2272, 2273, 2274, 2275, 2276, 2277, 2278, 2279, 2280, 2281, 2282, 2283, 2284, 2285, 2286, 2287, 2288, 2289, 2290, 2291, 2292, 2293, 2294, 2295, 2296, 2297, 2298, 2299, 2300, 2301, 2302, 2303, 2304, 2305, 2306, 2307, 2308, 2309, 2310, 2311, 2312, 2313, 2314, 2315, 2316, 2317, 2318, 2319, 2320, 2321, 2322, 2323, 2324, 2325, 2326, 2327, 2328, 2329, 2330, 2331, 2332, 2333, 2334, 2335, 2336, 2337, 2338, 2339, 2340, 2341, 2342, 2343, 2344, 2345, 2346, 2347, 2348, 2349, 2350, 2351, 2352, 2353, 2354, 2355, 2356, 2357, 2358, 2359, 2360, 2361, 2362, 2363, 2364, 2365, 2366, 2367, 2368, 2369, 2370, 2371, 2372, 2373, 2374, 2375, 2376, 2377, 2378, 2379, 2380, 2381, 2382, 2383, 2384, 2385, 2386, 2387, 2388, 2389, 2390, 2391, 2392, 2393, 2394, 2395, 2396, 2397, 2398, 2399, 2400, 2401, 2402, 2403, 2404, 2405, 2406, 2407, 2408, 2409, 2410, 2411, 2412, 2413, 2414, 2415, 2416, 2417, 2418, 2419, 2420, 2421, 2422, 2423, 2424, 2425, 2426, 2427, 2428, 2429, 2430, 2431, 2432, 2433, 2434, 2435, 2436, 2437, 2438, 2439, 2440, 2441, 2442, 2443, 2444, 2445, 2446, 2447, 2448, 2449, 2450, 2451, 2452, 2453, 2454, 2455, 2456, 2457, 2458, 2459, 2460, 2461, 2462, 2463, 2464, 2465, 2466, 2467, 2468, 2469, 2470, 2471, 2472, 2473, 2474, 2475, 2476, 2477, 2478, 2479, 2480, 2481, 2482, 2483, 2484, 2485, 2600, 2601, 2602, 2603, 2604, 2605, 2606, 2607, 2608, 2609, 2610, 2611, 2612, 2613, 2614, 2615, 2616, 2617, 2618, 2619, 2700, 2701, 2702, 2703, 2704, 2705, 2706, 2707, 2708, 2709, 2710, 2711, 2712, 2713, 2714, 2715, 2716, 2717, 2718, 2719, 2720, 2721, 2722, 2723, 2724, 2725, 2726, 2727, 2728, 2729, 2730, 2731, 2732, 2733, 2734, 2735, 2736, 2737, 2738, 2739, 2740, 2741, 2742, 2743, 2744, 2745, 2746, 2747, 2748, 2749, 2750, 2751, 2752, 2753, 2754, 2755, 2756, 2757, 2758, 2759, 2760, 2761, 2762, 2763, 2764, 2765, 2767, 2768, 2769, 2770, 2771, 2772, 2773, 2774, 2775, 2776, 2777, 2778, 2779, 2780, 2781, 2782, 2783, 2784, 2785, 2786, 2787, 2788, 2789, 2790, 2791, 2792, 2793, 2794, 2795, 2796, 2797, 2798, 2799, 2800, 2801, 2802, 2803, 2804, 2805, 2806, 2807, 2808, 2809, 2810, 2811, 2812, 2813, 2814, 2815, 2816, 2817, 2818, 2819, 2820, 2821, 2822, 2823, 2824, 2825, 2826, 2827, 2828, 2829, 2830, 2831, 2832, 2833, 2834, 2835, 2836, 2837, 2838, 2839, 2840, 2841, 2842, 2843, 2844, 2845, 2846, 2847, 2848, 2849, 2850, 2851, 2852, 2853, 2854, 2855, 2856, 2857, 2858, 7000, 7001, 7002, 7003, 7004, 7005, 7006, 7007, 7008, 7009, 7010, 7011, 7012, 7013, 7014, 7015, 7016, 7017, 7018, 7019, 7020, 7021, 7022, 7023, 7024, 7025, 7026, 7027, 7028, 7029, 7030, 7031, 7032, 7033, 7034, 7035, 7036, 7037, 7038, 7039, 7040, 7041, 7042, 7043, 7044, 7045, 7046, 7047, 7048, 7049, 7050, 7051, 7052, 7053, 7054, 7055, 7056, 7057, 7058, 7059, 7060, 7061, 7062, 7063, 7064, 7065, 7066, 7067, 7068, 7069, 7070, 7071, 7072, 7073, 7074, 7075, 7076, 7077, 7078, 7079, 7080, 7081, 7082, 7083, 7084, 7085, 7086, 7087, 7088, 7089, 7090, 7091, 7092, 7093, 7094, 7095, 7096, 7097, 7098, 7099, 7100, 7101, 7102, 7103, 7104, 7105, 7106, 7107, 7108, 7109, 7110, 7111, 7112, 7113, 7114, 7115, 7116, 7117, 7118, 7119, 7120, 7121, 7122, 7123, 7124, 7125, 7126, 7127, 7128, 7129, 7130, 7131, 7132, 7133, 7134, 7400, 7401, 7402, 7403, 7404, 7405, 7406, 7407, 7408, 7409, 7410, 7411, 7412, 7413, 7414, 7415, 7416, 7417, 7418, 7419, 7420, 7421, 7422, 7423, 7424, 7425, 7426, 7427, 7428, 7429, 7430, 7431, 7432, 7433, 7434, 7435, 7436, 7437, 7438, 7439, 7440, 7441, 7442, 7443, 7444, 7445, 7446, 7447, 7448, 7449, 7500, 7501, 7502, 7503, 7504, 7505, 7506, 7507, 7508, 7509, 7510, 7511, 7512, 7513, 7514, 7515, 7516, 7517, 7518, 7519, 7520, 7521, 7522, 7523, 7524, 7525, 7526, 7527, 7528, 7529, 7530, 7531, 7532, 7533, 7534, 7535, 7536, 7537, 7538, 7539, 7540, 7541, 7542, 7543, 7544, 7545, 7546, 7547, 7548, 7549, 7550, 7551, 7552, 7553, 7554, 7555, 7556, 7557, 7558, 7559, 7560, 7561, 7562, 7563, 7564, 7565, 7566, 7567, 7568, 7569, 7570, 7571, 7572, 7573, 7574, 7575, 7576, 7577, 7578, 7579, 7580, 7581, 7582, 7583, 7584, 7585, 7586, 7587, 7588, 7589, 7590, 7591, 7592, 7593, 7594, 7595, 7596, 7597, 7598, 7599, 7600, 7601, 7602, 7603, 7604, 7605, 7606, 7607, 7608, 7609, 7610, 7611, 7612, 7613, 7614, 7615, 7616, 7617, 7618, 7619, 7620, 7621, 7622, 7623, 7624, 7625, 7626, 7627, 7628, 7629, 7630, 7631, 7632, 7633, 7634, 7635, 7636, 7637, 7638, 7639, 7640, 7641, 7642, 7643, 7644, 7645, 7646, 7647, 7648, 7649, 7650, 7651, 7652, 7653, 7654, 7655, 7656, 7657, 7658, 7659, 7660, 7661, 7662, 7663, 7664, 7665, 7666, 7667, 7668, 7669, 7670, 7671, 7672, 7673, 7674, 7675, 7676, 7677, 7678, 7679, 7680, 7681, 7682, 7683, 7684, 7685, 7686, 7687, 7688, 7689, 7690, 7691, 7692, 7693, 7694, 7695, 7696, 7697, 7698, 7699, 7700, 7701, 7702, 7703, 7704, 7705, 7706, 7707, 7708, 7709, 7710, 7711, 7712, 7713, 7714, 7715, 7716, 7717, 7718, 7719, 7720, 7721, 7722, 7723, 7724, 7725, 7726, 7727, 7728, 7729, 7730, 7731, 7732, 7733, 7734, 7735, 7736, 7737, 7738, 7739, 7740, 7741, 7742, 7743, 7744, 7745, 7746, 7747, 7748, 7749, 7750, 7751, 7752, 7753, 7754, 7755, 7756, 7757, 7758, 7759, 7760, 7761, 7762, 7763, 7764, 7765, 7766, 7767, 7768, 7769, 7770, 7771, 7772, 7773, 7774, 7775, 7776, 7777, 7778, 7779, 7780, 7781, 7782, 7783, 7784, 7785, 7786, 7787, 7788, 7789, 7790, 7791, 7792, 7793, 7794, 7795, 7796, 7797, 7798, 7799, 7800, 7801, 7802, 7803, 7804, 7805, 7806, 7807, 7808, 7809, 7810, 7811, 7812, 7813, 7814, 7815, 7816, 7817, 7818, 7819, 7820, 7821, 7822, 7823, 7824, 7825, 7826, 7827, 7828, 7829, 7830, 7831, 7832, 7833, 7834, 7835, 7836, 7837, 7838, 7839, 7840, 7841, 7842, 7843, 7844, 7845, 7846, 7847, 7848, 7849, 7850, 7851, 7852, 7853, 7854, 7855, 7856, 7857, 7858, 7859, 7860, 7861, 7862, 7863, 7864, 7865, 7866, 7867, 7868, 7869, 7870, 7871, 7872, 7873, 7874, 7875, 7876, 7877, 7878, 7879, 7880, 7881, 8000, 8001, 8002, 8003, 8004, 8005, 8006, 8007, 8008, 8009, 8010, 8011, 8012, 8013, 8014, 8015, 8016, 8017, 8018, 8019, 8020, 8021, 8022, 8023, 8024, 8025, 8026, 8027, 8028, 8029, 8030, 8031, 8032, 8033, 8034, 8035, 8036, 8037, 8038, 8039, 8040, 8041, 8042, 8043, 8044, 8045, 8046, 8047, 8048, 8049, 8050, 8051, 8052, 8053, 8054, 8055, 8056, 8057, 8058, 8059, 8060, 8061, 8062, 8063, 8064, 8065, 8066, 8067, 8068, 8069, 8070, 8071, 8072, 8073, 8074, 8075, 8076, 8077, 8078, 8079, 8080, 8081, 8082, 8083, 8084, 8085, 8086, 8087, 8088, 8089, 8090, 8091, 8092, 8093, 8094, 8095, 8096, 8097, 8098, 8099, 9000, 9001, 9002, 9003, 9004, 9005, 9006, 9007, 9008, 9009, 9010, 9011, 9012, 9013, 9014, 9015, 9016, 9017, 9018, 9019, 9020, 9021, 9022, 9023, 9024, 9025, 9026]\n"
     ]
    }
   ],
   "source": [
    "bus_vehicles = list(range(1000,1150))+ list(range(2000,2111)) + list(range(2150,2156)) + list(range(2240,2486))\n",
    "bus_vehicles = bus_vehicles + list(range(2600,2620)) + list(range(2700,2766)) + list(range(2767,2859))\n",
    "bus_vehicles = bus_vehicles + list(range(7000,7135)) + list(range(7400,7450)) + list(range(7500,7620)) + list(range(7620,7882))\n",
    "bus_vehicles = bus_vehicles + list(range(8000,8100)) + list(range(9000,9027))\n",
    "valid_vehicles = streetcar_vehicles + bus_vehicles\n",
    "print(\"valid vehicles\",valid_vehicles)"
   ]
  },
  {
   "cell_type": "markdown",
   "metadata": {},
   "source": [
    "# Vehicles that are not legitimate subjects of streetcar incidents\n",
    "The following vehicles are not legitimate subjects of streetcar incidents because they run on completely separate tracks (RT and subway) or they have been retired (6xxx buses).\n",
    "\n",
    "- RT cars 3xxx: https://cptdb.ca/wiki/index.php/Toronto_Transit_Commission_3000-3027\n",
    "- Subway cars 5xxx https://cptdb.ca/wiki/index.php/Toronto_Transit_Commission_5000-5371\n",
    "- Retired Buses 6xxx: https://cptdb.ca/wiki/index.php/Toronto_Transit_Commission_6000-6122\n"
   ]
  },
  {
   "cell_type": "code",
   "execution_count": 95,
   "metadata": {},
   "outputs": [],
   "source": [
    "# load the valid list of TTC Streetcar routes\n",
    "valid_routes = ['501','502','503','504','505','506','509','510','511','512','301','304','306','310']"
   ]
  },
  {
   "cell_type": "code",
   "execution_count": 96,
   "metadata": {},
   "outputs": [
    {
     "data": {
      "text/plain": [
       "['501',\n",
       " '502',\n",
       " '503',\n",
       " '504',\n",
       " '505',\n",
       " '506',\n",
       " '509',\n",
       " '510',\n",
       " '511',\n",
       " '512',\n",
       " '301',\n",
       " '304',\n",
       " '306',\n",
       " '310']"
      ]
     },
     "execution_count": 96,
     "metadata": {},
     "output_type": "execute_result"
    }
   ],
   "source": [
    "valid_routes"
   ]
  },
  {
   "cell_type": "code",
   "execution_count": 97,
   "metadata": {},
   "outputs": [],
   "source": [
    "# original valid directions\n",
    "# valid_directions = ['E/B','W/B','N/B','S/B','B/W']\n",
    "# revised valid directions to include lowercasing and removal of '/' and simplify to single letter\n",
    "valid_directions = ['e','w','n','s','b']"
   ]
  },
  {
   "cell_type": "code",
   "execution_count": 98,
   "metadata": {},
   "outputs": [],
   "source": [
    "valid_days = ['Monday','Tuesday','Wednesday','Thursday','Friday','Saturday','Sunday']"
   ]
  },
  {
   "cell_type": "markdown",
   "metadata": {},
   "source": [
    "# Load and Save Data\n",
    "- parse list of XLS files \n",
    "- load XLS files, tab by tab, into dataframe\n",
    "- pickle dataframe for future runs"
   ]
  },
  {
   "cell_type": "code",
   "execution_count": 99,
   "metadata": {},
   "outputs": [],
   "source": [
    "# get the directory for that this notebook is in and return the directory containing data files\n",
    "\n",
    "def get_path():\n",
    "    rawpath = os.getcwd()\n",
    "    # data is in a directory called \"data\" that is a sibling to the directory containing the notebook\n",
    "    path = os.path.abspath(os.path.join(rawpath, '..', 'data')) + \"/\"\n",
    "    return(path)\n"
   ]
  },
  {
   "cell_type": "code",
   "execution_count": 100,
   "metadata": {},
   "outputs": [],
   "source": [
    "# given a path return the list of xls files in the directory\n",
    "def get_xls_list(path):\n",
    "    files = os.listdir(path)\n",
    "    files_xls = [f for f in files if f[-4:] == 'xlsx']\n",
    "    print(files)\n",
    "    print(files_xls)\n",
    "    return(files_xls)\n"
   ]
  },
  {
   "cell_type": "code",
   "execution_count": 101,
   "metadata": {},
   "outputs": [],
   "source": [
    "# load all the tabs of all the XLS files in a list of XLS files, minus tab that has seeded dataframe\n",
    "def load_xls(path, files_xls, firstfile, firstsheet, df):\n",
    "    for f in files_xls:\n",
    "        print(\"file name\",f)\n",
    "        xlsf = pd.ExcelFile(path+f)\n",
    "        # iterate through sheets\n",
    "        for sheet_name in xlsf.sheet_names:\n",
    "            print(\"sheet_name\",sheet_name)\n",
    "            if (f != firstfile) or (sheet_name != firstsheet):\n",
    "                print(\"sheet_name in loop\",sheet_name)\n",
    "                data = pd.read_excel(path+f,sheet_name=sheet_name)    \n",
    "                df = df.append(data)\n",
    "    return (df)"
   ]
  },
  {
   "cell_type": "code",
   "execution_count": 102,
   "metadata": {},
   "outputs": [],
   "source": [
    "# given a path and a filename, load all the XLS files in the path into a dataframe and save\n",
    "# to the dataframe to the filename\n",
    "def reloader(path,picklename):\n",
    "    # get list of all xls files in the path\n",
    "    files_xls = get_xls_list(path)\n",
    "    print(\"list of xls\",files_xls)\n",
    "    # seed initial tab on initial xls file\n",
    "    dfnew = pd.read_excel(path+files_xls[0])\n",
    "    # get the list of sheets in the first file\n",
    "    xlsf = pd.ExcelFile(path+files_xls[0])\n",
    "    # load the remaining tabs from all the other xls\n",
    "    # pass the first file (files_xls[0]) and the first tab in that file (xlsf[0]) explicitly\n",
    "    dflatest = load_xls(path,files_xls,files_xls[0],xlsf.sheet_names[0], dfnew)\n",
    "    # save dataframe to pickle\n",
    "    dflatest.to_pickle(path+ picklename)\n",
    "    # return dataframe loaded with all tabs of all xls files\n",
    "    return(dflatest)\n",
    "    "
   ]
  },
  {
   "cell_type": "code",
   "execution_count": 103,
   "metadata": {},
   "outputs": [],
   "source": [
    "# define categories for input columns\n",
    "def define_feature_categories(df):\n",
    "    allcols = list(df)\n",
    "    print(\"all cols\",allcols)\n",
    "    textcols = ['Incident','Location'] # \n",
    "    continuouscols = ['Min Delay','Min Gap'] \n",
    "                      # columns to deal with as continuous values - no embeddings\n",
    "    timecols = ['Report Date','Time']\n",
    "    collist = ['Day','Vehicle','Route','Direction']\n",
    "    for col in continuouscols:\n",
    "        df[col] = df[col].astype(float)\n",
    "    print('texcols: ',textcols)\n",
    "    print('continuouscols: ',continuouscols)\n",
    "    print('timecols: ',timecols)\n",
    "    print('collist: ',collist)\n",
    "    return(allcols,textcols,continuouscols,timecols,collist)"
   ]
  },
  {
   "cell_type": "code",
   "execution_count": 104,
   "metadata": {},
   "outputs": [],
   "source": [
    "# fill missing values according to the column category\n",
    "def fill_missing(dataset,allcols,textcols,continuouscols,timecols,collist):\n",
    "    print(\"before mv\")\n",
    "    for col in collist:\n",
    "        dataset[col].fillna(value=\"missing\", inplace=True)\n",
    "    for col in continuouscols:\n",
    "        dataset[col].fillna(value=0.0,inplace=True)\n",
    "    for col in textcols:\n",
    "        dataset[col].fillna(value=\"missing\", inplace=True)\n",
    "    return (dataset)"
   ]
  },
  {
   "cell_type": "markdown",
   "metadata": {},
   "source": [
    "# Load dataframe\n",
    "- load pickled dataframe\n",
    "- show info about the dataset\n"
   ]
  },
  {
   "cell_type": "code",
   "execution_count": 105,
   "metadata": {},
   "outputs": [],
   "source": [
    "# read in data, either from original XLS files in data directory or from pickled dataframe containing\n",
    "def ingest_data(path):\n",
    "    if load_from_scratch:\n",
    "        unpickled_df = reloader(path,pickled_input_dataframe)\n",
    "        print(\"reloader done\")\n",
    "    else:\n",
    "        unpickled_df = pd.read_pickle(path+pickled_input_dataframe)\n",
    "    return(unpickled_df)"
   ]
  },
  {
   "cell_type": "markdown",
   "metadata": {},
   "source": [
    "# General cleanup\n",
    "- correct types for Route and Vehicle\n",
    "- fill missing values\n",
    "- create report-date-time index"
   ]
  },
  {
   "cell_type": "code",
   "execution_count": 106,
   "metadata": {},
   "outputs": [],
   "source": [
    "# the dataset incorporated some anomalies in the 2019 data, including:\n",
    "# extraneous Incident ID in April 2019 tab\n",
    "# Gap and Delay columns in April and June 2019 tabs for what had otherwise been called Min Gap and Min Delay\n",
    "# this function cleans up these anomalies\n",
    "def fix_anomalous_columns(df):\n",
    "    # for rows where there is NaN in the Min Delay or Min Gap columns, copy over value from Delay or Gap\n",
    "    # df.Temp_Rating.fillna(df.Farheit, inplace=True)\n",
    "    df['Min Delay'].fillna(df['Delay'], inplace=True)\n",
    "    df['Min Gap'].fillna(df['Gap'], inplace=True)\n",
    "    # now that the useful values have been copied from Delay and Gap, remove them\n",
    "    del df['Delay']\n",
    "    del df['Gap']\n",
    "    # remove Incident ID column - it's extraneous\n",
    "    del df['Incident ID']\n",
    "    return(df)"
   ]
  },
  {
   "cell_type": "code",
   "execution_count": 107,
   "metadata": {},
   "outputs": [],
   "source": [
    "def general_cleanup(df):\n",
    "    # ensure Route and Vehicle are strings, not numeric\n",
    "    df['Route'] = df['Route'].astype(str)\n",
    "    df['Vehicle'] = df['Vehicle'].astype(str)\n",
    "    # remove extraneous characters left from Vehicle values being floats\n",
    "    df['Vehicle'] = df['Vehicle'].str[:-2]\n",
    "    # tactical definition of categories\n",
    "    allcols,textcols,continuouscols,timecols,collist = define_feature_categories(df)\n",
    "    # fill in missing values\n",
    "    df.isnull().sum(axis = 0)\n",
    "    df = fix_anomalous_columns(df)\n",
    "    df = fill_missing(df,allcols,textcols,continuouscols,timecols,collist)\n",
    "    # create new column combing date + time (needed for resampling) and make it the index\n",
    "    df['Report Date Time'] = pd.to_datetime(df['Report Date'].astype(str) + ' ' + df['Time'].astype(str))\n",
    "    df.index = df['Report Date Time']\n",
    "    # return the updated dataframe along with the column category lists\n",
    "    return(df,allcols,textcols,continuouscols,timecols,collist)"
   ]
  },
  {
   "cell_type": "markdown",
   "metadata": {},
   "source": [
    "# Clean up selected columns\n",
    "Some values in the input dataset were entered \"free form\" when they should have been constricted to a pick list. Columns with this problem include:\n",
    "\n",
    "- Route\n",
    "- Vehicle\n",
    "- Direction\n",
    "- Location\n",
    "\n",
    "\n",
    "Each of these have a finite set of valid values. We have to fix the data in these columns where multiple tokens have been used to signify the same real-world entity (e.g. \"roncesvalles yard.\" and \"roncesvalles carhouse\", or where incorrect values have been entered (e.g. Direction that does not correspond with a compass point)"
   ]
  },
  {
   "cell_type": "markdown",
   "metadata": {},
   "source": [
    "# Clean up Route"
   ]
  },
  {
   "cell_type": "code",
   "execution_count": 108,
   "metadata": {},
   "outputs": [],
   "source": [
    "def check_route (x):\n",
    "    if x in valid_routes:\n",
    "        return(x)\n",
    "    else:\n",
    "        return(\"bad route\")"
   ]
  },
  {
   "cell_type": "code",
   "execution_count": 109,
   "metadata": {},
   "outputs": [],
   "source": [
    "def route_cleanup(df):\n",
    "    print(\"Route count pre cleanup\",df['Route'].nunique())\n",
    "    # df['Route'].value_counts()\n",
    "    # replace bad route with common token\n",
    "    df['Route'] = df['Route'].apply(lambda x:check_route(x))\n",
    "    print(\"route count post cleanup\",df['Route'].nunique())\n",
    "    return(df)    "
   ]
  },
  {
   "cell_type": "markdown",
   "metadata": {},
   "source": [
    "# Clean up Vehicle"
   ]
  },
  {
   "cell_type": "code",
   "execution_count": 110,
   "metadata": {},
   "outputs": [],
   "source": [
    "def check_vehicle (x):\n",
    "    if str.isdigit(x):\n",
    "        if int(x) in valid_vehicles:\n",
    "            return x\n",
    "        else:\n",
    "            return(\"bad vehicle\")\n",
    "    else:\n",
    "        return(\"bad vehicle\")"
   ]
  },
  {
   "cell_type": "code",
   "execution_count": 111,
   "metadata": {},
   "outputs": [],
   "source": [
    "def vehicle_cleanup(df):\n",
    "    print(\"Vehicle count pre cleanup\",df['Vehicle'].nunique())\n",
    "    df['Vehicle'] = df['Vehicle'].apply(lambda x:check_vehicle(x))\n",
    "    print(\"Vehicle count post cleanup\",df['Vehicle'].nunique())\n",
    "    return(df)"
   ]
  },
  {
   "cell_type": "markdown",
   "metadata": {},
   "source": [
    "# Clean up Direction"
   ]
  },
  {
   "cell_type": "code",
   "execution_count": 112,
   "metadata": {},
   "outputs": [],
   "source": [
    "def check_direction (x):\n",
    "    if x in valid_directions:\n",
    "        return(x)\n",
    "    else:\n",
    "        return(\"bad direction\")"
   ]
  },
  {
   "cell_type": "code",
   "execution_count": 113,
   "metadata": {},
   "outputs": [],
   "source": [
    "def direction_cleanup(df):\n",
    "    print(\"Direction count pre cleanup\",df['Direction'].nunique())\n",
    "    df['Direction'] = df['Direction'].str.lower()\n",
    "    df['Direction'] = df['Direction'].str.replace('/','')\n",
    "    df['Direction'] = df['Direction'].replace({'eastbound':'e','westbound':'w','southbound':'s','northbound':'n'})\n",
    "    df['Direction'] = df['Direction'].replace('b','',regex=True)\n",
    "    df['Direction'] = df['Direction'].apply(lambda x:check_direction(x))\n",
    "    print(\"Direction count post cleanup\",df['Direction'].nunique())\n",
    "    return(df)"
   ]
  },
  {
   "cell_type": "markdown",
   "metadata": {},
   "source": [
    "# Clean up Location"
   ]
  },
  {
   "cell_type": "code",
   "execution_count": 114,
   "metadata": {},
   "outputs": [],
   "source": [
    "def clean_conjunction(intersection):\n",
    "    intersection = re.sub(\" *& *\",\" and \",intersection)\n",
    "    intersection = re.sub(\" */ *\",\" and \",intersection)\n",
    "    return(intersection)"
   ]
  },
  {
   "cell_type": "code",
   "execution_count": 115,
   "metadata": {},
   "outputs": [],
   "source": [
    "def order_location(intersection):\n",
    "    # for any string with the format \"* and *\" if the value before the and is alphabetically\n",
    "    # higher than the value after the and, swap the values\n",
    "    conj = \" and \"\n",
    "    alpha_ordered_intersection = intersection\n",
    "    if conj in intersection:\n",
    "        end_first_street = intersection.find(conj)\n",
    "        if (end_first_street > 0) and (len(intersection) > (end_first_street + len(conj))):\n",
    "            start_second_street = intersection.find(conj) + len(conj)\n",
    "            first_street = intersection[0:end_first_street]\n",
    "            second_street = intersection[start_second_street:]\n",
    "            alpha_ordered_intersection = min(first_street,second_street)+conj+max(first_street,second_street)\n",
    "    return(alpha_ordered_intersection)"
   ]
  },
  {
   "cell_type": "code",
   "execution_count": 116,
   "metadata": {},
   "outputs": [],
   "source": [
    "def location_cleanup(df):\n",
    "    print(\"Location count pre cleanup\",df['Location'].nunique())\n",
    "    # make all location values lower case\n",
    "    df['Location'] = df['Location'].str.lower()\n",
    "    # make substitutions to eliminate obvious duplicate tokens\n",
    "    df['Location'] = df['Location'].replace({'broadviewstation':'broadview station',' at ':' and ',' stn':' station',' ave.':'','/':' and ','roncy':'roncesvalles','carhouse':'yard','yard.':'yard','st. clair':'st clair','ronc. ':'roncesvalles ','long branch':'longbranch','garage':'yard','barns':'yard',' & ':' and '}, regex=True)\n",
    "    # put intersection values into consistent order\n",
    "    df['Location'] = df['Location'].apply(lambda x:order_location(x))\n",
    "    print(\"Location count post cleanup\",df['Location'].nunique())\n",
    "    return(df)"
   ]
  },
  {
   "cell_type": "markdown",
   "metadata": {},
   "source": [
    "# Remove bad rows"
   ]
  },
  {
   "cell_type": "code",
   "execution_count": 117,
   "metadata": {},
   "outputs": [],
   "source": [
    "# remove rows with bad values\n",
    "def remove_bad(df):\n",
    "    df = df[df.Vehicle != 'bad vehicle']\n",
    "    df = df[df.Direction != 'bad direction']\n",
    "    df = df[df.Route != 'bad route']\n",
    "    return(df)"
   ]
  },
  {
   "cell_type": "markdown",
   "metadata": {},
   "source": [
    "# Master cell\n",
    "This cell contains calls to the other functions in this notebook to complete the data preparation"
   ]
  },
  {
   "cell_type": "code",
   "execution_count": 122,
   "metadata": {},
   "outputs": [
    {
     "name": "stdout",
     "output_type": "stream",
     "text": [
      "path is /storage/manning/data/\n",
      "number of records:  73473\n",
      "<class 'pandas.core.frame.DataFrame'>\n",
      "Int64Index: 73473 entries, 0 to 760\n",
      "Data columns (total 13 columns):\n",
      "Day            73473 non-null object\n",
      "Delay          1813 non-null float64\n",
      "Direction      73196 non-null object\n",
      "Gap            1806 non-null float64\n",
      "Incident       73473 non-null object\n",
      "Incident ID    889 non-null float64\n",
      "Location       73232 non-null object\n",
      "Min Delay      71595 non-null float64\n",
      "Min Gap        71573 non-null float64\n",
      "Report Date    73473 non-null datetime64[ns]\n",
      "Route          73473 non-null int64\n",
      "Time           73473 non-null object\n",
      "Vehicle        68941 non-null float64\n",
      "dtypes: datetime64[ns](1), float64(6), int64(1), object(5)\n",
      "memory usage: 7.8+ MB\n",
      "df.info() output None\n",
      "df.shape output (73473, 13)\n",
      "df.describe() output              Delay          Gap  Incident ID     Min Delay       Min Gap  \\\n",
      "count  1813.000000  1806.000000   889.000000  71595.000000  71573.000000   \n",
      "mean     15.492002    21.211517     3.901012     12.738445     18.191637   \n",
      "std      39.385786    40.384120     2.861142     30.001200     33.729737   \n",
      "min       0.000000     0.000000     1.000000      0.000000      0.000000   \n",
      "25%       5.000000     9.000000     1.000000      5.000000      9.000000   \n",
      "50%       7.000000    12.000000     5.000000      6.000000     12.000000   \n",
      "75%      12.000000    19.000000     7.000000     11.000000     20.000000   \n",
      "max     540.000000   546.000000    10.000000   1400.000000   4216.000000   \n",
      "\n",
      "              Route        Vehicle  \n",
      "count  73473.000000   68941.000000  \n",
      "mean     501.065521    4399.409988  \n",
      "std       44.441978    1556.333667  \n",
      "min        1.000000       0.000000  \n",
      "25%      501.000000    4075.000000  \n",
      "50%      505.000000    4164.000000  \n",
      "75%      509.000000    4400.000000  \n",
      "max      999.000000  163242.000000  \n",
      "df.types output Day                    object\n",
      "Delay                 float64\n",
      "Direction              object\n",
      "Gap                   float64\n",
      "Incident               object\n",
      "Incident ID           float64\n",
      "Location               object\n",
      "Min Delay             float64\n",
      "Min Gap               float64\n",
      "Report Date    datetime64[ns]\n",
      "Route                   int64\n",
      "Time                   object\n",
      "Vehicle               float64\n",
      "dtype: object\n",
      "all cols ['Day', 'Delay', 'Direction', 'Gap', 'Incident', 'Incident ID', 'Location', 'Min Delay', 'Min Gap', 'Report Date', 'Route', 'Time', 'Vehicle']\n",
      "texcols:  ['Incident', 'Location']\n",
      "continuouscols:  ['Min Delay', 'Min Gap']\n",
      "timecols:  ['Report Date', 'Time']\n",
      "collist:  ['Day', 'Vehicle', 'Route', 'Direction']\n",
      "before mv\n",
      "Counter({2018: 15612, 2016: 14021, 2017: 13762, 2015: 12221, 2014: 11027, 2019: 6830})\n",
      "df.shape output pre route (73473, 11)\n",
      "Route count pre cleanup 109\n",
      "route count post cleanup 15\n",
      "Vehicle count pre cleanup 2525\n",
      "Vehicle count post cleanup 1018\n",
      "Direction count pre cleanup 99\n",
      "Direction count post cleanup 5\n",
      "Location count pre cleanup 16361\n",
      "Location count post cleanup 10507\n",
      "df.shape output post location (73473, 11)\n",
      "df.shape output 1 (73473, 11)\n",
      "df.shape output 2 (61018, 11)\n",
      "df.shape output 3 (60807, 11)\n",
      "df.shape output 4 (58765, 11)\n",
      "Bad route count: 0\n",
      "Bad direction count: 0\n",
      "Bad vehicle count: 0\n",
      "df.shape output post bad removes (58765, 11)\n"
     ]
    },
    {
     "data": {
      "text/html": [
       "<div>\n",
       "<style scoped>\n",
       "    .dataframe tbody tr th:only-of-type {\n",
       "        vertical-align: middle;\n",
       "    }\n",
       "\n",
       "    .dataframe tbody tr th {\n",
       "        vertical-align: top;\n",
       "    }\n",
       "\n",
       "    .dataframe thead th {\n",
       "        text-align: right;\n",
       "    }\n",
       "</style>\n",
       "<table border=\"1\" class=\"dataframe\">\n",
       "  <thead>\n",
       "    <tr style=\"text-align: right;\">\n",
       "      <th></th>\n",
       "      <th>Day</th>\n",
       "      <th>Direction</th>\n",
       "      <th>Incident</th>\n",
       "      <th>Location</th>\n",
       "      <th>Min Delay</th>\n",
       "      <th>Min Gap</th>\n",
       "      <th>Report Date</th>\n",
       "      <th>Route</th>\n",
       "      <th>Time</th>\n",
       "      <th>Vehicle</th>\n",
       "      <th>Report Date Time</th>\n",
       "    </tr>\n",
       "    <tr>\n",
       "      <th>Report Date Time</th>\n",
       "      <th></th>\n",
       "      <th></th>\n",
       "      <th></th>\n",
       "      <th></th>\n",
       "      <th></th>\n",
       "      <th></th>\n",
       "      <th></th>\n",
       "      <th></th>\n",
       "      <th></th>\n",
       "      <th></th>\n",
       "      <th></th>\n",
       "    </tr>\n",
       "  </thead>\n",
       "  <tbody>\n",
       "    <tr>\n",
       "      <th>2014-01-02 06:31:00</th>\n",
       "      <td>Thursday</td>\n",
       "      <td>e</td>\n",
       "      <td>Late Leaving Garage</td>\n",
       "      <td>dundas and roncesvalles</td>\n",
       "      <td>4.0</td>\n",
       "      <td>8.0</td>\n",
       "      <td>2014-01-02</td>\n",
       "      <td>505</td>\n",
       "      <td>06:31:00</td>\n",
       "      <td>4018</td>\n",
       "      <td>2014-01-02 06:31:00</td>\n",
       "    </tr>\n",
       "    <tr>\n",
       "      <th>2014-01-02 12:43:00</th>\n",
       "      <td>Thursday</td>\n",
       "      <td>e</td>\n",
       "      <td>Utilized Off Route</td>\n",
       "      <td>king and shaw</td>\n",
       "      <td>20.0</td>\n",
       "      <td>22.0</td>\n",
       "      <td>2014-01-02</td>\n",
       "      <td>504</td>\n",
       "      <td>12:43:00</td>\n",
       "      <td>4128</td>\n",
       "      <td>2014-01-02 12:43:00</td>\n",
       "    </tr>\n",
       "    <tr>\n",
       "      <th>2014-01-02 14:01:00</th>\n",
       "      <td>Thursday</td>\n",
       "      <td>w</td>\n",
       "      <td>Held By</td>\n",
       "      <td>bingham and kingston road</td>\n",
       "      <td>13.0</td>\n",
       "      <td>19.0</td>\n",
       "      <td>2014-01-02</td>\n",
       "      <td>501</td>\n",
       "      <td>14:01:00</td>\n",
       "      <td>4016</td>\n",
       "      <td>2014-01-02 14:01:00</td>\n",
       "    </tr>\n",
       "    <tr>\n",
       "      <th>2014-01-02 14:22:00</th>\n",
       "      <td>Thursday</td>\n",
       "      <td>w</td>\n",
       "      <td>Investigation</td>\n",
       "      <td>king st. and roncesvalles</td>\n",
       "      <td>7.0</td>\n",
       "      <td>11.0</td>\n",
       "      <td>2014-01-02</td>\n",
       "      <td>504</td>\n",
       "      <td>14:22:00</td>\n",
       "      <td>4175</td>\n",
       "      <td>2014-01-02 14:22:00</td>\n",
       "    </tr>\n",
       "    <tr>\n",
       "      <th>2014-01-02 16:42:00</th>\n",
       "      <td>Thursday</td>\n",
       "      <td>e</td>\n",
       "      <td>Utilized Off Route</td>\n",
       "      <td>bathurst and king</td>\n",
       "      <td>3.0</td>\n",
       "      <td>6.0</td>\n",
       "      <td>2014-01-02</td>\n",
       "      <td>504</td>\n",
       "      <td>16:42:00</td>\n",
       "      <td>4080</td>\n",
       "      <td>2014-01-02 16:42:00</td>\n",
       "    </tr>\n",
       "  </tbody>\n",
       "</table>\n",
       "</div>"
      ],
      "text/plain": [
       "                          Day Direction             Incident  \\\n",
       "Report Date Time                                               \n",
       "2014-01-02 06:31:00  Thursday         e  Late Leaving Garage   \n",
       "2014-01-02 12:43:00  Thursday         e   Utilized Off Route   \n",
       "2014-01-02 14:01:00  Thursday         w              Held By   \n",
       "2014-01-02 14:22:00  Thursday         w        Investigation   \n",
       "2014-01-02 16:42:00  Thursday         e   Utilized Off Route   \n",
       "\n",
       "                                      Location  Min Delay  Min Gap  \\\n",
       "Report Date Time                                                     \n",
       "2014-01-02 06:31:00    dundas and roncesvalles        4.0      8.0   \n",
       "2014-01-02 12:43:00              king and shaw       20.0     22.0   \n",
       "2014-01-02 14:01:00  bingham and kingston road       13.0     19.0   \n",
       "2014-01-02 14:22:00  king st. and roncesvalles        7.0     11.0   \n",
       "2014-01-02 16:42:00          bathurst and king        3.0      6.0   \n",
       "\n",
       "                    Report Date Route      Time Vehicle    Report Date Time  \n",
       "Report Date Time                                                             \n",
       "2014-01-02 06:31:00  2014-01-02   505  06:31:00    4018 2014-01-02 06:31:00  \n",
       "2014-01-02 12:43:00  2014-01-02   504  12:43:00    4128 2014-01-02 12:43:00  \n",
       "2014-01-02 14:01:00  2014-01-02   501  14:01:00    4016 2014-01-02 14:01:00  \n",
       "2014-01-02 14:22:00  2014-01-02   504  14:22:00    4175 2014-01-02 14:22:00  \n",
       "2014-01-02 16:42:00  2014-01-02   504  16:42:00    4080 2014-01-02 16:42:00  "
      ]
     },
     "execution_count": 122,
     "metadata": {},
     "output_type": "execute_result"
    }
   ],
   "source": [
    "# master cell to call the other functions\n",
    "# get the path for data files\n",
    "path = get_path()\n",
    "print(\"path is\",path)\n",
    "# load route direction and delay data datframes\n",
    "df = ingest_data(path)\n",
    "print(\"number of records: \",len(df.index))\n",
    "print(\"df.info() output\",df.info())\n",
    "print(\"df.shape output\",df.shape)\n",
    "print(\"df.describe() output\",df.describe())\n",
    "print(\"df.types output\",df.dtypes)\n",
    "df,allcols,textcols,continuouscols,timecols,collist = general_cleanup(df)\n",
    "df.head()\n",
    "# get record count by year\n",
    "from collections import Counter\n",
    "df_year = pd.DatetimeIndex(df['Report Date Time']).year\n",
    "print(str(Counter(df_year)))\n",
    "#Counter(df_year).values()\n",
    "# check that the values for April 2019 are correct\n",
    "df[df['Report Date Time'].astype(str).str[:7]=='2019-04']\n",
    "# cleanup Route\n",
    "print(\"df.shape output pre route\",df.shape)\n",
    "df = route_cleanup(df) \n",
    "df = vehicle_cleanup(df)\n",
    "df = direction_cleanup(df)\n",
    "df = location_cleanup(df)\n",
    "print(\"df.shape output post location\",df.shape)\n",
    "if remove_bad_values:\n",
    "    df = remove_bad(df)\n",
    "print(\"Bad route count:\",df[df.Route == 'bad route'].shape[0])\n",
    "print(\"Bad direction count:\",df[df.Direction == 'bad direction'].shape[0])\n",
    "print(\"Bad vehicle count:\",df[df.Vehicle == 'bad vehicle'].shape[0])\n",
    "# pickle the cleansed dataframe\n",
    "print(\"df.shape output post bad removes\",df.shape)\n",
    "if save_transformed_dataframe:\n",
    "    file_name = path + pickled_output_dataframe\n",
    "    df.to_pickle(file_name)\n",
    "df.head()"
   ]
  },
  {
   "cell_type": "code",
   "execution_count": 120,
   "metadata": {},
   "outputs": [
    {
     "data": {
      "text/plain": [
       "Counter({2014: 9340,\n",
       "         2019: 4739,\n",
       "         2018: 12011,\n",
       "         2017: 9890,\n",
       "         2016: 11908,\n",
       "         2015: 10877})"
      ]
     },
     "execution_count": 120,
     "metadata": {},
     "output_type": "execute_result"
    }
   ],
   "source": [
    "# get record count by year\n",
    "from collections import Counter\n",
    "df_year = pd.DatetimeIndex(df['Report Date Time']).year\n",
    "Counter(df_year)\n",
    "\n"
   ]
  },
  {
   "cell_type": "markdown",
   "metadata": {},
   "source": [
    "# Visualize cleaned data"
   ]
  },
  {
   "cell_type": "code",
   "execution_count": 129,
   "metadata": {},
   "outputs": [
    {
     "name": "stdout",
     "output_type": "stream",
     "text": [
      "Requirement already satisfied: pixiedust in /opt/conda/envs/fastai/lib/python3.6/site-packages (1.1.15)\n",
      "Requirement already satisfied: colour in /opt/conda/envs/fastai/lib/python3.6/site-packages (from pixiedust) (0.1.5)\n",
      "Requirement already satisfied: requests in /opt/conda/envs/fastai/lib/python3.6/site-packages (from pixiedust) (2.21.0)\n",
      "Requirement already satisfied: markdown in /opt/conda/envs/fastai/lib/python3.6/site-packages (from pixiedust) (3.0.1)\n",
      "Requirement already satisfied: astunparse in /opt/conda/envs/fastai/lib/python3.6/site-packages (from pixiedust) (1.6.2)\n",
      "Requirement already satisfied: mpld3 in /opt/conda/envs/fastai/lib/python3.6/site-packages (from pixiedust) (0.3)\n",
      "Requirement already satisfied: geojson in /opt/conda/envs/fastai/lib/python3.6/site-packages (from pixiedust) (2.4.1)\n",
      "Requirement already satisfied: lxml in /opt/conda/envs/fastai/lib/python3.6/site-packages (from pixiedust) (4.3.2)\n",
      "Requirement already satisfied: idna<2.9,>=2.5 in /opt/conda/envs/fastai/lib/python3.6/site-packages (from requests->pixiedust) (2.8)\n",
      "Requirement already satisfied: certifi>=2017.4.17 in /opt/conda/envs/fastai/lib/python3.6/site-packages (from requests->pixiedust) (2018.11.29)\n",
      "Requirement already satisfied: chardet<3.1.0,>=3.0.2 in /opt/conda/envs/fastai/lib/python3.6/site-packages (from requests->pixiedust) (3.0.4)\n",
      "Requirement already satisfied: urllib3<1.25,>=1.21.1 in /opt/conda/envs/fastai/lib/python3.6/site-packages (from requests->pixiedust) (1.24.1)\n",
      "Requirement already satisfied: wheel<1.0,>=0.23.0 in /opt/conda/envs/fastai/lib/python3.6/site-packages (from astunparse->pixiedust) (0.32.3)\n",
      "Requirement already satisfied: six<2.0,>=1.6.1 in /opt/conda/envs/fastai/lib/python3.6/site-packages (from astunparse->pixiedust) (1.12.0)\n"
     ]
    }
   ],
   "source": [
    "!pip install pixiedust"
   ]
  },
  {
   "cell_type": "code",
   "execution_count": 130,
   "metadata": {},
   "outputs": [],
   "source": [
    "import pixiedust"
   ]
  },
  {
   "cell_type": "code",
   "execution_count": 131,
   "metadata": {
    "pixiedust": {
     "displayParams": {
      "binsize": "23",
      "chartsize": "70",
      "handlerId": "barChart",
      "keyFields": "Route",
      "mapboxtoken": "pk.eyJ1Ijoicnlhbm1hcmsiLCJhIjoiY2pvM2JnZmE0MHY5dzNxcXM0Zmw3c2RwZSJ9.k-PhU8qMVztXtdyuX2Yjpw",
      "sortby": "Values DESC",
      "stretch": "false",
      "tableFields": "Day",
      "valueFields": "Min Delay"
     }
    },
    "scrolled": false
   },
   "outputs": [
    {
     "data": {
      "text/html": [
       "<style type=\"text/css\">.pd_warning{display:none;}</style><div class=\"pd_warning\"><em>Hey, there's something awesome here! To see it, open this notebook outside GitHub, in a viewer like Jupyter</em></div>\n",
       "        <div class=\"pd_save is-viewer-good\" style=\"padding-right:10px;text-align: center;line-height:initial !important;font-size: xx-large;font-weight: 500;color: coral;\">\n",
       "            \n",
       "        </div>\n",
       "    <div id=\"chartFigure6317d90d\" class=\"pd_save is-viewer-good\" style=\"overflow-x:auto\">\n",
       "            \n",
       "                    \n",
       "                            <center><img style=\"max-width:initial !important\" src=\"data:image/png;base64,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\" class=\"pd_save\"></center>\n",
       "                        \n",
       "                    \n",
       "                \n",
       "        </div>"
      ],
      "text/plain": [
       "<IPython.core.display.HTML object>"
      ]
     },
     "metadata": {},
     "output_type": "display_data"
    }
   ],
   "source": [
    "display(df)"
   ]
  }
 ],
 "metadata": {
  "kernelspec": {
   "display_name": "Python 3",
   "language": "python",
   "name": "python3"
  },
  "language_info": {
   "codemirror_mode": {
    "name": "ipython",
    "version": 3
   },
   "file_extension": ".py",
   "mimetype": "text/x-python",
   "name": "python",
   "nbconvert_exporter": "python",
   "pygments_lexer": "ipython3",
   "version": "3.6.7"
  }
 },
 "nbformat": 4,
 "nbformat_minor": 2
}
