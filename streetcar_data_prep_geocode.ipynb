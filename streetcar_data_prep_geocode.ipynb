{
    "nbformat_minor": 2, 
    "cells": [
        {
            "source": "# Streetcar Delay Prediction - Data Preparation Geocode Specific\n\nUse dataset covering Toronto Transit Commission (TTC) streetcar delays 2014 - present to predict future delays and come up with recommendations for avoiding delays.\n\nSource dataset: : https://www.toronto.ca/city-government/data-research-maps/open-data/open-data-catalogue/#e8f359f0-2f47-3058-bf64-6ec488de52da\n\nThis notebook contains the data preparation steps specific to mapping free-form location descriptions to latitude and longitude\n\n- use the Google Maps API Web Services for Python  https://github.com/googlemaps/google-maps-services-python\n- generate the latitude and longitude values for locations and create new columns in the output dataset", 
            "cell_type": "markdown", 
            "metadata": {}
        }, 
        {
            "source": "# Streetcar routes\n\nFrom https://www.ttc.ca/Routes/Streetcars.jsp\n\n<table style=\"border: none\" align=\"left\">\n   </tr>\n   <tr style=\"border: none\">\n       <th style=\"border: none\"><img src=\"https://raw.githubusercontent.com/ryanmark1867/streetcarnov3/master/streetcar%20routes.jpg\" width=\"600\" alt=\"Icon\"> </th>\n   </tr>\n</table>", 
            "cell_type": "markdown", 
            "metadata": {}
        }, 
        {
            "execution_count": 7, 
            "cell_type": "code", 
            "metadata": {}, 
            "outputs": [
                {
                    "output_type": "stream", 
                    "name": "stdout", 
                    "text": "/notebooks/manning/notebooks\r\n"
                }
            ], 
            "source": "! pwd"
        }, 
        {
            "source": "# Get path and load dataframe saved from previous data preparation step", 
            "cell_type": "markdown", 
            "metadata": {}
        }, 
        {
            "execution_count": 2, 
            "cell_type": "code", 
            "metadata": {}, 
            "outputs": [], 
            "source": "import numpy as np # linear algebra\nimport pandas as pd # data processing, CSV file I/O (e.g. pd.read_csv)\nimport matplotlib.pyplot as plt\n# import seaborn as sns\nimport datetime\nimport os\n\nremove_bad_values = False\ncity_name = 'Toronto'\n"
        }, 
        {
            "execution_count": 32, 
            "cell_type": "code", 
            "metadata": {}, 
            "outputs": [
                {
                    "output_type": "stream", 
                    "name": "stdout", 
                    "text": "raw path is /notebooks/manning/notebooks\n"
                }
            ], 
            "source": "# get the directory for that this notebook is in\nrawpath = os.getcwd()\nprint(\"raw path is\",rawpath)"
        }, 
        {
            "execution_count": 33, 
            "cell_type": "code", 
            "metadata": {}, 
            "outputs": [
                {
                    "output_type": "stream", 
                    "name": "stdout", 
                    "text": "path is /notebooks/manning/data/\n"
                }
            ], 
            "source": "# data is in a directory called \"data\" that is a sibling to the directory containing the notebook\npath = os.path.abspath(os.path.join(rawpath, '..', 'data')) + \"/\"\nprint(\"path is\", path)"
        }, 
        {
            "execution_count": 34, 
            "cell_type": "code", 
            "metadata": {}, 
            "outputs": [], 
            "source": "# constants for the streetcar problem\n# same values saved in data_preparation notebook: pickled_input_dataframe, pickled_output_dataframe\npickled_data_file = '2014_2018.pkl'\n#pickled_dataframe = '2014_2018_df.pkl'\npickled_dataframe = '2014_2018_df_cleaned_keep_bad.pkl'\npickled_output_dataframe = '2014_2018_df_cleaned_keep_bad_loc_geocoded.pkl'"
        }, 
        {
            "execution_count": 35, 
            "cell_type": "code", 
            "metadata": {}, 
            "outputs": [
                {
                    "execution_count": 35, 
                    "metadata": {}, 
                    "data": {
                        "text/html": "<div>\n<style scoped>\n    .dataframe tbody tr th:only-of-type {\n        vertical-align: middle;\n    }\n\n    .dataframe tbody tr th {\n        vertical-align: top;\n    }\n\n    .dataframe thead th {\n        text-align: right;\n    }\n</style>\n<table border=\"1\" class=\"dataframe\">\n  <thead>\n    <tr style=\"text-align: right;\">\n      <th></th>\n      <th>Report Date</th>\n      <th>Route</th>\n      <th>Time</th>\n      <th>Day</th>\n      <th>Location</th>\n      <th>Incident</th>\n      <th>Min Delay</th>\n      <th>Min Gap</th>\n      <th>Direction</th>\n      <th>Vehicle</th>\n      <th>Report Date Time</th>\n    </tr>\n    <tr>\n      <th>Report Date Time</th>\n      <th></th>\n      <th></th>\n      <th></th>\n      <th></th>\n      <th></th>\n      <th></th>\n      <th></th>\n      <th></th>\n      <th></th>\n      <th></th>\n      <th></th>\n    </tr>\n  </thead>\n  <tbody>\n    <tr>\n      <th>2015-01-01 01:25:00</th>\n      <td>2015-01-01</td>\n      <td>504</td>\n      <td>01:25:00</td>\n      <td>Thursday</td>\n      <td>broadview and gerrard</td>\n      <td>Mechanical</td>\n      <td>9.0</td>\n      <td>18.0</td>\n      <td>s</td>\n      <td>4092</td>\n      <td>2015-01-01 01:25:00</td>\n    </tr>\n    <tr>\n      <th>2015-01-01 01:44:00</th>\n      <td>2015-01-01</td>\n      <td>504</td>\n      <td>01:44:00</td>\n      <td>Thursday</td>\n      <td>galley and roncesvalles</td>\n      <td>Held By</td>\n      <td>14.0</td>\n      <td>23.0</td>\n      <td>s</td>\n      <td>4030</td>\n      <td>2015-01-01 01:44:00</td>\n    </tr>\n    <tr>\n      <th>2015-01-01 02:04:00</th>\n      <td>2015-01-01</td>\n      <td>504</td>\n      <td>02:04:00</td>\n      <td>Thursday</td>\n      <td>king and sherborne</td>\n      <td>Mechanical</td>\n      <td>9.0</td>\n      <td>18.0</td>\n      <td>e</td>\n      <td>4147</td>\n      <td>2015-01-01 02:04:00</td>\n    </tr>\n    <tr>\n      <th>2015-01-01 02:12:00</th>\n      <td>2015-01-01</td>\n      <td>306</td>\n      <td>02:12:00</td>\n      <td>Thursday</td>\n      <td>main st. and upper gerard</td>\n      <td>Investigation</td>\n      <td>29.0</td>\n      <td>39.0</td>\n      <td>s</td>\n      <td>4049</td>\n      <td>2015-01-01 02:12:00</td>\n    </tr>\n    <tr>\n      <th>2015-01-01 05:05:00</th>\n      <td>2015-01-01</td>\n      <td>306</td>\n      <td>05:05:00</td>\n      <td>Thursday</td>\n      <td>gerrard and sumach</td>\n      <td>Mechanical</td>\n      <td>30.0</td>\n      <td>60.0</td>\n      <td>w</td>\n      <td>4114</td>\n      <td>2015-01-01 05:05:00</td>\n    </tr>\n  </tbody>\n</table>\n</div>", 
                        "text/plain": "                    Report Date Route      Time       Day  \\\nReport Date Time                                            \n2015-01-01 01:25:00  2015-01-01   504  01:25:00  Thursday   \n2015-01-01 01:44:00  2015-01-01   504  01:44:00  Thursday   \n2015-01-01 02:04:00  2015-01-01   504  02:04:00  Thursday   \n2015-01-01 02:12:00  2015-01-01   306  02:12:00  Thursday   \n2015-01-01 05:05:00  2015-01-01   306  05:05:00  Thursday   \n\n                                      Location       Incident  Min Delay  \\\nReport Date Time                                                           \n2015-01-01 01:25:00      broadview and gerrard     Mechanical        9.0   \n2015-01-01 01:44:00    galley and roncesvalles        Held By       14.0   \n2015-01-01 02:04:00         king and sherborne     Mechanical        9.0   \n2015-01-01 02:12:00  main st. and upper gerard  Investigation       29.0   \n2015-01-01 05:05:00         gerrard and sumach     Mechanical       30.0   \n\n                     Min Gap Direction Vehicle    Report Date Time  \nReport Date Time                                                    \n2015-01-01 01:25:00     18.0         s    4092 2015-01-01 01:25:00  \n2015-01-01 01:44:00     23.0         s    4030 2015-01-01 01:44:00  \n2015-01-01 02:04:00     18.0         e    4147 2015-01-01 02:04:00  \n2015-01-01 02:12:00     39.0         s    4049 2015-01-01 02:12:00  \n2015-01-01 05:05:00     60.0         w    4114 2015-01-01 05:05:00  "
                    }, 
                    "output_type": "execute_result"
                }
            ], 
            "source": "file_name = path + pickled_dataframe\ndf = pd.read_pickle(file_name)\ndf.head()"
        }, 
        {
            "execution_count": 7, 
            "cell_type": "code", 
            "metadata": {}, 
            "outputs": [
                {
                    "execution_count": 7, 
                    "metadata": {}, 
                    "data": {
                        "text/plain": "(83365, 11)"
                    }, 
                    "output_type": "execute_result"
                }
            ], 
            "source": "df.shape"
        }, 
        {
            "source": "# Set up geocode", 
            "cell_type": "markdown", 
            "metadata": {}
        }, 
        {
            "execution_count": 3, 
            "cell_type": "code", 
            "metadata": {}, 
            "outputs": [
                {
                    "output_type": "stream", 
                    "name": "stdout", 
                    "text": "Collecting googlemaps\n  Downloading https://files.pythonhosted.org/packages/5a/3d/13b4230f3c1b8a586cdc8d8179f3c6af771c11247f8de9c166d1ab37f51d/googlemaps-3.0.2.tar.gz\nRequirement not upgraded as not directly required: requests<3.0,>=2.11.1 in /opt/conda/envs/DSX-Python35/lib/python3.5/site-packages (from googlemaps)\nRequirement not upgraded as not directly required: chardet<3.1.0,>=3.0.2 in /opt/conda/envs/DSX-Python35/lib/python3.5/site-packages (from requests<3.0,>=2.11.1->googlemaps)\nRequirement not upgraded as not directly required: idna<2.7,>=2.5 in /opt/conda/envs/DSX-Python35/lib/python3.5/site-packages (from requests<3.0,>=2.11.1->googlemaps)\nRequirement not upgraded as not directly required: urllib3<1.23,>=1.21.1 in /opt/conda/envs/DSX-Python35/lib/python3.5/site-packages (from requests<3.0,>=2.11.1->googlemaps)\nRequirement not upgraded as not directly required: certifi>=2017.4.17 in /opt/conda/envs/DSX-Python35/lib/python3.5/site-packages (from requests<3.0,>=2.11.1->googlemaps)\nBuilding wheels for collected packages: googlemaps\n  Running setup.py bdist_wheel for googlemaps ... \u001b[?25ldone\n\u001b[?25h  Stored in directory: /home/dsxuser/.cache/pip/wheels/3c/3f/25/ce6d7722dba07e5d4a12d27ab38f3d7add65ef43171b02c819\nSuccessfully built googlemaps\nInstalling collected packages: googlemaps\nSuccessfully installed googlemaps-3.0.2\n"
                }
            ], 
            "source": "! pip install -U googlemaps"
        }, 
        {
            "execution_count": 4, 
            "cell_type": "code", 
            "metadata": {
                "scrolled": true
            }, 
            "outputs": [
                {
                    "output_type": "stream", 
                    "name": "stdout", 
                    "text": "geocode result []\n"
                }
            ], 
            "source": "# The code was removed by Watson Studio for sharing."
        }, 
        {
            "execution_count": 9, 
            "cell_type": "code", 
            "metadata": {}, 
            "outputs": [
                {
                    "output_type": "stream", 
                    "name": "stdout", 
                    "text": "locs  {'lat': 43.653226, 'lng': -79.3831843}\n"
                }
            ], 
            "source": "'''# problem is get IndexError: list index out of range\n# 4     locs = geocode_result[0][\"geometry\"][\"location\"]\n\nlocs = geocode_result[0][\"geometry\"][\"location\"]\nprint(\"locs \",locs)'''"
        }, 
        {
            "execution_count": 10, 
            "cell_type": "code", 
            "metadata": {}, 
            "outputs": [
                {
                    "output_type": "stream", 
                    "name": "stdout", 
                    "text": "locs {'lat': 43.653226, 'lng': -79.3831843}\nlats 43.653226\n"
                }
            ], 
            "source": "'''# data[\"results\"][0][\"geometry\"][\"location\"]\nlocs = geocode_result[0][\"geometry\"][\"location\"]\nprint(\"locs\",locs)\nlats = locs[\"lat\"]\nprint(\"lats\",lats)'''"
        }, 
        {
            "execution_count": 6, 
            "cell_type": "code", 
            "metadata": {}, 
            "outputs": [], 
            "source": "def get_geocode_result(junction):\n    \n    geo_string = junction+\", \"+city_name\n    # print(\"geo_string is\", geo_string)\n    geocode_result = gmaps.geocode(geo_string)\n    # check to see if the result is empty and if so return zeros to indicate unparseable junction value\n    if len(geocode_result) > 0:\n        locs = geocode_result[0][\"geometry\"][\"location\"]\n        return [locs[\"lat\"], locs[\"lng\"]]\n    else:\n        return [0.0,0.0]\n\n"
        }, 
        {
            "execution_count": 7, 
            "cell_type": "code", 
            "metadata": {
                "scrolled": true
            }, 
            "outputs": [
                {
                    "output_type": "stream", 
                    "name": "stdout", 
                    "text": "locs  [0.0, 0.0]\n"
                }
            ], 
            "source": "locs = get_geocode_result(\"roncesvalles to longbranch\")\nprint(\"locs \",locs)"
        }, 
        {
            "execution_count": 8, 
            "cell_type": "code", 
            "metadata": {}, 
            "outputs": [
                {
                    "execution_count": 8, 
                    "metadata": {}, 
                    "data": {
                        "text/plain": "43.6471969"
                    }, 
                    "output_type": "execute_result"
                }
            ], 
            "source": "get_geocode_result(\"queen and bathurst\")[0]"
        }, 
        {
            "execution_count": 40, 
            "cell_type": "code", 
            "metadata": {}, 
            "outputs": [
                {
                    "execution_count": 40, 
                    "metadata": {}, 
                    "data": {
                        "text/plain": "(83365, 11)"
                    }, 
                    "output_type": "execute_result"
                }
            ], 
            "source": "df.shape"
        }, 
        {
            "execution_count": 15, 
            "cell_type": "code", 
            "metadata": {}, 
            "outputs": [
                {
                    "execution_count": 15, 
                    "metadata": {}, 
                    "data": {
                        "text/plain": "(10, 11)"
                    }, 
                    "output_type": "execute_result"
                }
            ], 
            "source": "df_cut = df[:10]\ndf_cut.shape"
        }, 
        {
            "execution_count": 16, 
            "cell_type": "code", 
            "metadata": {}, 
            "outputs": [
                {
                    "execution_count": 16, 
                    "metadata": {}, 
                    "data": {
                        "text/html": "<div>\n<style scoped>\n    .dataframe tbody tr th:only-of-type {\n        vertical-align: middle;\n    }\n\n    .dataframe tbody tr th {\n        vertical-align: top;\n    }\n\n    .dataframe thead th {\n        text-align: right;\n    }\n</style>\n<table border=\"1\" class=\"dataframe\">\n  <thead>\n    <tr style=\"text-align: right;\">\n      <th></th>\n      <th>Report Date</th>\n      <th>Route</th>\n      <th>Time</th>\n      <th>Day</th>\n      <th>Location</th>\n      <th>Incident</th>\n      <th>Min Delay</th>\n      <th>Min Gap</th>\n      <th>Direction</th>\n      <th>Vehicle</th>\n      <th>Report Date Time</th>\n    </tr>\n    <tr>\n      <th>Report Date Time</th>\n      <th></th>\n      <th></th>\n      <th></th>\n      <th></th>\n      <th></th>\n      <th></th>\n      <th></th>\n      <th></th>\n      <th></th>\n      <th></th>\n      <th></th>\n    </tr>\n  </thead>\n  <tbody>\n    <tr>\n      <th>2015-01-01 01:25:00</th>\n      <td>2015-01-01</td>\n      <td>504</td>\n      <td>01:25:00</td>\n      <td>Thursday</td>\n      <td>broadview and gerrard</td>\n      <td>Mechanical</td>\n      <td>9.0</td>\n      <td>18.0</td>\n      <td>s</td>\n      <td>4092</td>\n      <td>2015-01-01 01:25:00</td>\n    </tr>\n    <tr>\n      <th>2015-01-01 01:44:00</th>\n      <td>2015-01-01</td>\n      <td>504</td>\n      <td>01:44:00</td>\n      <td>Thursday</td>\n      <td>galley and roncesvalles</td>\n      <td>Held By</td>\n      <td>14.0</td>\n      <td>23.0</td>\n      <td>s</td>\n      <td>4030</td>\n      <td>2015-01-01 01:44:00</td>\n    </tr>\n    <tr>\n      <th>2015-01-01 02:04:00</th>\n      <td>2015-01-01</td>\n      <td>504</td>\n      <td>02:04:00</td>\n      <td>Thursday</td>\n      <td>king and sherborne</td>\n      <td>Mechanical</td>\n      <td>9.0</td>\n      <td>18.0</td>\n      <td>e</td>\n      <td>4147</td>\n      <td>2015-01-01 02:04:00</td>\n    </tr>\n    <tr>\n      <th>2015-01-01 02:12:00</th>\n      <td>2015-01-01</td>\n      <td>306</td>\n      <td>02:12:00</td>\n      <td>Thursday</td>\n      <td>main st. and upper gerard</td>\n      <td>Investigation</td>\n      <td>29.0</td>\n      <td>39.0</td>\n      <td>s</td>\n      <td>4049</td>\n      <td>2015-01-01 02:12:00</td>\n    </tr>\n    <tr>\n      <th>2015-01-01 05:05:00</th>\n      <td>2015-01-01</td>\n      <td>306</td>\n      <td>05:05:00</td>\n      <td>Thursday</td>\n      <td>gerrard and sumach</td>\n      <td>Mechanical</td>\n      <td>30.0</td>\n      <td>60.0</td>\n      <td>w</td>\n      <td>4114</td>\n      <td>2015-01-01 05:05:00</td>\n    </tr>\n  </tbody>\n</table>\n</div>", 
                        "text/plain": "                    Report Date Route      Time       Day  \\\nReport Date Time                                            \n2015-01-01 01:25:00  2015-01-01   504  01:25:00  Thursday   \n2015-01-01 01:44:00  2015-01-01   504  01:44:00  Thursday   \n2015-01-01 02:04:00  2015-01-01   504  02:04:00  Thursday   \n2015-01-01 02:12:00  2015-01-01   306  02:12:00  Thursday   \n2015-01-01 05:05:00  2015-01-01   306  05:05:00  Thursday   \n\n                                      Location       Incident  Min Delay  \\\nReport Date Time                                                           \n2015-01-01 01:25:00      broadview and gerrard     Mechanical        9.0   \n2015-01-01 01:44:00    galley and roncesvalles        Held By       14.0   \n2015-01-01 02:04:00         king and sherborne     Mechanical        9.0   \n2015-01-01 02:12:00  main st. and upper gerard  Investigation       29.0   \n2015-01-01 05:05:00         gerrard and sumach     Mechanical       30.0   \n\n                     Min Gap Direction Vehicle    Report Date Time  \nReport Date Time                                                    \n2015-01-01 01:25:00     18.0         s    4092 2015-01-01 01:25:00  \n2015-01-01 01:44:00     23.0         s    4030 2015-01-01 01:44:00  \n2015-01-01 02:04:00     18.0         e    4147 2015-01-01 02:04:00  \n2015-01-01 02:12:00     39.0         s    4049 2015-01-01 02:12:00  \n2015-01-01 05:05:00     60.0         w    4114 2015-01-01 05:05:00  "
                    }, 
                    "output_type": "execute_result"
                }
            ], 
            "source": "df_cut.head()"
        }, 
        {
            "execution_count": 17, 
            "cell_type": "code", 
            "metadata": {}, 
            "outputs": [
                {
                    "execution_count": 17, 
                    "metadata": {}, 
                    "data": {
                        "text/plain": "(10, 11)"
                    }, 
                    "output_type": "execute_result"
                }
            ], 
            "source": "df_cut.shape"
        }, 
        {
            "execution_count": 41, 
            "cell_type": "code", 
            "metadata": {}, 
            "outputs": [
                {
                    "ename": "Timeout", 
                    "evalue": "", 
                    "traceback": [
                        "\u001b[0;31m---------------------------------------------------------------------------\u001b[0m", 
                        "\u001b[0;31m_OverQueryLimit\u001b[0m                           Traceback (most recent call last)", 
                        "\u001b[0;32m/opt/conda/envs/fastai/lib/python3.6/site-packages/googlemaps/client.py\u001b[0m in \u001b[0;36m_request\u001b[0;34m(self, url, params, first_request_time, retry_counter, base_url, accepts_clientid, extract_body, requests_kwargs, post_json)\u001b[0m\n\u001b[1;32m    259\u001b[0m             \u001b[0;32melse\u001b[0m\u001b[0;34m:\u001b[0m\u001b[0;34m\u001b[0m\u001b[0;34m\u001b[0m\u001b[0m\n\u001b[0;32m--> 260\u001b[0;31m                 \u001b[0mresult\u001b[0m \u001b[0;34m=\u001b[0m \u001b[0mself\u001b[0m\u001b[0;34m.\u001b[0m\u001b[0m_get_body\u001b[0m\u001b[0;34m(\u001b[0m\u001b[0mresponse\u001b[0m\u001b[0;34m)\u001b[0m\u001b[0;34m\u001b[0m\u001b[0;34m\u001b[0m\u001b[0m\n\u001b[0m\u001b[1;32m    261\u001b[0m             \u001b[0mself\u001b[0m\u001b[0;34m.\u001b[0m\u001b[0msent_times\u001b[0m\u001b[0;34m.\u001b[0m\u001b[0mappend\u001b[0m\u001b[0;34m(\u001b[0m\u001b[0mtime\u001b[0m\u001b[0;34m.\u001b[0m\u001b[0mtime\u001b[0m\u001b[0;34m(\u001b[0m\u001b[0;34m)\u001b[0m\u001b[0;34m)\u001b[0m\u001b[0;34m\u001b[0m\u001b[0;34m\u001b[0m\u001b[0m\n", 
                        "\u001b[0;32m/opt/conda/envs/fastai/lib/python3.6/site-packages/googlemaps/client.py\u001b[0m in \u001b[0;36m_get_body\u001b[0;34m(self, response)\u001b[0m\n\u001b[1;32m    286\u001b[0m             raise googlemaps.exceptions._OverQueryLimit(\n\u001b[0;32m--> 287\u001b[0;31m                 api_status, body.get(\"error_message\"))\n\u001b[0m\u001b[1;32m    288\u001b[0m \u001b[0;34m\u001b[0m\u001b[0m\n", 
                        "\u001b[0;31m_OverQueryLimit\u001b[0m: OVER_QUERY_LIMIT (You have exceeded your daily request quota for this API. If you did not set a custom daily request quota, verify your project has an active billing account: http://g.co/dev/maps-no-account)", 
                        "\nDuring handling of the above exception, another exception occurred:\n", 
                        "\u001b[0;31m_OverQueryLimit\u001b[0m                           Traceback (most recent call last)", 
                        "\u001b[0;32m/opt/conda/envs/fastai/lib/python3.6/site-packages/googlemaps/client.py\u001b[0m in \u001b[0;36m_request\u001b[0;34m(self, url, params, first_request_time, retry_counter, base_url, accepts_clientid, extract_body, requests_kwargs, post_json)\u001b[0m\n\u001b[1;32m    259\u001b[0m             \u001b[0;32melse\u001b[0m\u001b[0;34m:\u001b[0m\u001b[0;34m\u001b[0m\u001b[0;34m\u001b[0m\u001b[0m\n\u001b[0;32m--> 260\u001b[0;31m                 \u001b[0mresult\u001b[0m \u001b[0;34m=\u001b[0m \u001b[0mself\u001b[0m\u001b[0;34m.\u001b[0m\u001b[0m_get_body\u001b[0m\u001b[0;34m(\u001b[0m\u001b[0mresponse\u001b[0m\u001b[0;34m)\u001b[0m\u001b[0;34m\u001b[0m\u001b[0;34m\u001b[0m\u001b[0m\n\u001b[0m\u001b[1;32m    261\u001b[0m             \u001b[0mself\u001b[0m\u001b[0;34m.\u001b[0m\u001b[0msent_times\u001b[0m\u001b[0;34m.\u001b[0m\u001b[0mappend\u001b[0m\u001b[0;34m(\u001b[0m\u001b[0mtime\u001b[0m\u001b[0;34m.\u001b[0m\u001b[0mtime\u001b[0m\u001b[0;34m(\u001b[0m\u001b[0;34m)\u001b[0m\u001b[0;34m)\u001b[0m\u001b[0;34m\u001b[0m\u001b[0;34m\u001b[0m\u001b[0m\n", 
                        "\u001b[0;32m/opt/conda/envs/fastai/lib/python3.6/site-packages/googlemaps/client.py\u001b[0m in \u001b[0;36m_get_body\u001b[0;34m(self, response)\u001b[0m\n\u001b[1;32m    286\u001b[0m             raise googlemaps.exceptions._OverQueryLimit(\n\u001b[0;32m--> 287\u001b[0;31m                 api_status, body.get(\"error_message\"))\n\u001b[0m\u001b[1;32m    288\u001b[0m \u001b[0;34m\u001b[0m\u001b[0m\n", 
                        "\u001b[0;31m_OverQueryLimit\u001b[0m: OVER_QUERY_LIMIT (You have exceeded your daily request quota for this API. If you did not set a custom daily request quota, verify your project has an active billing account: http://g.co/dev/maps-no-account)", 
                        "\nDuring handling of the above exception, another exception occurred:\n", 
                        "\u001b[0;31m_OverQueryLimit\u001b[0m                           Traceback (most recent call last)", 
                        "\u001b[0;32m/opt/conda/envs/fastai/lib/python3.6/site-packages/googlemaps/client.py\u001b[0m in \u001b[0;36m_request\u001b[0;34m(self, url, params, first_request_time, retry_counter, base_url, accepts_clientid, extract_body, requests_kwargs, post_json)\u001b[0m\n\u001b[1;32m    259\u001b[0m             \u001b[0;32melse\u001b[0m\u001b[0;34m:\u001b[0m\u001b[0;34m\u001b[0m\u001b[0;34m\u001b[0m\u001b[0m\n\u001b[0;32m--> 260\u001b[0;31m                 \u001b[0mresult\u001b[0m \u001b[0;34m=\u001b[0m \u001b[0mself\u001b[0m\u001b[0;34m.\u001b[0m\u001b[0m_get_body\u001b[0m\u001b[0;34m(\u001b[0m\u001b[0mresponse\u001b[0m\u001b[0;34m)\u001b[0m\u001b[0;34m\u001b[0m\u001b[0;34m\u001b[0m\u001b[0m\n\u001b[0m\u001b[1;32m    261\u001b[0m             \u001b[0mself\u001b[0m\u001b[0;34m.\u001b[0m\u001b[0msent_times\u001b[0m\u001b[0;34m.\u001b[0m\u001b[0mappend\u001b[0m\u001b[0;34m(\u001b[0m\u001b[0mtime\u001b[0m\u001b[0;34m.\u001b[0m\u001b[0mtime\u001b[0m\u001b[0;34m(\u001b[0m\u001b[0;34m)\u001b[0m\u001b[0;34m)\u001b[0m\u001b[0;34m\u001b[0m\u001b[0;34m\u001b[0m\u001b[0m\n", 
                        "\u001b[0;32m/opt/conda/envs/fastai/lib/python3.6/site-packages/googlemaps/client.py\u001b[0m in \u001b[0;36m_get_body\u001b[0;34m(self, response)\u001b[0m\n\u001b[1;32m    286\u001b[0m             raise googlemaps.exceptions._OverQueryLimit(\n\u001b[0;32m--> 287\u001b[0;31m                 api_status, body.get(\"error_message\"))\n\u001b[0m\u001b[1;32m    288\u001b[0m \u001b[0;34m\u001b[0m\u001b[0m\n", 
                        "\u001b[0;31m_OverQueryLimit\u001b[0m: OVER_QUERY_LIMIT (You have exceeded your daily request quota for this API. If you did not set a custom daily request quota, verify your project has an active billing account: http://g.co/dev/maps-no-account)", 
                        "\nDuring handling of the above exception, another exception occurred:\n", 
                        "\u001b[0;31m_OverQueryLimit\u001b[0m                           Traceback (most recent call last)", 
                        "\u001b[0;32m/opt/conda/envs/fastai/lib/python3.6/site-packages/googlemaps/client.py\u001b[0m in \u001b[0;36m_request\u001b[0;34m(self, url, params, first_request_time, retry_counter, base_url, accepts_clientid, extract_body, requests_kwargs, post_json)\u001b[0m\n\u001b[1;32m    259\u001b[0m             \u001b[0;32melse\u001b[0m\u001b[0;34m:\u001b[0m\u001b[0;34m\u001b[0m\u001b[0;34m\u001b[0m\u001b[0m\n\u001b[0;32m--> 260\u001b[0;31m                 \u001b[0mresult\u001b[0m \u001b[0;34m=\u001b[0m \u001b[0mself\u001b[0m\u001b[0;34m.\u001b[0m\u001b[0m_get_body\u001b[0m\u001b[0;34m(\u001b[0m\u001b[0mresponse\u001b[0m\u001b[0;34m)\u001b[0m\u001b[0;34m\u001b[0m\u001b[0;34m\u001b[0m\u001b[0m\n\u001b[0m\u001b[1;32m    261\u001b[0m             \u001b[0mself\u001b[0m\u001b[0;34m.\u001b[0m\u001b[0msent_times\u001b[0m\u001b[0;34m.\u001b[0m\u001b[0mappend\u001b[0m\u001b[0;34m(\u001b[0m\u001b[0mtime\u001b[0m\u001b[0;34m.\u001b[0m\u001b[0mtime\u001b[0m\u001b[0;34m(\u001b[0m\u001b[0;34m)\u001b[0m\u001b[0;34m)\u001b[0m\u001b[0;34m\u001b[0m\u001b[0;34m\u001b[0m\u001b[0m\n", 
                        "\u001b[0;32m/opt/conda/envs/fastai/lib/python3.6/site-packages/googlemaps/client.py\u001b[0m in \u001b[0;36m_get_body\u001b[0;34m(self, response)\u001b[0m\n\u001b[1;32m    286\u001b[0m             raise googlemaps.exceptions._OverQueryLimit(\n\u001b[0;32m--> 287\u001b[0;31m                 api_status, body.get(\"error_message\"))\n\u001b[0m\u001b[1;32m    288\u001b[0m \u001b[0;34m\u001b[0m\u001b[0m\n", 
                        "\u001b[0;31m_OverQueryLimit\u001b[0m: OVER_QUERY_LIMIT (You have exceeded your daily request quota for this API. If you did not set a custom daily request quota, verify your project has an active billing account: http://g.co/dev/maps-no-account)", 
                        "\nDuring handling of the above exception, another exception occurred:\n", 
                        "\u001b[0;31m_OverQueryLimit\u001b[0m                           Traceback (most recent call last)", 
                        "\u001b[0;32m/opt/conda/envs/fastai/lib/python3.6/site-packages/googlemaps/client.py\u001b[0m in \u001b[0;36m_request\u001b[0;34m(self, url, params, first_request_time, retry_counter, base_url, accepts_clientid, extract_body, requests_kwargs, post_json)\u001b[0m\n\u001b[1;32m    259\u001b[0m             \u001b[0;32melse\u001b[0m\u001b[0;34m:\u001b[0m\u001b[0;34m\u001b[0m\u001b[0;34m\u001b[0m\u001b[0m\n\u001b[0;32m--> 260\u001b[0;31m                 \u001b[0mresult\u001b[0m \u001b[0;34m=\u001b[0m \u001b[0mself\u001b[0m\u001b[0;34m.\u001b[0m\u001b[0m_get_body\u001b[0m\u001b[0;34m(\u001b[0m\u001b[0mresponse\u001b[0m\u001b[0;34m)\u001b[0m\u001b[0;34m\u001b[0m\u001b[0;34m\u001b[0m\u001b[0m\n\u001b[0m\u001b[1;32m    261\u001b[0m             \u001b[0mself\u001b[0m\u001b[0;34m.\u001b[0m\u001b[0msent_times\u001b[0m\u001b[0;34m.\u001b[0m\u001b[0mappend\u001b[0m\u001b[0;34m(\u001b[0m\u001b[0mtime\u001b[0m\u001b[0;34m.\u001b[0m\u001b[0mtime\u001b[0m\u001b[0;34m(\u001b[0m\u001b[0;34m)\u001b[0m\u001b[0;34m)\u001b[0m\u001b[0;34m\u001b[0m\u001b[0;34m\u001b[0m\u001b[0m\n", 
                        "\u001b[0;32m/opt/conda/envs/fastai/lib/python3.6/site-packages/googlemaps/client.py\u001b[0m in \u001b[0;36m_get_body\u001b[0;34m(self, response)\u001b[0m\n\u001b[1;32m    286\u001b[0m             raise googlemaps.exceptions._OverQueryLimit(\n\u001b[0;32m--> 287\u001b[0;31m                 api_status, body.get(\"error_message\"))\n\u001b[0m\u001b[1;32m    288\u001b[0m \u001b[0;34m\u001b[0m\u001b[0m\n", 
                        "\u001b[0;31m_OverQueryLimit\u001b[0m: OVER_QUERY_LIMIT (You have exceeded your daily request quota for this API. If you did not set a custom daily request quota, verify your project has an active billing account: http://g.co/dev/maps-no-account)", 
                        "\nDuring handling of the above exception, another exception occurred:\n", 
                        "\u001b[0;31m_OverQueryLimit\u001b[0m                           Traceback (most recent call last)", 
                        "\u001b[0;32m/opt/conda/envs/fastai/lib/python3.6/site-packages/googlemaps/client.py\u001b[0m in \u001b[0;36m_request\u001b[0;34m(self, url, params, first_request_time, retry_counter, base_url, accepts_clientid, extract_body, requests_kwargs, post_json)\u001b[0m\n\u001b[1;32m    259\u001b[0m             \u001b[0;32melse\u001b[0m\u001b[0;34m:\u001b[0m\u001b[0;34m\u001b[0m\u001b[0;34m\u001b[0m\u001b[0m\n\u001b[0;32m--> 260\u001b[0;31m                 \u001b[0mresult\u001b[0m \u001b[0;34m=\u001b[0m \u001b[0mself\u001b[0m\u001b[0;34m.\u001b[0m\u001b[0m_get_body\u001b[0m\u001b[0;34m(\u001b[0m\u001b[0mresponse\u001b[0m\u001b[0;34m)\u001b[0m\u001b[0;34m\u001b[0m\u001b[0;34m\u001b[0m\u001b[0m\n\u001b[0m\u001b[1;32m    261\u001b[0m             \u001b[0mself\u001b[0m\u001b[0;34m.\u001b[0m\u001b[0msent_times\u001b[0m\u001b[0;34m.\u001b[0m\u001b[0mappend\u001b[0m\u001b[0;34m(\u001b[0m\u001b[0mtime\u001b[0m\u001b[0;34m.\u001b[0m\u001b[0mtime\u001b[0m\u001b[0;34m(\u001b[0m\u001b[0;34m)\u001b[0m\u001b[0;34m)\u001b[0m\u001b[0;34m\u001b[0m\u001b[0;34m\u001b[0m\u001b[0m\n", 
                        "\u001b[0;32m/opt/conda/envs/fastai/lib/python3.6/site-packages/googlemaps/client.py\u001b[0m in \u001b[0;36m_get_body\u001b[0;34m(self, response)\u001b[0m\n\u001b[1;32m    286\u001b[0m             raise googlemaps.exceptions._OverQueryLimit(\n\u001b[0;32m--> 287\u001b[0;31m                 api_status, body.get(\"error_message\"))\n\u001b[0m\u001b[1;32m    288\u001b[0m \u001b[0;34m\u001b[0m\u001b[0m\n", 
                        "\u001b[0;31m_OverQueryLimit\u001b[0m: OVER_QUERY_LIMIT (You have exceeded your daily request quota for this API. If you did not set a custom daily request quota, verify your project has an active billing account: http://g.co/dev/maps-no-account)", 
                        "\nDuring handling of the above exception, another exception occurred:\n", 
                        "\u001b[0;31m_OverQueryLimit\u001b[0m                           Traceback (most recent call last)", 
                        "\u001b[0;32m/opt/conda/envs/fastai/lib/python3.6/site-packages/googlemaps/client.py\u001b[0m in \u001b[0;36m_request\u001b[0;34m(self, url, params, first_request_time, retry_counter, base_url, accepts_clientid, extract_body, requests_kwargs, post_json)\u001b[0m\n\u001b[1;32m    259\u001b[0m             \u001b[0;32melse\u001b[0m\u001b[0;34m:\u001b[0m\u001b[0;34m\u001b[0m\u001b[0;34m\u001b[0m\u001b[0m\n\u001b[0;32m--> 260\u001b[0;31m                 \u001b[0mresult\u001b[0m \u001b[0;34m=\u001b[0m \u001b[0mself\u001b[0m\u001b[0;34m.\u001b[0m\u001b[0m_get_body\u001b[0m\u001b[0;34m(\u001b[0m\u001b[0mresponse\u001b[0m\u001b[0;34m)\u001b[0m\u001b[0;34m\u001b[0m\u001b[0;34m\u001b[0m\u001b[0m\n\u001b[0m\u001b[1;32m    261\u001b[0m             \u001b[0mself\u001b[0m\u001b[0;34m.\u001b[0m\u001b[0msent_times\u001b[0m\u001b[0;34m.\u001b[0m\u001b[0mappend\u001b[0m\u001b[0;34m(\u001b[0m\u001b[0mtime\u001b[0m\u001b[0;34m.\u001b[0m\u001b[0mtime\u001b[0m\u001b[0;34m(\u001b[0m\u001b[0;34m)\u001b[0m\u001b[0;34m)\u001b[0m\u001b[0;34m\u001b[0m\u001b[0;34m\u001b[0m\u001b[0m\n", 
                        "\u001b[0;32m/opt/conda/envs/fastai/lib/python3.6/site-packages/googlemaps/client.py\u001b[0m in \u001b[0;36m_get_body\u001b[0;34m(self, response)\u001b[0m\n\u001b[1;32m    286\u001b[0m             raise googlemaps.exceptions._OverQueryLimit(\n\u001b[0;32m--> 287\u001b[0;31m                 api_status, body.get(\"error_message\"))\n\u001b[0m\u001b[1;32m    288\u001b[0m \u001b[0;34m\u001b[0m\u001b[0m\n", 
                        "\u001b[0;31m_OverQueryLimit\u001b[0m: OVER_QUERY_LIMIT (You have exceeded your daily request quota for this API. If you did not set a custom daily request quota, verify your project has an active billing account: http://g.co/dev/maps-no-account)", 
                        "\nDuring handling of the above exception, another exception occurred:\n", 
                        "\u001b[0;31m_OverQueryLimit\u001b[0m                           Traceback (most recent call last)", 
                        "\u001b[0;32m/opt/conda/envs/fastai/lib/python3.6/site-packages/googlemaps/client.py\u001b[0m in \u001b[0;36m_request\u001b[0;34m(self, url, params, first_request_time, retry_counter, base_url, accepts_clientid, extract_body, requests_kwargs, post_json)\u001b[0m\n\u001b[1;32m    259\u001b[0m             \u001b[0;32melse\u001b[0m\u001b[0;34m:\u001b[0m\u001b[0;34m\u001b[0m\u001b[0;34m\u001b[0m\u001b[0m\n\u001b[0;32m--> 260\u001b[0;31m                 \u001b[0mresult\u001b[0m \u001b[0;34m=\u001b[0m \u001b[0mself\u001b[0m\u001b[0;34m.\u001b[0m\u001b[0m_get_body\u001b[0m\u001b[0;34m(\u001b[0m\u001b[0mresponse\u001b[0m\u001b[0;34m)\u001b[0m\u001b[0;34m\u001b[0m\u001b[0;34m\u001b[0m\u001b[0m\n\u001b[0m\u001b[1;32m    261\u001b[0m             \u001b[0mself\u001b[0m\u001b[0;34m.\u001b[0m\u001b[0msent_times\u001b[0m\u001b[0;34m.\u001b[0m\u001b[0mappend\u001b[0m\u001b[0;34m(\u001b[0m\u001b[0mtime\u001b[0m\u001b[0;34m.\u001b[0m\u001b[0mtime\u001b[0m\u001b[0;34m(\u001b[0m\u001b[0;34m)\u001b[0m\u001b[0;34m)\u001b[0m\u001b[0;34m\u001b[0m\u001b[0;34m\u001b[0m\u001b[0m\n", 
                        "\u001b[0;32m/opt/conda/envs/fastai/lib/python3.6/site-packages/googlemaps/client.py\u001b[0m in \u001b[0;36m_get_body\u001b[0;34m(self, response)\u001b[0m\n\u001b[1;32m    286\u001b[0m             raise googlemaps.exceptions._OverQueryLimit(\n\u001b[0;32m--> 287\u001b[0;31m                 api_status, body.get(\"error_message\"))\n\u001b[0m\u001b[1;32m    288\u001b[0m \u001b[0;34m\u001b[0m\u001b[0m\n", 
                        "\u001b[0;31m_OverQueryLimit\u001b[0m: OVER_QUERY_LIMIT (You have exceeded your daily request quota for this API. If you did not set a custom daily request quota, verify your project has an active billing account: http://g.co/dev/maps-no-account)", 
                        "\nDuring handling of the above exception, another exception occurred:\n", 
                        "\u001b[0;31m_OverQueryLimit\u001b[0m                           Traceback (most recent call last)", 
                        "\u001b[0;32m/opt/conda/envs/fastai/lib/python3.6/site-packages/googlemaps/client.py\u001b[0m in \u001b[0;36m_request\u001b[0;34m(self, url, params, first_request_time, retry_counter, base_url, accepts_clientid, extract_body, requests_kwargs, post_json)\u001b[0m\n\u001b[1;32m    259\u001b[0m             \u001b[0;32melse\u001b[0m\u001b[0;34m:\u001b[0m\u001b[0;34m\u001b[0m\u001b[0;34m\u001b[0m\u001b[0m\n\u001b[0;32m--> 260\u001b[0;31m                 \u001b[0mresult\u001b[0m \u001b[0;34m=\u001b[0m \u001b[0mself\u001b[0m\u001b[0;34m.\u001b[0m\u001b[0m_get_body\u001b[0m\u001b[0;34m(\u001b[0m\u001b[0mresponse\u001b[0m\u001b[0;34m)\u001b[0m\u001b[0;34m\u001b[0m\u001b[0;34m\u001b[0m\u001b[0m\n\u001b[0m\u001b[1;32m    261\u001b[0m             \u001b[0mself\u001b[0m\u001b[0;34m.\u001b[0m\u001b[0msent_times\u001b[0m\u001b[0;34m.\u001b[0m\u001b[0mappend\u001b[0m\u001b[0;34m(\u001b[0m\u001b[0mtime\u001b[0m\u001b[0;34m.\u001b[0m\u001b[0mtime\u001b[0m\u001b[0;34m(\u001b[0m\u001b[0;34m)\u001b[0m\u001b[0;34m)\u001b[0m\u001b[0;34m\u001b[0m\u001b[0;34m\u001b[0m\u001b[0m\n", 
                        "\u001b[0;32m/opt/conda/envs/fastai/lib/python3.6/site-packages/googlemaps/client.py\u001b[0m in \u001b[0;36m_get_body\u001b[0;34m(self, response)\u001b[0m\n\u001b[1;32m    286\u001b[0m             raise googlemaps.exceptions._OverQueryLimit(\n\u001b[0;32m--> 287\u001b[0;31m                 api_status, body.get(\"error_message\"))\n\u001b[0m\u001b[1;32m    288\u001b[0m \u001b[0;34m\u001b[0m\u001b[0m\n", 
                        "\u001b[0;31m_OverQueryLimit\u001b[0m: OVER_QUERY_LIMIT (You have exceeded your daily request quota for this API. If you did not set a custom daily request quota, verify your project has an active billing account: http://g.co/dev/maps-no-account)", 
                        "\nDuring handling of the above exception, another exception occurred:\n", 
                        "\u001b[0;31m_OverQueryLimit\u001b[0m                           Traceback (most recent call last)", 
                        "\u001b[0;32m/opt/conda/envs/fastai/lib/python3.6/site-packages/googlemaps/client.py\u001b[0m in \u001b[0;36m_request\u001b[0;34m(self, url, params, first_request_time, retry_counter, base_url, accepts_clientid, extract_body, requests_kwargs, post_json)\u001b[0m\n\u001b[1;32m    259\u001b[0m             \u001b[0;32melse\u001b[0m\u001b[0;34m:\u001b[0m\u001b[0;34m\u001b[0m\u001b[0;34m\u001b[0m\u001b[0m\n\u001b[0;32m--> 260\u001b[0;31m                 \u001b[0mresult\u001b[0m \u001b[0;34m=\u001b[0m \u001b[0mself\u001b[0m\u001b[0;34m.\u001b[0m\u001b[0m_get_body\u001b[0m\u001b[0;34m(\u001b[0m\u001b[0mresponse\u001b[0m\u001b[0;34m)\u001b[0m\u001b[0;34m\u001b[0m\u001b[0;34m\u001b[0m\u001b[0m\n\u001b[0m\u001b[1;32m    261\u001b[0m             \u001b[0mself\u001b[0m\u001b[0;34m.\u001b[0m\u001b[0msent_times\u001b[0m\u001b[0;34m.\u001b[0m\u001b[0mappend\u001b[0m\u001b[0;34m(\u001b[0m\u001b[0mtime\u001b[0m\u001b[0;34m.\u001b[0m\u001b[0mtime\u001b[0m\u001b[0;34m(\u001b[0m\u001b[0;34m)\u001b[0m\u001b[0;34m)\u001b[0m\u001b[0;34m\u001b[0m\u001b[0;34m\u001b[0m\u001b[0m\n", 
                        "\u001b[0;32m/opt/conda/envs/fastai/lib/python3.6/site-packages/googlemaps/client.py\u001b[0m in \u001b[0;36m_get_body\u001b[0;34m(self, response)\u001b[0m\n\u001b[1;32m    286\u001b[0m             raise googlemaps.exceptions._OverQueryLimit(\n\u001b[0;32m--> 287\u001b[0;31m                 api_status, body.get(\"error_message\"))\n\u001b[0m\u001b[1;32m    288\u001b[0m \u001b[0;34m\u001b[0m\u001b[0m\n", 
                        "\u001b[0;31m_OverQueryLimit\u001b[0m: OVER_QUERY_LIMIT (You have exceeded your daily request quota for this API. If you did not set a custom daily request quota, verify your project has an active billing account: http://g.co/dev/maps-no-account)", 
                        "\nDuring handling of the above exception, another exception occurred:\n", 
                        "\u001b[0;31m_OverQueryLimit\u001b[0m                           Traceback (most recent call last)", 
                        "\u001b[0;32m/opt/conda/envs/fastai/lib/python3.6/site-packages/googlemaps/client.py\u001b[0m in \u001b[0;36m_request\u001b[0;34m(self, url, params, first_request_time, retry_counter, base_url, accepts_clientid, extract_body, requests_kwargs, post_json)\u001b[0m\n\u001b[1;32m    259\u001b[0m             \u001b[0;32melse\u001b[0m\u001b[0;34m:\u001b[0m\u001b[0;34m\u001b[0m\u001b[0;34m\u001b[0m\u001b[0m\n\u001b[0;32m--> 260\u001b[0;31m                 \u001b[0mresult\u001b[0m \u001b[0;34m=\u001b[0m \u001b[0mself\u001b[0m\u001b[0;34m.\u001b[0m\u001b[0m_get_body\u001b[0m\u001b[0;34m(\u001b[0m\u001b[0mresponse\u001b[0m\u001b[0;34m)\u001b[0m\u001b[0;34m\u001b[0m\u001b[0;34m\u001b[0m\u001b[0m\n\u001b[0m\u001b[1;32m    261\u001b[0m             \u001b[0mself\u001b[0m\u001b[0;34m.\u001b[0m\u001b[0msent_times\u001b[0m\u001b[0;34m.\u001b[0m\u001b[0mappend\u001b[0m\u001b[0;34m(\u001b[0m\u001b[0mtime\u001b[0m\u001b[0;34m.\u001b[0m\u001b[0mtime\u001b[0m\u001b[0;34m(\u001b[0m\u001b[0;34m)\u001b[0m\u001b[0;34m)\u001b[0m\u001b[0;34m\u001b[0m\u001b[0;34m\u001b[0m\u001b[0m\n", 
                        "\u001b[0;32m/opt/conda/envs/fastai/lib/python3.6/site-packages/googlemaps/client.py\u001b[0m in \u001b[0;36m_get_body\u001b[0;34m(self, response)\u001b[0m\n\u001b[1;32m    286\u001b[0m             raise googlemaps.exceptions._OverQueryLimit(\n\u001b[0;32m--> 287\u001b[0;31m                 api_status, body.get(\"error_message\"))\n\u001b[0m\u001b[1;32m    288\u001b[0m \u001b[0;34m\u001b[0m\u001b[0m\n", 
                        "\u001b[0;31m_OverQueryLimit\u001b[0m: OVER_QUERY_LIMIT (You have exceeded your daily request quota for this API. If you did not set a custom daily request quota, verify your project has an active billing account: http://g.co/dev/maps-no-account)", 
                        "\nDuring handling of the above exception, another exception occurred:\n", 
                        "\u001b[0;31mTimeout\u001b[0m                                   Traceback (most recent call last)", 
                        "\u001b[0;32m<ipython-input-41-fcb3f7835a07>\u001b[0m in \u001b[0;36m<module>\u001b[0;34m\u001b[0m\n\u001b[1;32m     11\u001b[0m \u001b[0;31m# to avoid making multiple calls to the geocode API, bring in the latitude and longitude values as a single\u001b[0m\u001b[0;34m\u001b[0m\u001b[0;34m\u001b[0m\u001b[0;34m\u001b[0m\u001b[0m\n\u001b[1;32m     12\u001b[0m \u001b[0;31m# column and\u001b[0m\u001b[0;34m\u001b[0m\u001b[0;34m\u001b[0m\u001b[0;34m\u001b[0m\u001b[0m\n\u001b[0;32m---> 13\u001b[0;31m \u001b[0mdf\u001b[0m\u001b[0;34m[\u001b[0m\u001b[0;34m'lat_long'\u001b[0m\u001b[0;34m]\u001b[0m \u001b[0;34m=\u001b[0m \u001b[0mdf\u001b[0m\u001b[0;34m.\u001b[0m\u001b[0mLocation\u001b[0m\u001b[0;34m.\u001b[0m\u001b[0mapply\u001b[0m\u001b[0;34m(\u001b[0m\u001b[0;32mlambda\u001b[0m \u001b[0ms\u001b[0m\u001b[0;34m:\u001b[0m \u001b[0mget_geocode_result\u001b[0m\u001b[0;34m(\u001b[0m\u001b[0ms\u001b[0m\u001b[0;34m)\u001b[0m\u001b[0;34m)\u001b[0m\u001b[0;34m\u001b[0m\u001b[0;34m\u001b[0m\u001b[0m\n\u001b[0m\u001b[1;32m     14\u001b[0m \u001b[0;34m\u001b[0m\u001b[0m\n\u001b[1;32m     15\u001b[0m \u001b[0;31m# with the first result populating the Latitude col and the second result populating the Longitude col\u001b[0m\u001b[0;34m\u001b[0m\u001b[0;34m\u001b[0m\u001b[0;34m\u001b[0m\u001b[0m\n", 
                        "\u001b[0;32m/opt/conda/envs/fastai/lib/python3.6/site-packages/pandas/core/series.py\u001b[0m in \u001b[0;36mapply\u001b[0;34m(self, func, convert_dtype, args, **kwds)\u001b[0m\n\u001b[1;32m   3192\u001b[0m             \u001b[0;32melse\u001b[0m\u001b[0;34m:\u001b[0m\u001b[0;34m\u001b[0m\u001b[0;34m\u001b[0m\u001b[0m\n\u001b[1;32m   3193\u001b[0m                 \u001b[0mvalues\u001b[0m \u001b[0;34m=\u001b[0m \u001b[0mself\u001b[0m\u001b[0;34m.\u001b[0m\u001b[0mastype\u001b[0m\u001b[0;34m(\u001b[0m\u001b[0mobject\u001b[0m\u001b[0;34m)\u001b[0m\u001b[0;34m.\u001b[0m\u001b[0mvalues\u001b[0m\u001b[0;34m\u001b[0m\u001b[0;34m\u001b[0m\u001b[0m\n\u001b[0;32m-> 3194\u001b[0;31m                 \u001b[0mmapped\u001b[0m \u001b[0;34m=\u001b[0m \u001b[0mlib\u001b[0m\u001b[0;34m.\u001b[0m\u001b[0mmap_infer\u001b[0m\u001b[0;34m(\u001b[0m\u001b[0mvalues\u001b[0m\u001b[0;34m,\u001b[0m \u001b[0mf\u001b[0m\u001b[0;34m,\u001b[0m \u001b[0mconvert\u001b[0m\u001b[0;34m=\u001b[0m\u001b[0mconvert_dtype\u001b[0m\u001b[0;34m)\u001b[0m\u001b[0;34m\u001b[0m\u001b[0;34m\u001b[0m\u001b[0m\n\u001b[0m\u001b[1;32m   3195\u001b[0m \u001b[0;34m\u001b[0m\u001b[0m\n\u001b[1;32m   3196\u001b[0m         \u001b[0;32mif\u001b[0m \u001b[0mlen\u001b[0m\u001b[0;34m(\u001b[0m\u001b[0mmapped\u001b[0m\u001b[0;34m)\u001b[0m \u001b[0;32mand\u001b[0m \u001b[0misinstance\u001b[0m\u001b[0;34m(\u001b[0m\u001b[0mmapped\u001b[0m\u001b[0;34m[\u001b[0m\u001b[0;36m0\u001b[0m\u001b[0;34m]\u001b[0m\u001b[0;34m,\u001b[0m \u001b[0mSeries\u001b[0m\u001b[0;34m)\u001b[0m\u001b[0;34m:\u001b[0m\u001b[0;34m\u001b[0m\u001b[0;34m\u001b[0m\u001b[0m\n", 
                        "\u001b[0;32mpandas/_libs/src/inference.pyx\u001b[0m in \u001b[0;36mpandas._libs.lib.map_infer\u001b[0;34m()\u001b[0m\n", 
                        "\u001b[0;32m<ipython-input-41-fcb3f7835a07>\u001b[0m in \u001b[0;36m<lambda>\u001b[0;34m(s)\u001b[0m\n\u001b[1;32m     11\u001b[0m \u001b[0;31m# to avoid making multiple calls to the geocode API, bring in the latitude and longitude values as a single\u001b[0m\u001b[0;34m\u001b[0m\u001b[0;34m\u001b[0m\u001b[0;34m\u001b[0m\u001b[0m\n\u001b[1;32m     12\u001b[0m \u001b[0;31m# column and\u001b[0m\u001b[0;34m\u001b[0m\u001b[0;34m\u001b[0m\u001b[0;34m\u001b[0m\u001b[0m\n\u001b[0;32m---> 13\u001b[0;31m \u001b[0mdf\u001b[0m\u001b[0;34m[\u001b[0m\u001b[0;34m'lat_long'\u001b[0m\u001b[0;34m]\u001b[0m \u001b[0;34m=\u001b[0m \u001b[0mdf\u001b[0m\u001b[0;34m.\u001b[0m\u001b[0mLocation\u001b[0m\u001b[0;34m.\u001b[0m\u001b[0mapply\u001b[0m\u001b[0;34m(\u001b[0m\u001b[0;32mlambda\u001b[0m \u001b[0ms\u001b[0m\u001b[0;34m:\u001b[0m \u001b[0mget_geocode_result\u001b[0m\u001b[0;34m(\u001b[0m\u001b[0ms\u001b[0m\u001b[0;34m)\u001b[0m\u001b[0;34m)\u001b[0m\u001b[0;34m\u001b[0m\u001b[0;34m\u001b[0m\u001b[0m\n\u001b[0m\u001b[1;32m     14\u001b[0m \u001b[0;34m\u001b[0m\u001b[0m\n\u001b[1;32m     15\u001b[0m \u001b[0;31m# with the first result populating the Latitude col and the second result populating the Longitude col\u001b[0m\u001b[0;34m\u001b[0m\u001b[0;34m\u001b[0m\u001b[0;34m\u001b[0m\u001b[0m\n", 
                        "\u001b[0;32m<ipython-input-37-aeebac11cc2c>\u001b[0m in \u001b[0;36mget_geocode_result\u001b[0;34m(junction)\u001b[0m\n\u001b[1;32m      3\u001b[0m     \u001b[0mgeo_string\u001b[0m \u001b[0;34m=\u001b[0m \u001b[0mjunction\u001b[0m\u001b[0;34m+\u001b[0m\u001b[0;34m\", \"\u001b[0m\u001b[0;34m+\u001b[0m\u001b[0mcity_name\u001b[0m\u001b[0;34m\u001b[0m\u001b[0;34m\u001b[0m\u001b[0m\n\u001b[1;32m      4\u001b[0m     \u001b[0;31m# print(\"geo_string is\", geo_string)\u001b[0m\u001b[0;34m\u001b[0m\u001b[0;34m\u001b[0m\u001b[0;34m\u001b[0m\u001b[0m\n\u001b[0;32m----> 5\u001b[0;31m     \u001b[0mgeocode_result\u001b[0m \u001b[0;34m=\u001b[0m \u001b[0mgmaps\u001b[0m\u001b[0;34m.\u001b[0m\u001b[0mgeocode\u001b[0m\u001b[0;34m(\u001b[0m\u001b[0mgeo_string\u001b[0m\u001b[0;34m)\u001b[0m\u001b[0;34m\u001b[0m\u001b[0;34m\u001b[0m\u001b[0m\n\u001b[0m\u001b[1;32m      6\u001b[0m     \u001b[0;31m# check to see if the result is empty and if so return zeros to indicate unparseable junction value\u001b[0m\u001b[0;34m\u001b[0m\u001b[0;34m\u001b[0m\u001b[0;34m\u001b[0m\u001b[0m\n\u001b[1;32m      7\u001b[0m     \u001b[0;32mif\u001b[0m \u001b[0mlen\u001b[0m\u001b[0;34m(\u001b[0m\u001b[0mgeocode_result\u001b[0m\u001b[0;34m)\u001b[0m \u001b[0;34m>\u001b[0m \u001b[0;36m0\u001b[0m\u001b[0;34m:\u001b[0m\u001b[0;34m\u001b[0m\u001b[0;34m\u001b[0m\u001b[0m\n", 
                        "\u001b[0;32m/opt/conda/envs/fastai/lib/python3.6/site-packages/googlemaps/client.py\u001b[0m in \u001b[0;36mwrapper\u001b[0;34m(*args, **kwargs)\u001b[0m\n\u001b[1;32m    363\u001b[0m     \u001b[0;32mdef\u001b[0m \u001b[0mwrapper\u001b[0m\u001b[0;34m(\u001b[0m\u001b[0;34m*\u001b[0m\u001b[0margs\u001b[0m\u001b[0;34m,\u001b[0m \u001b[0;34m**\u001b[0m\u001b[0mkwargs\u001b[0m\u001b[0;34m)\u001b[0m\u001b[0;34m:\u001b[0m\u001b[0;34m\u001b[0m\u001b[0;34m\u001b[0m\u001b[0m\n\u001b[1;32m    364\u001b[0m         \u001b[0margs\u001b[0m\u001b[0;34m[\u001b[0m\u001b[0;36m0\u001b[0m\u001b[0;34m]\u001b[0m\u001b[0;34m.\u001b[0m\u001b[0m_extra_params\u001b[0m \u001b[0;34m=\u001b[0m \u001b[0mkwargs\u001b[0m\u001b[0;34m.\u001b[0m\u001b[0mpop\u001b[0m\u001b[0;34m(\u001b[0m\u001b[0;34m\"extra_params\"\u001b[0m\u001b[0;34m,\u001b[0m \u001b[0;32mNone\u001b[0m\u001b[0;34m)\u001b[0m\u001b[0;34m\u001b[0m\u001b[0;34m\u001b[0m\u001b[0m\n\u001b[0;32m--> 365\u001b[0;31m         \u001b[0mresult\u001b[0m \u001b[0;34m=\u001b[0m \u001b[0mfunc\u001b[0m\u001b[0;34m(\u001b[0m\u001b[0;34m*\u001b[0m\u001b[0margs\u001b[0m\u001b[0;34m,\u001b[0m \u001b[0;34m**\u001b[0m\u001b[0mkwargs\u001b[0m\u001b[0;34m)\u001b[0m\u001b[0;34m\u001b[0m\u001b[0;34m\u001b[0m\u001b[0m\n\u001b[0m\u001b[1;32m    366\u001b[0m         \u001b[0;32mtry\u001b[0m\u001b[0;34m:\u001b[0m\u001b[0;34m\u001b[0m\u001b[0;34m\u001b[0m\u001b[0m\n\u001b[1;32m    367\u001b[0m             \u001b[0;32mdel\u001b[0m \u001b[0margs\u001b[0m\u001b[0;34m[\u001b[0m\u001b[0;36m0\u001b[0m\u001b[0;34m]\u001b[0m\u001b[0;34m.\u001b[0m\u001b[0m_extra_params\u001b[0m\u001b[0;34m\u001b[0m\u001b[0;34m\u001b[0m\u001b[0m\n", 
                        "\u001b[0;32m/opt/conda/envs/fastai/lib/python3.6/site-packages/googlemaps/geocoding.py\u001b[0m in \u001b[0;36mgeocode\u001b[0;34m(client, address, components, bounds, region, language)\u001b[0m\n\u001b[1;32m     66\u001b[0m         \u001b[0mparams\u001b[0m\u001b[0;34m[\u001b[0m\u001b[0;34m\"language\"\u001b[0m\u001b[0;34m]\u001b[0m \u001b[0;34m=\u001b[0m \u001b[0mlanguage\u001b[0m\u001b[0;34m\u001b[0m\u001b[0;34m\u001b[0m\u001b[0m\n\u001b[1;32m     67\u001b[0m \u001b[0;34m\u001b[0m\u001b[0m\n\u001b[0;32m---> 68\u001b[0;31m     \u001b[0;32mreturn\u001b[0m \u001b[0mclient\u001b[0m\u001b[0;34m.\u001b[0m\u001b[0m_request\u001b[0m\u001b[0;34m(\u001b[0m\u001b[0;34m\"/maps/api/geocode/json\"\u001b[0m\u001b[0;34m,\u001b[0m \u001b[0mparams\u001b[0m\u001b[0;34m)\u001b[0m\u001b[0;34m.\u001b[0m\u001b[0mget\u001b[0m\u001b[0;34m(\u001b[0m\u001b[0;34m\"results\"\u001b[0m\u001b[0;34m,\u001b[0m \u001b[0;34m[\u001b[0m\u001b[0;34m]\u001b[0m\u001b[0;34m)\u001b[0m\u001b[0;34m\u001b[0m\u001b[0;34m\u001b[0m\u001b[0m\n\u001b[0m\u001b[1;32m     69\u001b[0m \u001b[0;34m\u001b[0m\u001b[0m\n\u001b[1;32m     70\u001b[0m \u001b[0;34m\u001b[0m\u001b[0m\n", 
                        "\u001b[0;32m/opt/conda/envs/fastai/lib/python3.6/site-packages/googlemaps/client.py\u001b[0m in \u001b[0;36m_request\u001b[0;34m(self, url, params, first_request_time, retry_counter, base_url, accepts_clientid, extract_body, requests_kwargs, post_json)\u001b[0m\n\u001b[1;32m    268\u001b[0m             return self._request(url, params, first_request_time,\n\u001b[1;32m    269\u001b[0m                                  \u001b[0mretry_counter\u001b[0m \u001b[0;34m+\u001b[0m \u001b[0;36m1\u001b[0m\u001b[0;34m,\u001b[0m \u001b[0mbase_url\u001b[0m\u001b[0;34m,\u001b[0m \u001b[0maccepts_clientid\u001b[0m\u001b[0;34m,\u001b[0m\u001b[0;34m\u001b[0m\u001b[0;34m\u001b[0m\u001b[0m\n\u001b[0;32m--> 270\u001b[0;31m                                  extract_body, requests_kwargs, post_json)\n\u001b[0m\u001b[1;32m    271\u001b[0m \u001b[0;34m\u001b[0m\u001b[0m\n\u001b[1;32m    272\u001b[0m     \u001b[0;32mdef\u001b[0m \u001b[0m_get\u001b[0m\u001b[0;34m(\u001b[0m\u001b[0mself\u001b[0m\u001b[0;34m,\u001b[0m \u001b[0;34m*\u001b[0m\u001b[0margs\u001b[0m\u001b[0;34m,\u001b[0m \u001b[0;34m**\u001b[0m\u001b[0mkwargs\u001b[0m\u001b[0;34m)\u001b[0m\u001b[0;34m:\u001b[0m  \u001b[0;31m# Backwards compatibility.\u001b[0m\u001b[0;34m\u001b[0m\u001b[0;34m\u001b[0m\u001b[0m\n", 
                        "\u001b[0;32m/opt/conda/envs/fastai/lib/python3.6/site-packages/googlemaps/client.py\u001b[0m in \u001b[0;36m_request\u001b[0;34m(self, url, params, first_request_time, retry_counter, base_url, accepts_clientid, extract_body, requests_kwargs, post_json)\u001b[0m\n\u001b[1;32m    268\u001b[0m             return self._request(url, params, first_request_time,\n\u001b[1;32m    269\u001b[0m                                  \u001b[0mretry_counter\u001b[0m \u001b[0;34m+\u001b[0m \u001b[0;36m1\u001b[0m\u001b[0;34m,\u001b[0m \u001b[0mbase_url\u001b[0m\u001b[0;34m,\u001b[0m \u001b[0maccepts_clientid\u001b[0m\u001b[0;34m,\u001b[0m\u001b[0;34m\u001b[0m\u001b[0;34m\u001b[0m\u001b[0m\n\u001b[0;32m--> 270\u001b[0;31m                                  extract_body, requests_kwargs, post_json)\n\u001b[0m\u001b[1;32m    271\u001b[0m \u001b[0;34m\u001b[0m\u001b[0m\n\u001b[1;32m    272\u001b[0m     \u001b[0;32mdef\u001b[0m \u001b[0m_get\u001b[0m\u001b[0;34m(\u001b[0m\u001b[0mself\u001b[0m\u001b[0;34m,\u001b[0m \u001b[0;34m*\u001b[0m\u001b[0margs\u001b[0m\u001b[0;34m,\u001b[0m \u001b[0;34m**\u001b[0m\u001b[0mkwargs\u001b[0m\u001b[0;34m)\u001b[0m\u001b[0;34m:\u001b[0m  \u001b[0;31m# Backwards compatibility.\u001b[0m\u001b[0;34m\u001b[0m\u001b[0;34m\u001b[0m\u001b[0m\n", 
                        "\u001b[0;32m/opt/conda/envs/fastai/lib/python3.6/site-packages/googlemaps/client.py\u001b[0m in \u001b[0;36m_request\u001b[0;34m(self, url, params, first_request_time, retry_counter, base_url, accepts_clientid, extract_body, requests_kwargs, post_json)\u001b[0m\n\u001b[1;32m    268\u001b[0m             return self._request(url, params, first_request_time,\n\u001b[1;32m    269\u001b[0m                                  \u001b[0mretry_counter\u001b[0m \u001b[0;34m+\u001b[0m \u001b[0;36m1\u001b[0m\u001b[0;34m,\u001b[0m \u001b[0mbase_url\u001b[0m\u001b[0;34m,\u001b[0m \u001b[0maccepts_clientid\u001b[0m\u001b[0;34m,\u001b[0m\u001b[0;34m\u001b[0m\u001b[0;34m\u001b[0m\u001b[0m\n\u001b[0;32m--> 270\u001b[0;31m                                  extract_body, requests_kwargs, post_json)\n\u001b[0m\u001b[1;32m    271\u001b[0m \u001b[0;34m\u001b[0m\u001b[0m\n\u001b[1;32m    272\u001b[0m     \u001b[0;32mdef\u001b[0m \u001b[0m_get\u001b[0m\u001b[0;34m(\u001b[0m\u001b[0mself\u001b[0m\u001b[0;34m,\u001b[0m \u001b[0;34m*\u001b[0m\u001b[0margs\u001b[0m\u001b[0;34m,\u001b[0m \u001b[0;34m**\u001b[0m\u001b[0mkwargs\u001b[0m\u001b[0;34m)\u001b[0m\u001b[0;34m:\u001b[0m  \u001b[0;31m# Backwards compatibility.\u001b[0m\u001b[0;34m\u001b[0m\u001b[0;34m\u001b[0m\u001b[0m\n", 
                        "\u001b[0;32m/opt/conda/envs/fastai/lib/python3.6/site-packages/googlemaps/client.py\u001b[0m in \u001b[0;36m_request\u001b[0;34m(self, url, params, first_request_time, retry_counter, base_url, accepts_clientid, extract_body, requests_kwargs, post_json)\u001b[0m\n\u001b[1;32m    268\u001b[0m             return self._request(url, params, first_request_time,\n\u001b[1;32m    269\u001b[0m                                  \u001b[0mretry_counter\u001b[0m \u001b[0;34m+\u001b[0m \u001b[0;36m1\u001b[0m\u001b[0;34m,\u001b[0m \u001b[0mbase_url\u001b[0m\u001b[0;34m,\u001b[0m \u001b[0maccepts_clientid\u001b[0m\u001b[0;34m,\u001b[0m\u001b[0;34m\u001b[0m\u001b[0;34m\u001b[0m\u001b[0m\n\u001b[0;32m--> 270\u001b[0;31m                                  extract_body, requests_kwargs, post_json)\n\u001b[0m\u001b[1;32m    271\u001b[0m \u001b[0;34m\u001b[0m\u001b[0m\n\u001b[1;32m    272\u001b[0m     \u001b[0;32mdef\u001b[0m \u001b[0m_get\u001b[0m\u001b[0;34m(\u001b[0m\u001b[0mself\u001b[0m\u001b[0;34m,\u001b[0m \u001b[0;34m*\u001b[0m\u001b[0margs\u001b[0m\u001b[0;34m,\u001b[0m \u001b[0;34m**\u001b[0m\u001b[0mkwargs\u001b[0m\u001b[0;34m)\u001b[0m\u001b[0;34m:\u001b[0m  \u001b[0;31m# Backwards compatibility.\u001b[0m\u001b[0;34m\u001b[0m\u001b[0;34m\u001b[0m\u001b[0m\n", 
                        "\u001b[0;32m/opt/conda/envs/fastai/lib/python3.6/site-packages/googlemaps/client.py\u001b[0m in \u001b[0;36m_request\u001b[0;34m(self, url, params, first_request_time, retry_counter, base_url, accepts_clientid, extract_body, requests_kwargs, post_json)\u001b[0m\n\u001b[1;32m    268\u001b[0m             return self._request(url, params, first_request_time,\n\u001b[1;32m    269\u001b[0m                                  \u001b[0mretry_counter\u001b[0m \u001b[0;34m+\u001b[0m \u001b[0;36m1\u001b[0m\u001b[0;34m,\u001b[0m \u001b[0mbase_url\u001b[0m\u001b[0;34m,\u001b[0m \u001b[0maccepts_clientid\u001b[0m\u001b[0;34m,\u001b[0m\u001b[0;34m\u001b[0m\u001b[0;34m\u001b[0m\u001b[0m\n\u001b[0;32m--> 270\u001b[0;31m                                  extract_body, requests_kwargs, post_json)\n\u001b[0m\u001b[1;32m    271\u001b[0m \u001b[0;34m\u001b[0m\u001b[0m\n\u001b[1;32m    272\u001b[0m     \u001b[0;32mdef\u001b[0m \u001b[0m_get\u001b[0m\u001b[0;34m(\u001b[0m\u001b[0mself\u001b[0m\u001b[0;34m,\u001b[0m \u001b[0;34m*\u001b[0m\u001b[0margs\u001b[0m\u001b[0;34m,\u001b[0m \u001b[0;34m**\u001b[0m\u001b[0mkwargs\u001b[0m\u001b[0;34m)\u001b[0m\u001b[0;34m:\u001b[0m  \u001b[0;31m# Backwards compatibility.\u001b[0m\u001b[0;34m\u001b[0m\u001b[0;34m\u001b[0m\u001b[0m\n", 
                        "\u001b[0;32m/opt/conda/envs/fastai/lib/python3.6/site-packages/googlemaps/client.py\u001b[0m in \u001b[0;36m_request\u001b[0;34m(self, url, params, first_request_time, retry_counter, base_url, accepts_clientid, extract_body, requests_kwargs, post_json)\u001b[0m\n\u001b[1;32m    268\u001b[0m             return self._request(url, params, first_request_time,\n\u001b[1;32m    269\u001b[0m                                  \u001b[0mretry_counter\u001b[0m \u001b[0;34m+\u001b[0m \u001b[0;36m1\u001b[0m\u001b[0;34m,\u001b[0m \u001b[0mbase_url\u001b[0m\u001b[0;34m,\u001b[0m \u001b[0maccepts_clientid\u001b[0m\u001b[0;34m,\u001b[0m\u001b[0;34m\u001b[0m\u001b[0;34m\u001b[0m\u001b[0m\n\u001b[0;32m--> 270\u001b[0;31m                                  extract_body, requests_kwargs, post_json)\n\u001b[0m\u001b[1;32m    271\u001b[0m \u001b[0;34m\u001b[0m\u001b[0m\n\u001b[1;32m    272\u001b[0m     \u001b[0;32mdef\u001b[0m \u001b[0m_get\u001b[0m\u001b[0;34m(\u001b[0m\u001b[0mself\u001b[0m\u001b[0;34m,\u001b[0m \u001b[0;34m*\u001b[0m\u001b[0margs\u001b[0m\u001b[0;34m,\u001b[0m \u001b[0;34m**\u001b[0m\u001b[0mkwargs\u001b[0m\u001b[0;34m)\u001b[0m\u001b[0;34m:\u001b[0m  \u001b[0;31m# Backwards compatibility.\u001b[0m\u001b[0;34m\u001b[0m\u001b[0;34m\u001b[0m\u001b[0m\n", 
                        "\u001b[0;32m/opt/conda/envs/fastai/lib/python3.6/site-packages/googlemaps/client.py\u001b[0m in \u001b[0;36m_request\u001b[0;34m(self, url, params, first_request_time, retry_counter, base_url, accepts_clientid, extract_body, requests_kwargs, post_json)\u001b[0m\n\u001b[1;32m    268\u001b[0m             return self._request(url, params, first_request_time,\n\u001b[1;32m    269\u001b[0m                                  \u001b[0mretry_counter\u001b[0m \u001b[0;34m+\u001b[0m \u001b[0;36m1\u001b[0m\u001b[0;34m,\u001b[0m \u001b[0mbase_url\u001b[0m\u001b[0;34m,\u001b[0m \u001b[0maccepts_clientid\u001b[0m\u001b[0;34m,\u001b[0m\u001b[0;34m\u001b[0m\u001b[0;34m\u001b[0m\u001b[0m\n\u001b[0;32m--> 270\u001b[0;31m                                  extract_body, requests_kwargs, post_json)\n\u001b[0m\u001b[1;32m    271\u001b[0m \u001b[0;34m\u001b[0m\u001b[0m\n\u001b[1;32m    272\u001b[0m     \u001b[0;32mdef\u001b[0m \u001b[0m_get\u001b[0m\u001b[0;34m(\u001b[0m\u001b[0mself\u001b[0m\u001b[0;34m,\u001b[0m \u001b[0;34m*\u001b[0m\u001b[0margs\u001b[0m\u001b[0;34m,\u001b[0m \u001b[0;34m**\u001b[0m\u001b[0mkwargs\u001b[0m\u001b[0;34m)\u001b[0m\u001b[0;34m:\u001b[0m  \u001b[0;31m# Backwards compatibility.\u001b[0m\u001b[0;34m\u001b[0m\u001b[0;34m\u001b[0m\u001b[0m\n", 
                        "\u001b[0;32m/opt/conda/envs/fastai/lib/python3.6/site-packages/googlemaps/client.py\u001b[0m in \u001b[0;36m_request\u001b[0;34m(self, url, params, first_request_time, retry_counter, base_url, accepts_clientid, extract_body, requests_kwargs, post_json)\u001b[0m\n\u001b[1;32m    268\u001b[0m             return self._request(url, params, first_request_time,\n\u001b[1;32m    269\u001b[0m                                  \u001b[0mretry_counter\u001b[0m \u001b[0;34m+\u001b[0m \u001b[0;36m1\u001b[0m\u001b[0;34m,\u001b[0m \u001b[0mbase_url\u001b[0m\u001b[0;34m,\u001b[0m \u001b[0maccepts_clientid\u001b[0m\u001b[0;34m,\u001b[0m\u001b[0;34m\u001b[0m\u001b[0;34m\u001b[0m\u001b[0m\n\u001b[0;32m--> 270\u001b[0;31m                                  extract_body, requests_kwargs, post_json)\n\u001b[0m\u001b[1;32m    271\u001b[0m \u001b[0;34m\u001b[0m\u001b[0m\n\u001b[1;32m    272\u001b[0m     \u001b[0;32mdef\u001b[0m \u001b[0m_get\u001b[0m\u001b[0;34m(\u001b[0m\u001b[0mself\u001b[0m\u001b[0;34m,\u001b[0m \u001b[0;34m*\u001b[0m\u001b[0margs\u001b[0m\u001b[0;34m,\u001b[0m \u001b[0;34m**\u001b[0m\u001b[0mkwargs\u001b[0m\u001b[0;34m)\u001b[0m\u001b[0;34m:\u001b[0m  \u001b[0;31m# Backwards compatibility.\u001b[0m\u001b[0;34m\u001b[0m\u001b[0;34m\u001b[0m\u001b[0m\n", 
                        "\u001b[0;32m/opt/conda/envs/fastai/lib/python3.6/site-packages/googlemaps/client.py\u001b[0m in \u001b[0;36m_request\u001b[0;34m(self, url, params, first_request_time, retry_counter, base_url, accepts_clientid, extract_body, requests_kwargs, post_json)\u001b[0m\n\u001b[1;32m    268\u001b[0m             return self._request(url, params, first_request_time,\n\u001b[1;32m    269\u001b[0m                                  \u001b[0mretry_counter\u001b[0m \u001b[0;34m+\u001b[0m \u001b[0;36m1\u001b[0m\u001b[0;34m,\u001b[0m \u001b[0mbase_url\u001b[0m\u001b[0;34m,\u001b[0m \u001b[0maccepts_clientid\u001b[0m\u001b[0;34m,\u001b[0m\u001b[0;34m\u001b[0m\u001b[0;34m\u001b[0m\u001b[0m\n\u001b[0;32m--> 270\u001b[0;31m                                  extract_body, requests_kwargs, post_json)\n\u001b[0m\u001b[1;32m    271\u001b[0m \u001b[0;34m\u001b[0m\u001b[0m\n\u001b[1;32m    272\u001b[0m     \u001b[0;32mdef\u001b[0m \u001b[0m_get\u001b[0m\u001b[0;34m(\u001b[0m\u001b[0mself\u001b[0m\u001b[0;34m,\u001b[0m \u001b[0;34m*\u001b[0m\u001b[0margs\u001b[0m\u001b[0;34m,\u001b[0m \u001b[0;34m**\u001b[0m\u001b[0mkwargs\u001b[0m\u001b[0;34m)\u001b[0m\u001b[0;34m:\u001b[0m  \u001b[0;31m# Backwards compatibility.\u001b[0m\u001b[0;34m\u001b[0m\u001b[0;34m\u001b[0m\u001b[0m\n", 
                        "\u001b[0;32m/opt/conda/envs/fastai/lib/python3.6/site-packages/googlemaps/client.py\u001b[0m in \u001b[0;36m_request\u001b[0;34m(self, url, params, first_request_time, retry_counter, base_url, accepts_clientid, extract_body, requests_kwargs, post_json)\u001b[0m\n\u001b[1;32m    268\u001b[0m             return self._request(url, params, first_request_time,\n\u001b[1;32m    269\u001b[0m                                  \u001b[0mretry_counter\u001b[0m \u001b[0;34m+\u001b[0m \u001b[0;36m1\u001b[0m\u001b[0;34m,\u001b[0m \u001b[0mbase_url\u001b[0m\u001b[0;34m,\u001b[0m \u001b[0maccepts_clientid\u001b[0m\u001b[0;34m,\u001b[0m\u001b[0;34m\u001b[0m\u001b[0;34m\u001b[0m\u001b[0m\n\u001b[0;32m--> 270\u001b[0;31m                                  extract_body, requests_kwargs, post_json)\n\u001b[0m\u001b[1;32m    271\u001b[0m \u001b[0;34m\u001b[0m\u001b[0m\n\u001b[1;32m    272\u001b[0m     \u001b[0;32mdef\u001b[0m \u001b[0m_get\u001b[0m\u001b[0;34m(\u001b[0m\u001b[0mself\u001b[0m\u001b[0;34m,\u001b[0m \u001b[0;34m*\u001b[0m\u001b[0margs\u001b[0m\u001b[0;34m,\u001b[0m \u001b[0;34m**\u001b[0m\u001b[0mkwargs\u001b[0m\u001b[0;34m)\u001b[0m\u001b[0;34m:\u001b[0m  \u001b[0;31m# Backwards compatibility.\u001b[0m\u001b[0;34m\u001b[0m\u001b[0;34m\u001b[0m\u001b[0m\n", 
                        "\u001b[0;32m/opt/conda/envs/fastai/lib/python3.6/site-packages/googlemaps/client.py\u001b[0m in \u001b[0;36m_request\u001b[0;34m(self, url, params, first_request_time, retry_counter, base_url, accepts_clientid, extract_body, requests_kwargs, post_json)\u001b[0m\n\u001b[1;32m    268\u001b[0m             return self._request(url, params, first_request_time,\n\u001b[1;32m    269\u001b[0m                                  \u001b[0mretry_counter\u001b[0m \u001b[0;34m+\u001b[0m \u001b[0;36m1\u001b[0m\u001b[0;34m,\u001b[0m \u001b[0mbase_url\u001b[0m\u001b[0;34m,\u001b[0m \u001b[0maccepts_clientid\u001b[0m\u001b[0;34m,\u001b[0m\u001b[0;34m\u001b[0m\u001b[0;34m\u001b[0m\u001b[0m\n\u001b[0;32m--> 270\u001b[0;31m                                  extract_body, requests_kwargs, post_json)\n\u001b[0m\u001b[1;32m    271\u001b[0m \u001b[0;34m\u001b[0m\u001b[0m\n\u001b[1;32m    272\u001b[0m     \u001b[0;32mdef\u001b[0m \u001b[0m_get\u001b[0m\u001b[0;34m(\u001b[0m\u001b[0mself\u001b[0m\u001b[0;34m,\u001b[0m \u001b[0;34m*\u001b[0m\u001b[0margs\u001b[0m\u001b[0;34m,\u001b[0m \u001b[0;34m**\u001b[0m\u001b[0mkwargs\u001b[0m\u001b[0;34m)\u001b[0m\u001b[0;34m:\u001b[0m  \u001b[0;31m# Backwards compatibility.\u001b[0m\u001b[0;34m\u001b[0m\u001b[0;34m\u001b[0m\u001b[0m\n", 
                        "\u001b[0;32m/opt/conda/envs/fastai/lib/python3.6/site-packages/googlemaps/client.py\u001b[0m in \u001b[0;36m_request\u001b[0;34m(self, url, params, first_request_time, retry_counter, base_url, accepts_clientid, extract_body, requests_kwargs, post_json)\u001b[0m\n\u001b[1;32m    208\u001b[0m         \u001b[0melapsed\u001b[0m \u001b[0;34m=\u001b[0m \u001b[0mdatetime\u001b[0m\u001b[0;34m.\u001b[0m\u001b[0mnow\u001b[0m\u001b[0;34m(\u001b[0m\u001b[0;34m)\u001b[0m \u001b[0;34m-\u001b[0m \u001b[0mfirst_request_time\u001b[0m\u001b[0;34m\u001b[0m\u001b[0;34m\u001b[0m\u001b[0m\n\u001b[1;32m    209\u001b[0m         \u001b[0;32mif\u001b[0m \u001b[0melapsed\u001b[0m \u001b[0;34m>\u001b[0m \u001b[0mself\u001b[0m\u001b[0;34m.\u001b[0m\u001b[0mretry_timeout\u001b[0m\u001b[0;34m:\u001b[0m\u001b[0;34m\u001b[0m\u001b[0;34m\u001b[0m\u001b[0m\n\u001b[0;32m--> 210\u001b[0;31m             \u001b[0;32mraise\u001b[0m \u001b[0mgooglemaps\u001b[0m\u001b[0;34m.\u001b[0m\u001b[0mexceptions\u001b[0m\u001b[0;34m.\u001b[0m\u001b[0mTimeout\u001b[0m\u001b[0;34m(\u001b[0m\u001b[0;34m)\u001b[0m\u001b[0;34m\u001b[0m\u001b[0;34m\u001b[0m\u001b[0m\n\u001b[0m\u001b[1;32m    211\u001b[0m \u001b[0;34m\u001b[0m\u001b[0m\n\u001b[1;32m    212\u001b[0m         \u001b[0;32mif\u001b[0m \u001b[0mretry_counter\u001b[0m \u001b[0;34m>\u001b[0m \u001b[0;36m0\u001b[0m\u001b[0;34m:\u001b[0m\u001b[0;34m\u001b[0m\u001b[0;34m\u001b[0m\u001b[0m\n", 
                        "\u001b[0;31mTimeout\u001b[0m: "
                    ], 
                    "output_type": "error"
                }
            ], 
            "source": "\n# df.merge(df.textcol.apply(lambda s: pd.Series({'feature1':s+1, 'feature2':s-1})), \n#    left_index=True, right_index=True)\n# df['Route'] = df['Route'].apply(lambda x:check_route(x))\n# merge two new columns to the dataframe by apply get_geocode_result function to the Location values and \n# with the first result populating the Latitude col and the second result populating the Longitude col\n# small sample - saved as 2014_2018_df_cleaned_keep_bad_loc_geocoded_first100.pkl\n\n# df_cut = df_cut.merge(df_cut.Location.apply(lambda s: pd.Series({'Latitude':get_geocode_result(s)[0],'Longitude':get_geocode_result(s)[1]})),left_index=True, right_index=True)\n\n# to avoid making multiple calls to the geocode API, bring in the latitude and longitude values as a single \n# column and \ndf['lat_long'] = df.Location.apply(lambda s: get_geocode_result(s))\n\n# with the first result populating the Latitude col and the second result populating the Longitude col\n# df = df.merge(df.Location.apply(lambda s: pd.Series({'Latitude':get_geocode_result(s)[0],'Longitude':get_geocode_result(s)[1]})),left_index=True, right_index=True)"
        }, 
        {
            "execution_count": 95, 
            "cell_type": "code", 
            "metadata": {}, 
            "outputs": [
                {
                    "execution_count": 95, 
                    "metadata": {}, 
                    "data": {
                        "text/html": "<div>\n<style scoped>\n    .dataframe tbody tr th:only-of-type {\n        vertical-align: middle;\n    }\n\n    .dataframe tbody tr th {\n        vertical-align: top;\n    }\n\n    .dataframe thead th {\n        text-align: right;\n    }\n</style>\n<table border=\"1\" class=\"dataframe\">\n  <thead>\n    <tr style=\"text-align: right;\">\n      <th></th>\n      <th>Report Date</th>\n      <th>Route</th>\n      <th>Time</th>\n      <th>Day</th>\n      <th>Location</th>\n      <th>Incident</th>\n      <th>Min Delay</th>\n      <th>Min Gap</th>\n      <th>Direction</th>\n      <th>Vehicle</th>\n      <th>Report Date Time</th>\n      <th>lat_long</th>\n    </tr>\n    <tr>\n      <th>Report Date Time</th>\n      <th></th>\n      <th></th>\n      <th></th>\n      <th></th>\n      <th></th>\n      <th></th>\n      <th></th>\n      <th></th>\n      <th></th>\n      <th></th>\n      <th></th>\n      <th></th>\n    </tr>\n  </thead>\n  <tbody>\n    <tr>\n      <th>2015-01-01 01:25:00</th>\n      <td>2015-01-01</td>\n      <td>504</td>\n      <td>01:25:00</td>\n      <td>Thursday</td>\n      <td>broadview and gerrard</td>\n      <td>Mechanical</td>\n      <td>9.0</td>\n      <td>18.0</td>\n      <td>s</td>\n      <td>4092</td>\n      <td>2015-01-01 01:25:00</td>\n      <td>[43.6654831, -79.35263359999999]</td>\n    </tr>\n    <tr>\n      <th>2015-01-01 01:44:00</th>\n      <td>2015-01-01</td>\n      <td>504</td>\n      <td>01:44:00</td>\n      <td>Thursday</td>\n      <td>galley and roncesvalles</td>\n      <td>Held By</td>\n      <td>14.0</td>\n      <td>23.0</td>\n      <td>s</td>\n      <td>4030</td>\n      <td>2015-01-01 01:44:00</td>\n      <td>[43.6428252, -79.4477026]</td>\n    </tr>\n    <tr>\n      <th>2015-01-01 02:04:00</th>\n      <td>2015-01-01</td>\n      <td>504</td>\n      <td>02:04:00</td>\n      <td>Thursday</td>\n      <td>king and sherborne</td>\n      <td>Mechanical</td>\n      <td>9.0</td>\n      <td>18.0</td>\n      <td>e</td>\n      <td>4147</td>\n      <td>2015-01-01 02:04:00</td>\n      <td>[43.6580047, -79.3710098]</td>\n    </tr>\n    <tr>\n      <th>2015-01-01 02:12:00</th>\n      <td>2015-01-01</td>\n      <td>306</td>\n      <td>02:12:00</td>\n      <td>Thursday</td>\n      <td>main st. and upper gerard</td>\n      <td>Investigation</td>\n      <td>29.0</td>\n      <td>39.0</td>\n      <td>s</td>\n      <td>4049</td>\n      <td>2015-01-01 02:12:00</td>\n      <td>[43.6841917, -79.3004627]</td>\n    </tr>\n    <tr>\n      <th>2015-01-01 05:05:00</th>\n      <td>2015-01-01</td>\n      <td>306</td>\n      <td>05:05:00</td>\n      <td>Thursday</td>\n      <td>gerrard and sumach</td>\n      <td>Mechanical</td>\n      <td>30.0</td>\n      <td>60.0</td>\n      <td>w</td>\n      <td>4114</td>\n      <td>2015-01-01 05:05:00</td>\n      <td>[43.66315549999999, -79.3614893]</td>\n    </tr>\n  </tbody>\n</table>\n</div>", 
                        "text/plain": "                    Report Date Route      Time       Day  \\\nReport Date Time                                            \n2015-01-01 01:25:00  2015-01-01   504  01:25:00  Thursday   \n2015-01-01 01:44:00  2015-01-01   504  01:44:00  Thursday   \n2015-01-01 02:04:00  2015-01-01   504  02:04:00  Thursday   \n2015-01-01 02:12:00  2015-01-01   306  02:12:00  Thursday   \n2015-01-01 05:05:00  2015-01-01   306  05:05:00  Thursday   \n\n                                      Location       Incident  Min Delay  \\\nReport Date Time                                                           \n2015-01-01 01:25:00      broadview and gerrard     Mechanical        9.0   \n2015-01-01 01:44:00    galley and roncesvalles        Held By       14.0   \n2015-01-01 02:04:00         king and sherborne     Mechanical        9.0   \n2015-01-01 02:12:00  main st. and upper gerard  Investigation       29.0   \n2015-01-01 05:05:00         gerrard and sumach     Mechanical       30.0   \n\n                     Min Gap Direction Vehicle    Report Date Time  \\\nReport Date Time                                                     \n2015-01-01 01:25:00     18.0         s    4092 2015-01-01 01:25:00   \n2015-01-01 01:44:00     23.0         s    4030 2015-01-01 01:44:00   \n2015-01-01 02:04:00     18.0         e    4147 2015-01-01 02:04:00   \n2015-01-01 02:12:00     39.0         s    4049 2015-01-01 02:12:00   \n2015-01-01 05:05:00     60.0         w    4114 2015-01-01 05:05:00   \n\n                                             lat_long  \nReport Date Time                                       \n2015-01-01 01:25:00  [43.6654831, -79.35263359999999]  \n2015-01-01 01:44:00         [43.6428252, -79.4477026]  \n2015-01-01 02:04:00         [43.6580047, -79.3710098]  \n2015-01-01 02:12:00         [43.6841917, -79.3004627]  \n2015-01-01 05:05:00  [43.66315549999999, -79.3614893]  "
                    }, 
                    "output_type": "execute_result"
                }
            ], 
            "source": "df_cut.head()"
        }, 
        {
            "execution_count": 96, 
            "cell_type": "code", 
            "metadata": {
                "scrolled": true
            }, 
            "outputs": [
                {
                    "output_type": "stream", 
                    "name": "stderr", 
                    "text": "/opt/conda/envs/fastai/lib/python3.6/site-packages/ipykernel_launcher.py:3: SettingWithCopyWarning: \nA value is trying to be set on a copy of a slice from a DataFrame.\nTry using .loc[row_indexer,col_indexer] = value instead\n\nSee the caveats in the documentation: http://pandas.pydata.org/pandas-docs/stable/indexing.html#indexing-view-versus-copy\n  This is separate from the ipykernel package so we can avoid doing imports until\n/opt/conda/envs/fastai/lib/python3.6/site-packages/ipykernel_launcher.py:4: SettingWithCopyWarning: \nA value is trying to be set on a copy of a slice from a DataFrame.\nTry using .loc[row_indexer,col_indexer] = value instead\n\nSee the caveats in the documentation: http://pandas.pydata.org/pandas-docs/stable/indexing.html#indexing-view-versus-copy\n  after removing the cwd from sys.path.\n"
                }, 
                {
                    "execution_count": 96, 
                    "metadata": {}, 
                    "data": {
                        "text/html": "<div>\n<style scoped>\n    .dataframe tbody tr th:only-of-type {\n        vertical-align: middle;\n    }\n\n    .dataframe tbody tr th {\n        vertical-align: top;\n    }\n\n    .dataframe thead th {\n        text-align: right;\n    }\n</style>\n<table border=\"1\" class=\"dataframe\">\n  <thead>\n    <tr style=\"text-align: right;\">\n      <th></th>\n      <th>Report Date</th>\n      <th>Route</th>\n      <th>Time</th>\n      <th>Day</th>\n      <th>Location</th>\n      <th>Incident</th>\n      <th>Min Delay</th>\n      <th>Min Gap</th>\n      <th>Direction</th>\n      <th>Vehicle</th>\n      <th>Report Date Time</th>\n      <th>lat_long</th>\n      <th>latitude</th>\n      <th>longitude</th>\n    </tr>\n    <tr>\n      <th>Report Date Time</th>\n      <th></th>\n      <th></th>\n      <th></th>\n      <th></th>\n      <th></th>\n      <th></th>\n      <th></th>\n      <th></th>\n      <th></th>\n      <th></th>\n      <th></th>\n      <th></th>\n      <th></th>\n      <th></th>\n    </tr>\n  </thead>\n  <tbody>\n    <tr>\n      <th>2015-01-01 01:25:00</th>\n      <td>2015-01-01</td>\n      <td>504</td>\n      <td>01:25:00</td>\n      <td>Thursday</td>\n      <td>broadview and gerrard</td>\n      <td>Mechanical</td>\n      <td>9.0</td>\n      <td>18.0</td>\n      <td>s</td>\n      <td>4092</td>\n      <td>2015-01-01 01:25:00</td>\n      <td>[43.6654831, -79.35263359999999]</td>\n      <td>43.665483</td>\n      <td>-79.352634</td>\n    </tr>\n    <tr>\n      <th>2015-01-01 01:44:00</th>\n      <td>2015-01-01</td>\n      <td>504</td>\n      <td>01:44:00</td>\n      <td>Thursday</td>\n      <td>galley and roncesvalles</td>\n      <td>Held By</td>\n      <td>14.0</td>\n      <td>23.0</td>\n      <td>s</td>\n      <td>4030</td>\n      <td>2015-01-01 01:44:00</td>\n      <td>[43.6428252, -79.4477026]</td>\n      <td>43.642825</td>\n      <td>-79.447703</td>\n    </tr>\n    <tr>\n      <th>2015-01-01 02:04:00</th>\n      <td>2015-01-01</td>\n      <td>504</td>\n      <td>02:04:00</td>\n      <td>Thursday</td>\n      <td>king and sherborne</td>\n      <td>Mechanical</td>\n      <td>9.0</td>\n      <td>18.0</td>\n      <td>e</td>\n      <td>4147</td>\n      <td>2015-01-01 02:04:00</td>\n      <td>[43.6580047, -79.3710098]</td>\n      <td>43.658005</td>\n      <td>-79.371010</td>\n    </tr>\n    <tr>\n      <th>2015-01-01 02:12:00</th>\n      <td>2015-01-01</td>\n      <td>306</td>\n      <td>02:12:00</td>\n      <td>Thursday</td>\n      <td>main st. and upper gerard</td>\n      <td>Investigation</td>\n      <td>29.0</td>\n      <td>39.0</td>\n      <td>s</td>\n      <td>4049</td>\n      <td>2015-01-01 02:12:00</td>\n      <td>[43.6841917, -79.3004627]</td>\n      <td>43.684192</td>\n      <td>-79.300463</td>\n    </tr>\n    <tr>\n      <th>2015-01-01 05:05:00</th>\n      <td>2015-01-01</td>\n      <td>306</td>\n      <td>05:05:00</td>\n      <td>Thursday</td>\n      <td>gerrard and sumach</td>\n      <td>Mechanical</td>\n      <td>30.0</td>\n      <td>60.0</td>\n      <td>w</td>\n      <td>4114</td>\n      <td>2015-01-01 05:05:00</td>\n      <td>[43.66315549999999, -79.3614893]</td>\n      <td>43.663155</td>\n      <td>-79.361489</td>\n    </tr>\n  </tbody>\n</table>\n</div>", 
                        "text/plain": "                    Report Date Route      Time       Day  \\\nReport Date Time                                            \n2015-01-01 01:25:00  2015-01-01   504  01:25:00  Thursday   \n2015-01-01 01:44:00  2015-01-01   504  01:44:00  Thursday   \n2015-01-01 02:04:00  2015-01-01   504  02:04:00  Thursday   \n2015-01-01 02:12:00  2015-01-01   306  02:12:00  Thursday   \n2015-01-01 05:05:00  2015-01-01   306  05:05:00  Thursday   \n\n                                      Location       Incident  Min Delay  \\\nReport Date Time                                                           \n2015-01-01 01:25:00      broadview and gerrard     Mechanical        9.0   \n2015-01-01 01:44:00    galley and roncesvalles        Held By       14.0   \n2015-01-01 02:04:00         king and sherborne     Mechanical        9.0   \n2015-01-01 02:12:00  main st. and upper gerard  Investigation       29.0   \n2015-01-01 05:05:00         gerrard and sumach     Mechanical       30.0   \n\n                     Min Gap Direction Vehicle    Report Date Time  \\\nReport Date Time                                                     \n2015-01-01 01:25:00     18.0         s    4092 2015-01-01 01:25:00   \n2015-01-01 01:44:00     23.0         s    4030 2015-01-01 01:44:00   \n2015-01-01 02:04:00     18.0         e    4147 2015-01-01 02:04:00   \n2015-01-01 02:12:00     39.0         s    4049 2015-01-01 02:12:00   \n2015-01-01 05:05:00     60.0         w    4114 2015-01-01 05:05:00   \n\n                                             lat_long   latitude  longitude  \nReport Date Time                                                             \n2015-01-01 01:25:00  [43.6654831, -79.35263359999999]  43.665483 -79.352634  \n2015-01-01 01:44:00         [43.6428252, -79.4477026]  43.642825 -79.447703  \n2015-01-01 02:04:00         [43.6580047, -79.3710098]  43.658005 -79.371010  \n2015-01-01 02:12:00         [43.6841917, -79.3004627]  43.684192 -79.300463  \n2015-01-01 05:05:00  [43.66315549999999, -79.3614893]  43.663155 -79.361489  "
                    }, 
                    "output_type": "execute_result"
                }
            ], 
            "source": "# derive latitude and longitude columns from list column\n# df[\"new_col\"] = df[\"A\"].str[0]\ndf[\"latitude\"] = df[\"lat_long\"].str[0]\ndf[\"longitude\"] = df[\"lat_long\"].str[1]\ndf.head()"
        }, 
        {
            "execution_count": 44, 
            "cell_type": "code", 
            "metadata": {}, 
            "outputs": [
                {
                    "execution_count": 44, 
                    "metadata": {}, 
                    "data": {
                        "text/plain": "(83365, 11)"
                    }, 
                    "output_type": "execute_result"
                }
            ], 
            "source": "df.shape"
        }, 
        {
            "execution_count": 39, 
            "cell_type": "code", 
            "metadata": {}, 
            "outputs": [
                {
                    "execution_count": 39, 
                    "metadata": {}, 
                    "data": {
                        "text/html": "<div>\n<style scoped>\n    .dataframe tbody tr th:only-of-type {\n        vertical-align: middle;\n    }\n\n    .dataframe tbody tr th {\n        vertical-align: top;\n    }\n\n    .dataframe thead th {\n        text-align: right;\n    }\n</style>\n<table border=\"1\" class=\"dataframe\">\n  <thead>\n    <tr style=\"text-align: right;\">\n      <th></th>\n      <th>Report Date</th>\n      <th>Route</th>\n      <th>Time</th>\n      <th>Day</th>\n      <th>Location</th>\n      <th>Incident</th>\n      <th>Min Delay</th>\n      <th>Min Gap</th>\n      <th>Direction</th>\n      <th>Vehicle</th>\n      <th>Report Date Time</th>\n      <th>Latitude</th>\n      <th>Longitude</th>\n    </tr>\n    <tr>\n      <th>Report Date Time</th>\n      <th></th>\n      <th></th>\n      <th></th>\n      <th></th>\n      <th></th>\n      <th></th>\n      <th></th>\n      <th></th>\n      <th></th>\n      <th></th>\n      <th></th>\n      <th></th>\n      <th></th>\n    </tr>\n  </thead>\n  <tbody>\n    <tr>\n      <th>2015-01-01 01:25:00</th>\n      <td>2015-01-01</td>\n      <td>504</td>\n      <td>01:25:00</td>\n      <td>Thursday</td>\n      <td>broadview and gerrard</td>\n      <td>Mechanical</td>\n      <td>9.0</td>\n      <td>18.0</td>\n      <td>s</td>\n      <td>4092</td>\n      <td>2015-01-01 01:25:00</td>\n      <td>43.665483</td>\n      <td>-79.352634</td>\n    </tr>\n    <tr>\n      <th>2015-01-01 01:44:00</th>\n      <td>2015-01-01</td>\n      <td>504</td>\n      <td>01:44:00</td>\n      <td>Thursday</td>\n      <td>galley and roncesvalles</td>\n      <td>Held By</td>\n      <td>14.0</td>\n      <td>23.0</td>\n      <td>s</td>\n      <td>4030</td>\n      <td>2015-01-01 01:44:00</td>\n      <td>43.642825</td>\n      <td>-79.447703</td>\n    </tr>\n    <tr>\n      <th>2015-01-01 02:04:00</th>\n      <td>2015-01-01</td>\n      <td>504</td>\n      <td>02:04:00</td>\n      <td>Thursday</td>\n      <td>king and sherborne</td>\n      <td>Mechanical</td>\n      <td>9.0</td>\n      <td>18.0</td>\n      <td>e</td>\n      <td>4147</td>\n      <td>2015-01-01 02:04:00</td>\n      <td>43.658005</td>\n      <td>-79.371010</td>\n    </tr>\n    <tr>\n      <th>2015-01-01 02:12:00</th>\n      <td>2015-01-01</td>\n      <td>306</td>\n      <td>02:12:00</td>\n      <td>Thursday</td>\n      <td>main st. and upper gerard</td>\n      <td>Investigation</td>\n      <td>29.0</td>\n      <td>39.0</td>\n      <td>s</td>\n      <td>4049</td>\n      <td>2015-01-01 02:12:00</td>\n      <td>43.684192</td>\n      <td>-79.300463</td>\n    </tr>\n    <tr>\n      <th>2015-01-01 05:05:00</th>\n      <td>2015-01-01</td>\n      <td>306</td>\n      <td>05:05:00</td>\n      <td>Thursday</td>\n      <td>gerrard and sumach</td>\n      <td>Mechanical</td>\n      <td>30.0</td>\n      <td>60.0</td>\n      <td>w</td>\n      <td>4114</td>\n      <td>2015-01-01 05:05:00</td>\n      <td>43.663155</td>\n      <td>-79.361489</td>\n    </tr>\n  </tbody>\n</table>\n</div>", 
                        "text/plain": "                    Report Date Route      Time       Day  \\\nReport Date Time                                            \n2015-01-01 01:25:00  2015-01-01   504  01:25:00  Thursday   \n2015-01-01 01:44:00  2015-01-01   504  01:44:00  Thursday   \n2015-01-01 02:04:00  2015-01-01   504  02:04:00  Thursday   \n2015-01-01 02:12:00  2015-01-01   306  02:12:00  Thursday   \n2015-01-01 05:05:00  2015-01-01   306  05:05:00  Thursday   \n\n                                      Location       Incident  Min Delay  \\\nReport Date Time                                                           \n2015-01-01 01:25:00      broadview and gerrard     Mechanical        9.0   \n2015-01-01 01:44:00    galley and roncesvalles        Held By       14.0   \n2015-01-01 02:04:00         king and sherborne     Mechanical        9.0   \n2015-01-01 02:12:00  main st. and upper gerard  Investigation       29.0   \n2015-01-01 05:05:00         gerrard and sumach     Mechanical       30.0   \n\n                     Min Gap Direction Vehicle    Report Date Time   Latitude  \\\nReport Date Time                                                                \n2015-01-01 01:25:00     18.0         s    4092 2015-01-01 01:25:00  43.665483   \n2015-01-01 01:44:00     23.0         s    4030 2015-01-01 01:44:00  43.642825   \n2015-01-01 02:04:00     18.0         e    4147 2015-01-01 02:04:00  43.658005   \n2015-01-01 02:12:00     39.0         s    4049 2015-01-01 02:12:00  43.684192   \n2015-01-01 05:05:00     60.0         w    4114 2015-01-01 05:05:00  43.663155   \n\n                     Longitude  \nReport Date Time                \n2015-01-01 01:25:00 -79.352634  \n2015-01-01 01:44:00 -79.447703  \n2015-01-01 02:04:00 -79.371010  \n2015-01-01 02:12:00 -79.300463  \n2015-01-01 05:05:00 -79.361489  "
                    }, 
                    "output_type": "execute_result"
                }
            ], 
            "source": "df.head()\n"
        }, 
        {
            "source": "# Remove bad rows", 
            "cell_type": "markdown", 
            "metadata": {}
        }, 
        {
            "execution_count": 54, 
            "cell_type": "code", 
            "metadata": {}, 
            "outputs": [
                {
                    "output_type": "stream", 
                    "name": "stdout", 
                    "text": "Location count post cleanup: 10074\nRoute count post cleanup: 15\nDirection count post cleanup: 6\nVehicle count post cleanup: 1017\nBad route count: 3091\nBad direction count: 334\nBad vehicle count: 14480\n"
                }
            ], 
            "source": "print(\"Location count post cleanup:\",df['Location'].nunique())\nprint(\"Route count post cleanup:\",df['Route'].nunique())\nprint(\"Direction count post cleanup:\",df['Direction'].nunique())\nprint(\"Vehicle count post cleanup:\",df['Vehicle'].nunique())\n# print(\"Bad Location count\":df[df.Vehicle == 'bad vehicle'].shape[0])\nprint(\"Bad route count:\",df[df.Route == 'bad route'].shape[0])\nprint(\"Bad direction count:\",df[df.Direction == 'bad direction'].shape[0])\nprint(\"Bad vehicle count:\",df[df.Vehicle == 'bad vehicle'].shape[0])"
        }, 
        {
            "execution_count": 55, 
            "cell_type": "code", 
            "metadata": {}, 
            "outputs": [], 
            "source": "# remove rows with bad vehicle value\nif remove_bad_values:\n    df = df[df.Vehicle != 'bad vehicle']\n    df = df[df.Direction != 'bad direction']\n    df = df[df.Route != 'bad route']"
        }, 
        {
            "execution_count": 56, 
            "cell_type": "code", 
            "metadata": {}, 
            "outputs": [
                {
                    "execution_count": 56, 
                    "metadata": {}, 
                    "data": {
                        "text/plain": "(66095, 11)"
                    }, 
                    "output_type": "execute_result"
                }
            ], 
            "source": "df.shape"
        }, 
        {
            "execution_count": 40, 
            "cell_type": "code", 
            "metadata": {}, 
            "outputs": [], 
            "source": "# pickle the cleansed dataframe\nfile_name = path + pickled_output_dataframe\ndf_cut.to_pickle(file_name)"
        }, 
        {
            "execution_count": 36, 
            "cell_type": "code", 
            "metadata": {}, 
            "outputs": [
                {
                    "execution_count": 36, 
                    "metadata": {}, 
                    "data": {
                        "text/plain": "(100, 11)"
                    }, 
                    "output_type": "execute_result"
                }
            ], 
            "source": "dfn.shape"
        }, 
        {
            "execution_count": 41, 
            "cell_type": "code", 
            "metadata": {}, 
            "outputs": [
                {
                    "execution_count": 41, 
                    "metadata": {}, 
                    "data": {
                        "text/html": "<div>\n<style scoped>\n    .dataframe tbody tr th:only-of-type {\n        vertical-align: middle;\n    }\n\n    .dataframe tbody tr th {\n        vertical-align: top;\n    }\n\n    .dataframe thead th {\n        text-align: right;\n    }\n</style>\n<table border=\"1\" class=\"dataframe\">\n  <thead>\n    <tr style=\"text-align: right;\">\n      <th></th>\n      <th>Report Date</th>\n      <th>Route</th>\n      <th>Time</th>\n      <th>Day</th>\n      <th>Location</th>\n      <th>Incident</th>\n      <th>Min Delay</th>\n      <th>Min Gap</th>\n      <th>Direction</th>\n      <th>Vehicle</th>\n      <th>Report Date Time</th>\n      <th>Latitude</th>\n      <th>Longitude</th>\n    </tr>\n    <tr>\n      <th>Report Date Time</th>\n      <th></th>\n      <th></th>\n      <th></th>\n      <th></th>\n      <th></th>\n      <th></th>\n      <th></th>\n      <th></th>\n      <th></th>\n      <th></th>\n      <th></th>\n      <th></th>\n      <th></th>\n    </tr>\n  </thead>\n  <tbody>\n    <tr>\n      <th>2015-01-01 01:25:00</th>\n      <td>2015-01-01</td>\n      <td>504</td>\n      <td>01:25:00</td>\n      <td>Thursday</td>\n      <td>broadview and gerrard</td>\n      <td>Mechanical</td>\n      <td>9.0</td>\n      <td>18.0</td>\n      <td>s</td>\n      <td>4092</td>\n      <td>2015-01-01 01:25:00</td>\n      <td>43.665483</td>\n      <td>-79.352634</td>\n    </tr>\n    <tr>\n      <th>2015-01-01 01:44:00</th>\n      <td>2015-01-01</td>\n      <td>504</td>\n      <td>01:44:00</td>\n      <td>Thursday</td>\n      <td>galley and roncesvalles</td>\n      <td>Held By</td>\n      <td>14.0</td>\n      <td>23.0</td>\n      <td>s</td>\n      <td>4030</td>\n      <td>2015-01-01 01:44:00</td>\n      <td>43.642825</td>\n      <td>-79.447703</td>\n    </tr>\n    <tr>\n      <th>2015-01-01 02:04:00</th>\n      <td>2015-01-01</td>\n      <td>504</td>\n      <td>02:04:00</td>\n      <td>Thursday</td>\n      <td>king and sherborne</td>\n      <td>Mechanical</td>\n      <td>9.0</td>\n      <td>18.0</td>\n      <td>e</td>\n      <td>4147</td>\n      <td>2015-01-01 02:04:00</td>\n      <td>43.658005</td>\n      <td>-79.371010</td>\n    </tr>\n    <tr>\n      <th>2015-01-01 02:12:00</th>\n      <td>2015-01-01</td>\n      <td>306</td>\n      <td>02:12:00</td>\n      <td>Thursday</td>\n      <td>main st. and upper gerard</td>\n      <td>Investigation</td>\n      <td>29.0</td>\n      <td>39.0</td>\n      <td>s</td>\n      <td>4049</td>\n      <td>2015-01-01 02:12:00</td>\n      <td>43.684192</td>\n      <td>-79.300463</td>\n    </tr>\n    <tr>\n      <th>2015-01-01 05:05:00</th>\n      <td>2015-01-01</td>\n      <td>306</td>\n      <td>05:05:00</td>\n      <td>Thursday</td>\n      <td>gerrard and sumach</td>\n      <td>Mechanical</td>\n      <td>30.0</td>\n      <td>60.0</td>\n      <td>w</td>\n      <td>4114</td>\n      <td>2015-01-01 05:05:00</td>\n      <td>43.663155</td>\n      <td>-79.361489</td>\n    </tr>\n  </tbody>\n</table>\n</div>", 
                        "text/plain": "                    Report Date Route      Time       Day  \\\nReport Date Time                                            \n2015-01-01 01:25:00  2015-01-01   504  01:25:00  Thursday   \n2015-01-01 01:44:00  2015-01-01   504  01:44:00  Thursday   \n2015-01-01 02:04:00  2015-01-01   504  02:04:00  Thursday   \n2015-01-01 02:12:00  2015-01-01   306  02:12:00  Thursday   \n2015-01-01 05:05:00  2015-01-01   306  05:05:00  Thursday   \n\n                                      Location       Incident  Min Delay  \\\nReport Date Time                                                           \n2015-01-01 01:25:00      broadview and gerrard     Mechanical        9.0   \n2015-01-01 01:44:00    galley and roncesvalles        Held By       14.0   \n2015-01-01 02:04:00         king and sherborne     Mechanical        9.0   \n2015-01-01 02:12:00  main st. and upper gerard  Investigation       29.0   \n2015-01-01 05:05:00         gerrard and sumach     Mechanical       30.0   \n\n                     Min Gap Direction Vehicle    Report Date Time   Latitude  \\\nReport Date Time                                                                \n2015-01-01 01:25:00     18.0         s    4092 2015-01-01 01:25:00  43.665483   \n2015-01-01 01:44:00     23.0         s    4030 2015-01-01 01:44:00  43.642825   \n2015-01-01 02:04:00     18.0         e    4147 2015-01-01 02:04:00  43.658005   \n2015-01-01 02:12:00     39.0         s    4049 2015-01-01 02:12:00  43.684192   \n2015-01-01 05:05:00     60.0         w    4114 2015-01-01 05:05:00  43.663155   \n\n                     Longitude  \nReport Date Time                \n2015-01-01 01:25:00 -79.352634  \n2015-01-01 01:44:00 -79.447703  \n2015-01-01 02:04:00 -79.371010  \n2015-01-01 02:12:00 -79.300463  \n2015-01-01 05:05:00 -79.361489  "
                    }, 
                    "output_type": "execute_result"
                }
            ], 
            "source": "dfn = pd.read_pickle(file_name)\ndfn.head()"
        }, 
        {
            "source": "# Visualize cleaned data", 
            "cell_type": "markdown", 
            "metadata": {}
        }, 
        {
            "execution_count": null, 
            "cell_type": "code", 
            "metadata": {}, 
            "outputs": [], 
            "source": "!pip install pixiedust"
        }, 
        {
            "execution_count": null, 
            "cell_type": "code", 
            "metadata": {}, 
            "outputs": [], 
            "source": "import pixiedust"
        }, 
        {
            "execution_count": null, 
            "cell_type": "code", 
            "metadata": {
                "pixiedust": {
                    "displayParams": {
                        "tableFields": "Day", 
                        "mapboxtoken": "pk.eyJ1Ijoicnlhbm1hcmsiLCJhIjoiY2pvM2JnZmE0MHY5dzNxcXM0Zmw3c2RwZSJ9.k-PhU8qMVztXtdyuX2Yjpw", 
                        "stretch": "false", 
                        "chartsize": "70", 
                        "binsize": "23", 
                        "handlerId": "barChart", 
                        "valueFields": "Min Delay", 
                        "sortby": "Values DESC", 
                        "keyFields": "Route"
                    }
                }, 
                "scrolled": false
            }, 
            "outputs": [], 
            "source": "display(df)"
        }
    ], 
    "metadata": {
        "kernelspec": {
            "display_name": "Python 3.5", 
            "name": "python3", 
            "language": "python"
        }, 
        "language_info": {
            "mimetype": "text/x-python", 
            "nbconvert_exporter": "python", 
            "version": "3.5.5", 
            "name": "python", 
            "file_extension": ".py", 
            "pygments_lexer": "ipython3", 
            "codemirror_mode": {
                "version": 3, 
                "name": "ipython"
            }
        }
    }, 
    "nbformat": 4
}