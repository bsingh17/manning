{
    "nbformat_minor": 2, 
    "cells": [
        {
            "source": "# Streetcar Delay Prediction - Data Preparation Geocode Specific\n\nUse dataset covering Toronto Transit Commission (TTC) streetcar delays 2014 - present to predict future delays and come up with recommendations for avoiding delays.\n\nSource dataset: : https://www.toronto.ca/city-government/data-research-maps/open-data/open-data-catalogue/#e8f359f0-2f47-3058-bf64-6ec488de52da\n\nThis notebook contains the data preparation steps specific to mapping free-form location descriptions to latitude and longitude\n\n- use the Google Maps API Web Services for Python  https://github.com/googlemaps/google-maps-services-python\n- generate the latitude and longitude values for locations and create new columns in the output dataset", 
            "cell_type": "markdown", 
            "metadata": {}
        }, 
        {
            "source": "# Streetcar routes\n\nFrom https://www.ttc.ca/Routes/Streetcars.jsp\n\n<table style=\"border: none\" align=\"left\">\n   </tr>\n   <tr style=\"border: none\">\n       <th style=\"border: none\"><img src=\"https://raw.githubusercontent.com/ryanmark1867/streetcarnov3/master/streetcar%20routes.jpg\" width=\"600\" alt=\"Icon\"> </th>\n   </tr>\n</table>", 
            "cell_type": "markdown", 
            "metadata": {}
        }, 
        {
            "execution_count": 1, 
            "cell_type": "code", 
            "metadata": {}, 
            "outputs": [
                {
                    "output_type": "stream", 
                    "name": "stdout", 
                    "text": "/storage/manning/notebooks\r\n"
                }
            ], 
            "source": "! pwd"
        }, 
        {
            "source": "# Get path and load dataframe saved from previous data preparation step", 
            "cell_type": "markdown", 
            "metadata": {}
        }, 
        {
            "execution_count": 2, 
            "cell_type": "code", 
            "metadata": {}, 
            "outputs": [], 
            "source": "import numpy as np # linear algebra\nimport pandas as pd # data processing, CSV file I/O (e.g. pd.read_csv)\nimport matplotlib.pyplot as plt\n# import seaborn as sns\nimport datetime\nimport os\n\nremove_bad_values = False\ncity_name = 'Toronto'\n"
        }, 
        {
            "execution_count": 3, 
            "cell_type": "code", 
            "metadata": {}, 
            "outputs": [
                {
                    "output_type": "stream", 
                    "name": "stdout", 
                    "text": "raw path is /storage/manning/notebooks\n"
                }
            ], 
            "source": "# get the directory for that this notebook is in\nrawpath = os.getcwd()\nprint(\"raw path is\",rawpath)"
        }, 
        {
            "execution_count": 4, 
            "cell_type": "code", 
            "metadata": {}, 
            "outputs": [
                {
                    "output_type": "stream", 
                    "name": "stdout", 
                    "text": "path is /storage/manning/data/\n"
                }
            ], 
            "source": "# data is in a directory called \"data\" that is a sibling to the directory containing the notebook\npath = os.path.abspath(os.path.join(rawpath, '..', 'data')) + \"/\"\nprint(\"path is\", path)"
        }, 
        {
            "execution_count": 5, 
            "cell_type": "code", 
            "metadata": {}, 
            "outputs": [], 
            "source": "# constants for the streetcar problem\n# same values saved in data_preparation notebook: pickled_input_dataframe, pickled_output_dataframe\npickled_data_file = '2014_2018.pkl'\n#pickled_dataframe = '2014_2018_df.pkl'\npickled_dataframe = '2014_2018_df_cleaned_keep_bad_apr23.pkl'\npickled_output_dataframe = '2014_2018_df_cleaned_keep_bad_loc_geocoded_apr23.pkl'"
        }, 
        {
            "execution_count": 6, 
            "cell_type": "code", 
            "metadata": {}, 
            "outputs": [
                {
                    "execution_count": 6, 
                    "metadata": {}, 
                    "data": {
                        "text/html": "<div>\n<style scoped>\n    .dataframe tbody tr th:only-of-type {\n        vertical-align: middle;\n    }\n\n    .dataframe tbody tr th {\n        vertical-align: top;\n    }\n\n    .dataframe thead th {\n        text-align: right;\n    }\n</style>\n<table border=\"1\" class=\"dataframe\">\n  <thead>\n    <tr style=\"text-align: right;\">\n      <th></th>\n      <th>Report Date</th>\n      <th>Route</th>\n      <th>Time</th>\n      <th>Day</th>\n      <th>Location</th>\n      <th>Incident</th>\n      <th>Min Delay</th>\n      <th>Min Gap</th>\n      <th>Direction</th>\n      <th>Vehicle</th>\n      <th>Report Date Time</th>\n    </tr>\n    <tr>\n      <th>Report Date Time</th>\n      <th></th>\n      <th></th>\n      <th></th>\n      <th></th>\n      <th></th>\n      <th></th>\n      <th></th>\n      <th></th>\n      <th></th>\n      <th></th>\n      <th></th>\n    </tr>\n  </thead>\n  <tbody>\n    <tr>\n      <th>2016-01-01 00:00:00</th>\n      <td>2016-01-01</td>\n      <td>505</td>\n      <td>00:00:00</td>\n      <td>Friday</td>\n      <td>dundas west stationt to broadview station</td>\n      <td>General Delay</td>\n      <td>7.0</td>\n      <td>14.0</td>\n      <td>w</td>\n      <td>4028</td>\n      <td>2016-01-01 00:00:00</td>\n    </tr>\n    <tr>\n      <th>2016-01-01 02:14:00</th>\n      <td>2016-01-01</td>\n      <td>511</td>\n      <td>02:14:00</td>\n      <td>Friday</td>\n      <td>fleet st. and strachan</td>\n      <td>Mechanical</td>\n      <td>10.0</td>\n      <td>20.0</td>\n      <td>e</td>\n      <td>4018</td>\n      <td>2016-01-01 02:14:00</td>\n    </tr>\n    <tr>\n      <th>2016-01-01 02:22:00</th>\n      <td>2016-01-01</td>\n      <td>301</td>\n      <td>02:22:00</td>\n      <td>Friday</td>\n      <td>queen st. west and roncesvalles</td>\n      <td>Mechanical</td>\n      <td>9.0</td>\n      <td>18.0</td>\n      <td>w</td>\n      <td>4201</td>\n      <td>2016-01-01 02:22:00</td>\n    </tr>\n    <tr>\n      <th>2016-01-01 03:28:00</th>\n      <td>2016-01-01</td>\n      <td>301</td>\n      <td>03:28:00</td>\n      <td>Friday</td>\n      <td>lake shore blvd. and superior st.</td>\n      <td>Mechanical</td>\n      <td>20.0</td>\n      <td>40.0</td>\n      <td>e</td>\n      <td>4251</td>\n      <td>2016-01-01 03:28:00</td>\n    </tr>\n    <tr>\n      <th>2016-01-01 14:28:00</th>\n      <td>2016-01-01</td>\n      <td>501</td>\n      <td>14:28:00</td>\n      <td>Friday</td>\n      <td>roncesvalles to neville park</td>\n      <td>Mechanical</td>\n      <td>6.0</td>\n      <td>12.0</td>\n      <td>e</td>\n      <td>4242</td>\n      <td>2016-01-01 14:28:00</td>\n    </tr>\n  </tbody>\n</table>\n</div>", 
                        "text/plain": "                    Report Date Route      Time     Day  \\\nReport Date Time                                          \n2016-01-01 00:00:00  2016-01-01   505  00:00:00  Friday   \n2016-01-01 02:14:00  2016-01-01   511  02:14:00  Friday   \n2016-01-01 02:22:00  2016-01-01   301  02:22:00  Friday   \n2016-01-01 03:28:00  2016-01-01   301  03:28:00  Friday   \n2016-01-01 14:28:00  2016-01-01   501  14:28:00  Friday   \n\n                                                      Location       Incident  \\\nReport Date Time                                                                \n2016-01-01 00:00:00  dundas west stationt to broadview station  General Delay   \n2016-01-01 02:14:00                     fleet st. and strachan     Mechanical   \n2016-01-01 02:22:00            queen st. west and roncesvalles     Mechanical   \n2016-01-01 03:28:00          lake shore blvd. and superior st.     Mechanical   \n2016-01-01 14:28:00               roncesvalles to neville park     Mechanical   \n\n                     Min Delay  Min Gap Direction Vehicle    Report Date Time  \nReport Date Time                                                               \n2016-01-01 00:00:00        7.0     14.0         w    4028 2016-01-01 00:00:00  \n2016-01-01 02:14:00       10.0     20.0         e    4018 2016-01-01 02:14:00  \n2016-01-01 02:22:00        9.0     18.0         w    4201 2016-01-01 02:22:00  \n2016-01-01 03:28:00       20.0     40.0         e    4251 2016-01-01 03:28:00  \n2016-01-01 14:28:00        6.0     12.0         e    4242 2016-01-01 14:28:00  "
                    }, 
                    "output_type": "execute_result"
                }
            ], 
            "source": "file_name = path + pickled_dataframe\ndf = pd.read_pickle(file_name)\ndf.head()"
        }, 
        {
            "execution_count": 7, 
            "cell_type": "code", 
            "metadata": {}, 
            "outputs": [
                {
                    "execution_count": 7, 
                    "metadata": {}, 
                    "data": {
                        "text/plain": "(69603, 11)"
                    }, 
                    "output_type": "execute_result"
                }
            ], 
            "source": "df.shape"
        }, 
        {
            "execution_count": 8, 
            "cell_type": "code", 
            "metadata": {
                "scrolled": true
            }, 
            "outputs": [
                {
                    "output_type": "stream", 
                    "name": "stdout", 
                    "text": "loc_unique dundas west stationt to broadview station\n"
                }, 
                {
                    "execution_count": 8, 
                    "metadata": {}, 
                    "data": {
                        "text/html": "<div>\n<style scoped>\n    .dataframe tbody tr th:only-of-type {\n        vertical-align: middle;\n    }\n\n    .dataframe tbody tr th {\n        vertical-align: top;\n    }\n\n    .dataframe thead th {\n        text-align: right;\n    }\n</style>\n<table border=\"1\" class=\"dataframe\">\n  <thead>\n    <tr style=\"text-align: right;\">\n      <th></th>\n      <th>Location</th>\n    </tr>\n  </thead>\n  <tbody>\n    <tr>\n      <th>0</th>\n      <td>dundas west stationt to broadview station</td>\n    </tr>\n    <tr>\n      <th>1</th>\n      <td>fleet st. and strachan</td>\n    </tr>\n    <tr>\n      <th>2</th>\n      <td>queen st. west and roncesvalles</td>\n    </tr>\n    <tr>\n      <th>3</th>\n      <td>lake shore blvd. and superior st.</td>\n    </tr>\n    <tr>\n      <th>4</th>\n      <td>roncesvalles to neville park</td>\n    </tr>\n  </tbody>\n</table>\n</div>", 
                        "text/plain": "                                    Location\n0  dundas west stationt to broadview station\n1                     fleet st. and strachan\n2            queen st. west and roncesvalles\n3          lake shore blvd. and superior st.\n4               roncesvalles to neville park"
                    }, 
                    "output_type": "execute_result"
                }
            ], 
            "source": "# create a dataframe just containing\n# gapminder['continent'].unique().tolist\nloc_unique = df['Location'].unique().tolist()\nprint(\"loc_unique\", loc_unique[0])\n# pd.DataFrame(q_list, columns=['q_data'])\ndf_unique = pd.DataFrame(loc_unique, columns=['Location'])\ndf_unique.head()"
        }, 
        {
            "execution_count": 9, 
            "cell_type": "code", 
            "metadata": {}, 
            "outputs": [
                {
                    "execution_count": 9, 
                    "metadata": {}, 
                    "data": {
                        "text/plain": "(10074, 1)"
                    }, 
                    "output_type": "execute_result"
                }
            ], 
            "source": "df_unique.shape"
        }, 
        {
            "source": "# Set up geocode", 
            "cell_type": "markdown", 
            "metadata": {}
        }, 
        {
            "execution_count": 10, 
            "cell_type": "code", 
            "metadata": {}, 
            "outputs": [
                {
                    "output_type": "stream", 
                    "name": "stdout", 
                    "text": "Requirement already up-to-date: googlemaps in /opt/conda/envs/fastai/lib/python3.6/site-packages (3.0.2)\r\nRequirement already satisfied, skipping upgrade: requests<3.0,>=2.11.1 in /opt/conda/envs/fastai/lib/python3.6/site-packages (from googlemaps) (2.21.0)\r\nRequirement already satisfied, skipping upgrade: idna<2.9,>=2.5 in /opt/conda/envs/fastai/lib/python3.6/site-packages (from requests<3.0,>=2.11.1->googlemaps) (2.8)\r\nRequirement already satisfied, skipping upgrade: urllib3<1.25,>=1.21.1 in /opt/conda/envs/fastai/lib/python3.6/site-packages (from requests<3.0,>=2.11.1->googlemaps) (1.24.1)\r\nRequirement already satisfied, skipping upgrade: certifi>=2017.4.17 in /opt/conda/envs/fastai/lib/python3.6/site-packages (from requests<3.0,>=2.11.1->googlemaps) (2018.11.29)\r\nRequirement already satisfied, skipping upgrade: chardet<3.1.0,>=3.0.2 in /opt/conda/envs/fastai/lib/python3.6/site-packages (from requests<3.0,>=2.11.1->googlemaps) (3.0.4)\r\n"
                }
            ], 
            "source": "! pip install -U googlemaps"
        }, 
        {
            "execution_count": null, 
            "cell_type": "code", 
            "metadata": {}, 
            "outputs": [], 
            "source": "import googlemaps"
        }, 
        {
            "execution_count": null, 
            "cell_type": "code", 
            "metadata": {}, 
            "outputs": [], 
            "source": "# The code was removed by Watson Studio for sharing."
        }, 
        {
            "execution_count": 17, 
            "cell_type": "code", 
            "metadata": {
                "scrolled": true
            }, 
            "outputs": [
                {
                    "output_type": "stream", 
                    "name": "stdout", 
                    "text": "geocode result {'lat': 43.61496169999999, 'lng': -79.4886581}\n"
                }
            ], 
            "source": "\n# Geocoding an address\ngeocode_result = gmaps.geocode('lake shore blvd. and superior st., Toronto')\n\nprint(\"geocode result\",geocode_result[0][\"geometry\"][\"location\"])"
        }, 
        {
            "execution_count": 12, 
            "cell_type": "code", 
            "metadata": {}, 
            "outputs": [], 
            "source": "# given an address / junction, return a list containg the latitude and longitude values returned by geocode api\n\ndef get_geocode_result(junction):\n    \n    geo_string = junction+\", \"+city_name\n    # print(\"geo_string is\", geo_string)\n    geocode_result = gmaps.geocode(geo_string)\n    # check to see if the result is empty and if so return zeros to indicate unparseable junction value\n    if len(geocode_result) > 0:\n        locs = geocode_result[0][\"geometry\"][\"location\"]\n        return [locs[\"lat\"], locs[\"lng\"]]\n    else:\n        return [0.0,0.0]\n\n"
        }, 
        {
            "execution_count": 13, 
            "cell_type": "code", 
            "metadata": {
                "scrolled": true
            }, 
            "outputs": [
                {
                    "output_type": "stream", 
                    "name": "stdout", 
                    "text": "locs  [0.0, 0.0]\n"
                }
            ], 
            "source": "# test geocode api with value that will return empty result\n\nlocs = get_geocode_result(\"roncesvalles to longbranch\")\nprint(\"locs \",locs)"
        }, 
        {
            "execution_count": 14, 
            "cell_type": "code", 
            "metadata": {}, 
            "outputs": [
                {
                    "execution_count": 14, 
                    "metadata": {}, 
                    "data": {
                        "text/plain": "43.6471969"
                    }, 
                    "output_type": "execute_result"
                }
            ], 
            "source": "# test geocode api with value that will return non-empty result\nget_geocode_result(\"queen and bathurst\")[0]"
        }, 
        {
            "execution_count": 15, 
            "cell_type": "code", 
            "metadata": {}, 
            "outputs": [
                {
                    "execution_count": 15, 
                    "metadata": {}, 
                    "data": {
                        "text/plain": "(69603, 11)"
                    }, 
                    "output_type": "execute_result"
                }
            ], 
            "source": "df.shape"
        }, 
        {
            "execution_count": 16, 
            "cell_type": "code", 
            "metadata": {}, 
            "outputs": [], 
            "source": "\n# to avoid making multiple calls to the geocode API, bring in the latitude and longitude values as a single \n# column to a dataframe containing just the unique location values and once we have that go through steps\n# to get the desired columns in the overall dataframe\ndf_unique['lat_long'] = df_unique.Location.apply(lambda s: get_geocode_result(s))\n\n"
        }, 
        {
            "execution_count": 17, 
            "cell_type": "code", 
            "metadata": {}, 
            "outputs": [
                {
                    "execution_count": 17, 
                    "metadata": {}, 
                    "data": {
                        "text/html": "<div>\n<style scoped>\n    .dataframe tbody tr th:only-of-type {\n        vertical-align: middle;\n    }\n\n    .dataframe tbody tr th {\n        vertical-align: top;\n    }\n\n    .dataframe thead th {\n        text-align: right;\n    }\n</style>\n<table border=\"1\" class=\"dataframe\">\n  <thead>\n    <tr style=\"text-align: right;\">\n      <th></th>\n      <th>Location</th>\n      <th>lat_long</th>\n    </tr>\n  </thead>\n  <tbody>\n    <tr>\n      <th>0</th>\n      <td>dundas west stationt to broadview station</td>\n      <td>[0.0, 0.0]</td>\n    </tr>\n    <tr>\n      <th>1</th>\n      <td>fleet st. and strachan</td>\n      <td>[43.6362976, -79.4096351]</td>\n    </tr>\n    <tr>\n      <th>2</th>\n      <td>queen st. west and roncesvalles</td>\n      <td>[43.64533489999999, -79.4131843]</td>\n    </tr>\n    <tr>\n      <th>3</th>\n      <td>lake shore blvd. and superior st.</td>\n      <td>[43.61496169999999, -79.4886581]</td>\n    </tr>\n    <tr>\n      <th>4</th>\n      <td>roncesvalles to neville park</td>\n      <td>[0.0, 0.0]</td>\n    </tr>\n  </tbody>\n</table>\n</div>", 
                        "text/plain": "                                    Location                          lat_long\n0  dundas west stationt to broadview station                        [0.0, 0.0]\n1                     fleet st. and strachan         [43.6362976, -79.4096351]\n2            queen st. west and roncesvalles  [43.64533489999999, -79.4131843]\n3          lake shore blvd. and superior st.  [43.61496169999999, -79.4886581]\n4               roncesvalles to neville park                        [0.0, 0.0]"
                    }, 
                    "output_type": "execute_result"
                }
            ], 
            "source": "df_unique.head()"
        }, 
        {
            "execution_count": 18, 
            "cell_type": "code", 
            "metadata": {}, 
            "outputs": [
                {
                    "execution_count": 18, 
                    "metadata": {}, 
                    "data": {
                        "text/plain": "(10074, 2)"
                    }, 
                    "output_type": "execute_result"
                }
            ], 
            "source": "df_unique.shape"
        }, 
        {
            "execution_count": 22, 
            "cell_type": "code", 
            "metadata": {
                "scrolled": true
            }, 
            "outputs": [
                {
                    "execution_count": 22, 
                    "metadata": {}, 
                    "data": {
                        "text/html": "<div>\n<style scoped>\n    .dataframe tbody tr th:only-of-type {\n        vertical-align: middle;\n    }\n\n    .dataframe tbody tr th {\n        vertical-align: top;\n    }\n\n    .dataframe thead th {\n        text-align: right;\n    }\n</style>\n<table border=\"1\" class=\"dataframe\">\n  <thead>\n    <tr style=\"text-align: right;\">\n      <th></th>\n      <th>Location</th>\n      <th>lat_long</th>\n      <th>latitude</th>\n      <th>longitude</th>\n    </tr>\n  </thead>\n  <tbody>\n    <tr>\n      <th>0</th>\n      <td>dundas west stationt to broadview station</td>\n      <td>[0.0, 0.0]</td>\n      <td>0.000000</td>\n      <td>0.000000</td>\n    </tr>\n    <tr>\n      <th>1</th>\n      <td>fleet st. and strachan</td>\n      <td>[43.6362976, -79.4096351]</td>\n      <td>43.636298</td>\n      <td>-79.409635</td>\n    </tr>\n    <tr>\n      <th>2</th>\n      <td>queen st. west and roncesvalles</td>\n      <td>[43.64533489999999, -79.4131843]</td>\n      <td>43.645335</td>\n      <td>-79.413184</td>\n    </tr>\n    <tr>\n      <th>3</th>\n      <td>lake shore blvd. and superior st.</td>\n      <td>[43.61496169999999, -79.4886581]</td>\n      <td>43.614962</td>\n      <td>-79.488658</td>\n    </tr>\n    <tr>\n      <th>4</th>\n      <td>roncesvalles to neville park</td>\n      <td>[0.0, 0.0]</td>\n      <td>0.000000</td>\n      <td>0.000000</td>\n    </tr>\n  </tbody>\n</table>\n</div>", 
                        "text/plain": "                                    Location  \\\n0  dundas west stationt to broadview station   \n1                     fleet st. and strachan   \n2            queen st. west and roncesvalles   \n3          lake shore blvd. and superior st.   \n4               roncesvalles to neville park   \n\n                           lat_long   latitude  longitude  \n0                        [0.0, 0.0]   0.000000   0.000000  \n1         [43.6362976, -79.4096351]  43.636298 -79.409635  \n2  [43.64533489999999, -79.4131843]  43.645335 -79.413184  \n3  [43.61496169999999, -79.4886581]  43.614962 -79.488658  \n4                        [0.0, 0.0]   0.000000   0.000000  "
                    }, 
                    "output_type": "execute_result"
                }
            ], 
            "source": "# derive latitude and longitude columns from list column\n# df[\"new_col\"] = df[\"A\"].str[0]\ndf_unique[\"latitude\"] = df_unique[\"lat_long\"].str[0]\ndf_unique[\"longitude\"] = df_unique[\"lat_long\"].str[1]\ndf_unique.head()"
        }, 
        {
            "execution_count": 23, 
            "cell_type": "code", 
            "metadata": {}, 
            "outputs": [
                {
                    "execution_count": 23, 
                    "metadata": {}, 
                    "data": {
                        "text/plain": "(10074, 4)"
                    }, 
                    "output_type": "execute_result"
                }
            ], 
            "source": "df_unique.shape"
        }, 
        {
            "execution_count": 24, 
            "cell_type": "code", 
            "metadata": {}, 
            "outputs": [
                {
                    "execution_count": 24, 
                    "metadata": {}, 
                    "data": {
                        "text/html": "<div>\n<style scoped>\n    .dataframe tbody tr th:only-of-type {\n        vertical-align: middle;\n    }\n\n    .dataframe tbody tr th {\n        vertical-align: top;\n    }\n\n    .dataframe thead th {\n        text-align: right;\n    }\n</style>\n<table border=\"1\" class=\"dataframe\">\n  <thead>\n    <tr style=\"text-align: right;\">\n      <th></th>\n      <th>Report Date</th>\n      <th>Route</th>\n      <th>Time</th>\n      <th>Day</th>\n      <th>Location</th>\n      <th>Incident</th>\n      <th>Min Delay</th>\n      <th>Min Gap</th>\n      <th>Direction</th>\n      <th>Vehicle</th>\n      <th>Report Date Time</th>\n      <th>lat_long</th>\n      <th>latitude</th>\n      <th>longitude</th>\n    </tr>\n  </thead>\n  <tbody>\n    <tr>\n      <th>0</th>\n      <td>2016-01-01</td>\n      <td>505</td>\n      <td>00:00:00</td>\n      <td>Friday</td>\n      <td>dundas west stationt to broadview station</td>\n      <td>General Delay</td>\n      <td>7.0</td>\n      <td>14.0</td>\n      <td>w</td>\n      <td>4028</td>\n      <td>2016-01-01 00:00:00</td>\n      <td>[0.0, 0.0]</td>\n      <td>0.000000</td>\n      <td>0.000000</td>\n    </tr>\n    <tr>\n      <th>1</th>\n      <td>2016-01-01</td>\n      <td>511</td>\n      <td>02:14:00</td>\n      <td>Friday</td>\n      <td>fleet st. and strachan</td>\n      <td>Mechanical</td>\n      <td>10.0</td>\n      <td>20.0</td>\n      <td>e</td>\n      <td>4018</td>\n      <td>2016-01-01 02:14:00</td>\n      <td>[43.6362976, -79.4096351]</td>\n      <td>43.636298</td>\n      <td>-79.409635</td>\n    </tr>\n    <tr>\n      <th>2</th>\n      <td>2016-01-01</td>\n      <td>301</td>\n      <td>02:22:00</td>\n      <td>Friday</td>\n      <td>queen st. west and roncesvalles</td>\n      <td>Mechanical</td>\n      <td>9.0</td>\n      <td>18.0</td>\n      <td>w</td>\n      <td>4201</td>\n      <td>2016-01-01 02:22:00</td>\n      <td>[43.64533489999999, -79.4131843]</td>\n      <td>43.645335</td>\n      <td>-79.413184</td>\n    </tr>\n    <tr>\n      <th>3</th>\n      <td>2016-01-01</td>\n      <td>301</td>\n      <td>03:28:00</td>\n      <td>Friday</td>\n      <td>lake shore blvd. and superior st.</td>\n      <td>Mechanical</td>\n      <td>20.0</td>\n      <td>40.0</td>\n      <td>e</td>\n      <td>4251</td>\n      <td>2016-01-01 03:28:00</td>\n      <td>[43.61496169999999, -79.4886581]</td>\n      <td>43.614962</td>\n      <td>-79.488658</td>\n    </tr>\n    <tr>\n      <th>4</th>\n      <td>2016-01-01</td>\n      <td>501</td>\n      <td>14:28:00</td>\n      <td>Friday</td>\n      <td>roncesvalles to neville park</td>\n      <td>Mechanical</td>\n      <td>6.0</td>\n      <td>12.0</td>\n      <td>e</td>\n      <td>4242</td>\n      <td>2016-01-01 14:28:00</td>\n      <td>[0.0, 0.0]</td>\n      <td>0.000000</td>\n      <td>0.000000</td>\n    </tr>\n  </tbody>\n</table>\n</div>", 
                        "text/plain": "  Report Date Route      Time     Day  \\\n0  2016-01-01   505  00:00:00  Friday   \n1  2016-01-01   511  02:14:00  Friday   \n2  2016-01-01   301  02:22:00  Friday   \n3  2016-01-01   301  03:28:00  Friday   \n4  2016-01-01   501  14:28:00  Friday   \n\n                                    Location       Incident  Min Delay  \\\n0  dundas west stationt to broadview station  General Delay        7.0   \n1                     fleet st. and strachan     Mechanical       10.0   \n2            queen st. west and roncesvalles     Mechanical        9.0   \n3          lake shore blvd. and superior st.     Mechanical       20.0   \n4               roncesvalles to neville park     Mechanical        6.0   \n\n   Min Gap Direction Vehicle    Report Date Time  \\\n0     14.0         w    4028 2016-01-01 00:00:00   \n1     20.0         e    4018 2016-01-01 02:14:00   \n2     18.0         w    4201 2016-01-01 02:22:00   \n3     40.0         e    4251 2016-01-01 03:28:00   \n4     12.0         e    4242 2016-01-01 14:28:00   \n\n                           lat_long   latitude  longitude  \n0                        [0.0, 0.0]   0.000000   0.000000  \n1         [43.6362976, -79.4096351]  43.636298 -79.409635  \n2  [43.64533489999999, -79.4131843]  43.645335 -79.413184  \n3  [43.61496169999999, -79.4886581]  43.614962 -79.488658  \n4                        [0.0, 0.0]   0.000000   0.000000  "
                    }, 
                    "output_type": "execute_result"
                }
            ], 
            "source": "# join df_unique dataframe with original df dataframe on Location column to get latitude and longitude cols in original df dataframe\n# result1 = pd.merge(date_frame, routedirection_frame, on='count', how='outer')\ndf_out = pd.merge(df, df_unique, on=\"Location\", how='left')\ndf_out.head()"
        }, 
        {
            "execution_count": 30, 
            "cell_type": "code", 
            "metadata": {}, 
            "outputs": [
                {
                    "execution_count": 30, 
                    "metadata": {}, 
                    "data": {
                        "text/html": "<div>\n<style scoped>\n    .dataframe tbody tr th:only-of-type {\n        vertical-align: middle;\n    }\n\n    .dataframe tbody tr th {\n        vertical-align: top;\n    }\n\n    .dataframe thead th {\n        text-align: right;\n    }\n</style>\n<table border=\"1\" class=\"dataframe\">\n  <thead>\n    <tr style=\"text-align: right;\">\n      <th></th>\n      <th>Report Date</th>\n      <th>Route</th>\n      <th>Time</th>\n      <th>Day</th>\n      <th>Location</th>\n      <th>Incident</th>\n      <th>Min Delay</th>\n      <th>Min Gap</th>\n      <th>Direction</th>\n      <th>Vehicle</th>\n      <th>Report Date Time</th>\n      <th>lat_long</th>\n      <th>latitude</th>\n      <th>longitude</th>\n    </tr>\n  </thead>\n  <tbody>\n    <tr>\n      <th>0</th>\n      <td>2016-01-01</td>\n      <td>505</td>\n      <td>00:00:00</td>\n      <td>Friday</td>\n      <td>dundas west stationt to broadview station</td>\n      <td>General Delay</td>\n      <td>7.0</td>\n      <td>14.0</td>\n      <td>w</td>\n      <td>4028</td>\n      <td>2016-01-01 00:00:00</td>\n      <td>[0.0, 0.0]</td>\n      <td>0.000000</td>\n      <td>0.000000</td>\n    </tr>\n    <tr>\n      <th>1</th>\n      <td>2016-01-01</td>\n      <td>511</td>\n      <td>02:14:00</td>\n      <td>Friday</td>\n      <td>fleet st. and strachan</td>\n      <td>Mechanical</td>\n      <td>10.0</td>\n      <td>20.0</td>\n      <td>e</td>\n      <td>4018</td>\n      <td>2016-01-01 02:14:00</td>\n      <td>[43.6362976, -79.4096351]</td>\n      <td>43.636298</td>\n      <td>-79.409635</td>\n    </tr>\n    <tr>\n      <th>2</th>\n      <td>2016-01-01</td>\n      <td>301</td>\n      <td>02:22:00</td>\n      <td>Friday</td>\n      <td>queen st. west and roncesvalles</td>\n      <td>Mechanical</td>\n      <td>9.0</td>\n      <td>18.0</td>\n      <td>w</td>\n      <td>4201</td>\n      <td>2016-01-01 02:22:00</td>\n      <td>[43.64533489999999, -79.4131843]</td>\n      <td>43.645335</td>\n      <td>-79.413184</td>\n    </tr>\n    <tr>\n      <th>3</th>\n      <td>2016-01-01</td>\n      <td>301</td>\n      <td>03:28:00</td>\n      <td>Friday</td>\n      <td>lake shore blvd. and superior st.</td>\n      <td>Mechanical</td>\n      <td>20.0</td>\n      <td>40.0</td>\n      <td>e</td>\n      <td>4251</td>\n      <td>2016-01-01 03:28:00</td>\n      <td>[43.61496169999999, -79.4886581]</td>\n      <td>43.614962</td>\n      <td>-79.488658</td>\n    </tr>\n    <tr>\n      <th>4</th>\n      <td>2016-01-01</td>\n      <td>501</td>\n      <td>14:28:00</td>\n      <td>Friday</td>\n      <td>roncesvalles to neville park</td>\n      <td>Mechanical</td>\n      <td>6.0</td>\n      <td>12.0</td>\n      <td>e</td>\n      <td>4242</td>\n      <td>2016-01-01 14:28:00</td>\n      <td>[0.0, 0.0]</td>\n      <td>0.000000</td>\n      <td>0.000000</td>\n    </tr>\n    <tr>\n      <th>5</th>\n      <td>2016-01-01</td>\n      <td>505</td>\n      <td>15:42:00</td>\n      <td>Friday</td>\n      <td>broadview station loop</td>\n      <td>Investigation</td>\n      <td>4.0</td>\n      <td>10.0</td>\n      <td>w</td>\n      <td>4187</td>\n      <td>2016-01-01 15:42:00</td>\n      <td>[43.677135, -79.35820799999999]</td>\n      <td>43.677135</td>\n      <td>-79.358208</td>\n    </tr>\n    <tr>\n      <th>6</th>\n      <td>2016-01-01</td>\n      <td>504</td>\n      <td>15:54:00</td>\n      <td>Friday</td>\n      <td>broadview and queen</td>\n      <td>Mechanical</td>\n      <td>6.0</td>\n      <td>12.0</td>\n      <td>e</td>\n      <td>4181</td>\n      <td>2016-01-01 15:54:00</td>\n      <td>[43.6593626, -79.34769709999999]</td>\n      <td>43.659363</td>\n      <td>-79.347697</td>\n    </tr>\n    <tr>\n      <th>7</th>\n      <td>2016-01-01</td>\n      <td>501</td>\n      <td>16:05:00</td>\n      <td>Friday</td>\n      <td>roncesvalles to humber loop</td>\n      <td>Mechanical</td>\n      <td>6.0</td>\n      <td>12.0</td>\n      <td>w</td>\n      <td>4245</td>\n      <td>2016-01-01 16:05:00</td>\n      <td>[0.0, 0.0]</td>\n      <td>0.000000</td>\n      <td>0.000000</td>\n    </tr>\n    <tr>\n      <th>8</th>\n      <td>2016-01-01</td>\n      <td>506</td>\n      <td>16:27:00</td>\n      <td>Friday</td>\n      <td>main station</td>\n      <td>Mechanical</td>\n      <td>8.0</td>\n      <td>16.0</td>\n      <td>w</td>\n      <td>4092</td>\n      <td>2016-01-01 16:27:00</td>\n      <td>[43.6890219, -79.3016857]</td>\n      <td>43.689022</td>\n      <td>-79.301686</td>\n    </tr>\n    <tr>\n      <th>9</th>\n      <td>2016-01-01</td>\n      <td>510</td>\n      <td>16:34:00</td>\n      <td>Friday</td>\n      <td>richmond st. and spadina</td>\n      <td>Diversion</td>\n      <td>41.0</td>\n      <td>46.0</td>\n      <td>s</td>\n      <td>bad vehicle</td>\n      <td>2016-01-01 16:34:00</td>\n      <td>[43.6478469, -79.39588049999999]</td>\n      <td>43.647847</td>\n      <td>-79.395880</td>\n    </tr>\n    <tr>\n      <th>10</th>\n      <td>2016-01-01</td>\n      <td>501</td>\n      <td>16:44:00</td>\n      <td>Friday</td>\n      <td>roncesvalles to humber</td>\n      <td>Mechanical</td>\n      <td>6.0</td>\n      <td>12.0</td>\n      <td>w</td>\n      <td>4220</td>\n      <td>2016-01-01 16:44:00</td>\n      <td>[0.0, 0.0]</td>\n      <td>0.000000</td>\n      <td>0.000000</td>\n    </tr>\n    <tr>\n      <th>11</th>\n      <td>2016-01-01</td>\n      <td>505</td>\n      <td>17:36:00</td>\n      <td>Friday</td>\n      <td>dundas st. west and huron st.</td>\n      <td>Held By</td>\n      <td>7.0</td>\n      <td>13.0</td>\n      <td>w</td>\n      <td>4039</td>\n      <td>2016-01-01 17:36:00</td>\n      <td>[43.653332, -79.3961386]</td>\n      <td>43.653332</td>\n      <td>-79.396139</td>\n    </tr>\n    <tr>\n      <th>12</th>\n      <td>2016-01-01</td>\n      <td>506</td>\n      <td>19:15:00</td>\n      <td>Friday</td>\n      <td>bathurst and college</td>\n      <td>Utilized Off Route</td>\n      <td>7.0</td>\n      <td>14.0</td>\n      <td>w</td>\n      <td>4095</td>\n      <td>2016-01-01 19:15:00</td>\n      <td>[43.6564647, -79.4077012]</td>\n      <td>43.656465</td>\n      <td>-79.407701</td>\n    </tr>\n    <tr>\n      <th>13</th>\n      <td>2016-01-01</td>\n      <td>509</td>\n      <td>21:25:00</td>\n      <td>Friday</td>\n      <td>cne loop</td>\n      <td>Mechanical</td>\n      <td>10.0</td>\n      <td>20.0</td>\n      <td>e</td>\n      <td>4406</td>\n      <td>2016-01-01 21:25:00</td>\n      <td>[43.63441590000001, -79.4258807]</td>\n      <td>43.634416</td>\n      <td>-79.425881</td>\n    </tr>\n    <tr>\n      <th>14</th>\n      <td>2016-01-01</td>\n      <td>511</td>\n      <td>22:54:00</td>\n      <td>Friday</td>\n      <td>bathurst and wellington</td>\n      <td>Held By</td>\n      <td>16.0</td>\n      <td>24.0</td>\n      <td>b</td>\n      <td>4095</td>\n      <td>2016-01-01 22:54:00</td>\n      <td>[43.6426297, -79.4021618]</td>\n      <td>43.642630</td>\n      <td>-79.402162</td>\n    </tr>\n    <tr>\n      <th>15</th>\n      <td>2016-01-01</td>\n      <td>510</td>\n      <td>23:58:00</td>\n      <td>Friday</td>\n      <td>queen quay loop and spadina</td>\n      <td>Mechanical</td>\n      <td>6.0</td>\n      <td>13.0</td>\n      <td>n</td>\n      <td>4132</td>\n      <td>2016-01-01 23:58:00</td>\n      <td>[43.6384598, -79.3916564]</td>\n      <td>43.638460</td>\n      <td>-79.391656</td>\n    </tr>\n    <tr>\n      <th>16</th>\n      <td>2016-01-02</td>\n      <td>501</td>\n      <td>01:00:00</td>\n      <td>Saturday</td>\n      <td>roncesvallesue and the queensway</td>\n      <td>Mechanical</td>\n      <td>10.0</td>\n      <td>20.0</td>\n      <td>e</td>\n      <td>4223</td>\n      <td>2016-01-02 01:00:00</td>\n      <td>[43.63878890000001, -79.446111]</td>\n      <td>43.638789</td>\n      <td>-79.446111</td>\n    </tr>\n    <tr>\n      <th>17</th>\n      <td>2016-01-02</td>\n      <td>501</td>\n      <td>06:01:00</td>\n      <td>Saturday</td>\n      <td>queen and roncevalles</td>\n      <td>Mechanical</td>\n      <td>4.0</td>\n      <td>30.0</td>\n      <td>e</td>\n      <td>4247</td>\n      <td>2016-01-02 06:01:00</td>\n      <td>[43.64533489999999, -79.4131843]</td>\n      <td>43.645335</td>\n      <td>-79.413184</td>\n    </tr>\n    <tr>\n      <th>18</th>\n      <td>2016-01-02</td>\n      <td>504</td>\n      <td>06:51:00</td>\n      <td>Saturday</td>\n      <td>king and spadina</td>\n      <td>Mechanical</td>\n      <td>32.0</td>\n      <td>36.0</td>\n      <td>w</td>\n      <td>4186</td>\n      <td>2016-01-02 06:51:00</td>\n      <td>[43.6454419, -79.3951458]</td>\n      <td>43.645442</td>\n      <td>-79.395146</td>\n    </tr>\n    <tr>\n      <th>19</th>\n      <td>2016-01-02</td>\n      <td>504</td>\n      <td>06:55:00</td>\n      <td>Saturday</td>\n      <td>king and spadina</td>\n      <td>Mechanical</td>\n      <td>28.0</td>\n      <td>32.0</td>\n      <td>w</td>\n      <td>4154</td>\n      <td>2016-01-02 06:55:00</td>\n      <td>[43.6454419, -79.3951458]</td>\n      <td>43.645442</td>\n      <td>-79.395146</td>\n    </tr>\n    <tr>\n      <th>20</th>\n      <td>2016-01-02</td>\n      <td>501</td>\n      <td>08:04:00</td>\n      <td>Saturday</td>\n      <td>humber loop</td>\n      <td>Mechanical</td>\n      <td>8.0</td>\n      <td>15.0</td>\n      <td>e</td>\n      <td>4208</td>\n      <td>2016-01-02 08:04:00</td>\n      <td>[43.63079099999999, -79.478622]</td>\n      <td>43.630791</td>\n      <td>-79.478622</td>\n    </tr>\n    <tr>\n      <th>21</th>\n      <td>2016-01-02</td>\n      <td>512</td>\n      <td>08:12:00</td>\n      <td>Saturday</td>\n      <td>deer park cr and st clair</td>\n      <td>Mechanical</td>\n      <td>9.0</td>\n      <td>18.0</td>\n      <td>w</td>\n      <td>4040</td>\n      <td>2016-01-02 08:12:00</td>\n      <td>[43.6872125, -79.3980108]</td>\n      <td>43.687213</td>\n      <td>-79.398011</td>\n    </tr>\n    <tr>\n      <th>22</th>\n      <td>2016-01-02</td>\n      <td>506</td>\n      <td>08:45:00</td>\n      <td>Saturday</td>\n      <td>coxwell and gerrard</td>\n      <td>Mechanical</td>\n      <td>8.0</td>\n      <td>15.0</td>\n      <td>w</td>\n      <td>4055</td>\n      <td>2016-01-02 08:45:00</td>\n      <td>[43.6753569, -79.32028249999999]</td>\n      <td>43.675357</td>\n      <td>-79.320282</td>\n    </tr>\n    <tr>\n      <th>23</th>\n      <td>2016-01-02</td>\n      <td>506</td>\n      <td>12:26:00</td>\n      <td>Saturday</td>\n      <td>coxwell and gerrard</td>\n      <td>Mechanical</td>\n      <td>6.0</td>\n      <td>11.0</td>\n      <td>e</td>\n      <td>4125</td>\n      <td>2016-01-02 12:26:00</td>\n      <td>[43.6753569, -79.32028249999999]</td>\n      <td>43.675357</td>\n      <td>-79.320282</td>\n    </tr>\n    <tr>\n      <th>24</th>\n      <td>2016-01-02</td>\n      <td>504</td>\n      <td>13:00:00</td>\n      <td>Saturday</td>\n      <td>john-spadina</td>\n      <td>General Delay</td>\n      <td>10.0</td>\n      <td>14.0</td>\n      <td>w</td>\n      <td>bad vehicle</td>\n      <td>2016-01-02 13:00:00</td>\n      <td>[43.659681, -79.40069810000001]</td>\n      <td>43.659681</td>\n      <td>-79.400698</td>\n    </tr>\n    <tr>\n      <th>25</th>\n      <td>2016-01-02</td>\n      <td>506</td>\n      <td>19:24:00</td>\n      <td>Saturday</td>\n      <td>ashdale and gerrard</td>\n      <td>Mechanical</td>\n      <td>23.0</td>\n      <td>29.0</td>\n      <td>e</td>\n      <td>4042</td>\n      <td>2016-01-02 19:24:00</td>\n      <td>[43.6723671, -79.32211559999999]</td>\n      <td>43.672367</td>\n      <td>-79.322116</td>\n    </tr>\n    <tr>\n      <th>26</th>\n      <td>2016-01-02</td>\n      <td>510</td>\n      <td>19:39:00</td>\n      <td>Saturday</td>\n      <td>spadina north of college</td>\n      <td>Investigation</td>\n      <td>66.0</td>\n      <td>12.0</td>\n      <td>n</td>\n      <td>4124</td>\n      <td>2016-01-02 19:39:00</td>\n      <td>[43.6579365, -79.3999151]</td>\n      <td>43.657936</td>\n      <td>-79.399915</td>\n    </tr>\n    <tr>\n      <th>27</th>\n      <td>2016-01-02</td>\n      <td>501</td>\n      <td>19:50:00</td>\n      <td>Saturday</td>\n      <td>abell and queen</td>\n      <td>Mechanical</td>\n      <td>7.0</td>\n      <td>15.0</td>\n      <td>e</td>\n      <td>4237</td>\n      <td>2016-01-02 19:50:00</td>\n      <td>[43.6430758, -79.4243556]</td>\n      <td>43.643076</td>\n      <td>-79.424356</td>\n    </tr>\n    <tr>\n      <th>28</th>\n      <td>2016-01-02</td>\n      <td>504</td>\n      <td>22:00:00</td>\n      <td>Saturday</td>\n      <td>jameson and king</td>\n      <td>Investigation</td>\n      <td>26.0</td>\n      <td>34.0</td>\n      <td>w</td>\n      <td>4187</td>\n      <td>2016-01-02 22:00:00</td>\n      <td>[43.6372723, -79.4358608]</td>\n      <td>43.637272</td>\n      <td>-79.435861</td>\n    </tr>\n    <tr>\n      <th>29</th>\n      <td>2016-01-02</td>\n      <td>501</td>\n      <td>22:50:00</td>\n      <td>Saturday</td>\n      <td>queen street and roncesvalles</td>\n      <td>Mechanical</td>\n      <td>9.0</td>\n      <td>18.0</td>\n      <td>w</td>\n      <td>4207</td>\n      <td>2016-01-02 22:50:00</td>\n      <td>[43.6390997, -79.4451902]</td>\n      <td>43.639100</td>\n      <td>-79.445190</td>\n    </tr>\n  </tbody>\n</table>\n</div>", 
                        "text/plain": "   Report Date Route      Time       Day  \\\n0   2016-01-01   505  00:00:00    Friday   \n1   2016-01-01   511  02:14:00    Friday   \n2   2016-01-01   301  02:22:00    Friday   \n3   2016-01-01   301  03:28:00    Friday   \n4   2016-01-01   501  14:28:00    Friday   \n5   2016-01-01   505  15:42:00    Friday   \n6   2016-01-01   504  15:54:00    Friday   \n7   2016-01-01   501  16:05:00    Friday   \n8   2016-01-01   506  16:27:00    Friday   \n9   2016-01-01   510  16:34:00    Friday   \n10  2016-01-01   501  16:44:00    Friday   \n11  2016-01-01   505  17:36:00    Friday   \n12  2016-01-01   506  19:15:00    Friday   \n13  2016-01-01   509  21:25:00    Friday   \n14  2016-01-01   511  22:54:00    Friday   \n15  2016-01-01   510  23:58:00    Friday   \n16  2016-01-02   501  01:00:00  Saturday   \n17  2016-01-02   501  06:01:00  Saturday   \n18  2016-01-02   504  06:51:00  Saturday   \n19  2016-01-02   504  06:55:00  Saturday   \n20  2016-01-02   501  08:04:00  Saturday   \n21  2016-01-02   512  08:12:00  Saturday   \n22  2016-01-02   506  08:45:00  Saturday   \n23  2016-01-02   506  12:26:00  Saturday   \n24  2016-01-02   504  13:00:00  Saturday   \n25  2016-01-02   506  19:24:00  Saturday   \n26  2016-01-02   510  19:39:00  Saturday   \n27  2016-01-02   501  19:50:00  Saturday   \n28  2016-01-02   504  22:00:00  Saturday   \n29  2016-01-02   501  22:50:00  Saturday   \n\n                                     Location            Incident  Min Delay  \\\n0   dundas west stationt to broadview station       General Delay        7.0   \n1                      fleet st. and strachan          Mechanical       10.0   \n2             queen st. west and roncesvalles          Mechanical        9.0   \n3           lake shore blvd. and superior st.          Mechanical       20.0   \n4                roncesvalles to neville park          Mechanical        6.0   \n5                      broadview station loop       Investigation        4.0   \n6                         broadview and queen          Mechanical        6.0   \n7                 roncesvalles to humber loop          Mechanical        6.0   \n8                                main station          Mechanical        8.0   \n9                    richmond st. and spadina           Diversion       41.0   \n10                     roncesvalles to humber          Mechanical        6.0   \n11              dundas st. west and huron st.             Held By        7.0   \n12                       bathurst and college  Utilized Off Route        7.0   \n13                                   cne loop          Mechanical       10.0   \n14                    bathurst and wellington             Held By       16.0   \n15                queen quay loop and spadina          Mechanical        6.0   \n16           roncesvallesue and the queensway          Mechanical       10.0   \n17                      queen and roncevalles          Mechanical        4.0   \n18                           king and spadina          Mechanical       32.0   \n19                           king and spadina          Mechanical       28.0   \n20                                humber loop          Mechanical        8.0   \n21                  deer park cr and st clair          Mechanical        9.0   \n22                        coxwell and gerrard          Mechanical        8.0   \n23                        coxwell and gerrard          Mechanical        6.0   \n24                               john-spadina       General Delay       10.0   \n25                        ashdale and gerrard          Mechanical       23.0   \n26                   spadina north of college       Investigation       66.0   \n27                            abell and queen          Mechanical        7.0   \n28                           jameson and king       Investigation       26.0   \n29              queen street and roncesvalles          Mechanical        9.0   \n\n    Min Gap Direction      Vehicle    Report Date Time  \\\n0      14.0         w         4028 2016-01-01 00:00:00   \n1      20.0         e         4018 2016-01-01 02:14:00   \n2      18.0         w         4201 2016-01-01 02:22:00   \n3      40.0         e         4251 2016-01-01 03:28:00   \n4      12.0         e         4242 2016-01-01 14:28:00   \n5      10.0         w         4187 2016-01-01 15:42:00   \n6      12.0         e         4181 2016-01-01 15:54:00   \n7      12.0         w         4245 2016-01-01 16:05:00   \n8      16.0         w         4092 2016-01-01 16:27:00   \n9      46.0         s  bad vehicle 2016-01-01 16:34:00   \n10     12.0         w         4220 2016-01-01 16:44:00   \n11     13.0         w         4039 2016-01-01 17:36:00   \n12     14.0         w         4095 2016-01-01 19:15:00   \n13     20.0         e         4406 2016-01-01 21:25:00   \n14     24.0         b         4095 2016-01-01 22:54:00   \n15     13.0         n         4132 2016-01-01 23:58:00   \n16     20.0         e         4223 2016-01-02 01:00:00   \n17     30.0         e         4247 2016-01-02 06:01:00   \n18     36.0         w         4186 2016-01-02 06:51:00   \n19     32.0         w         4154 2016-01-02 06:55:00   \n20     15.0         e         4208 2016-01-02 08:04:00   \n21     18.0         w         4040 2016-01-02 08:12:00   \n22     15.0         w         4055 2016-01-02 08:45:00   \n23     11.0         e         4125 2016-01-02 12:26:00   \n24     14.0         w  bad vehicle 2016-01-02 13:00:00   \n25     29.0         e         4042 2016-01-02 19:24:00   \n26     12.0         n         4124 2016-01-02 19:39:00   \n27     15.0         e         4237 2016-01-02 19:50:00   \n28     34.0         w         4187 2016-01-02 22:00:00   \n29     18.0         w         4207 2016-01-02 22:50:00   \n\n                            lat_long   latitude  longitude  \n0                         [0.0, 0.0]   0.000000   0.000000  \n1          [43.6362976, -79.4096351]  43.636298 -79.409635  \n2   [43.64533489999999, -79.4131843]  43.645335 -79.413184  \n3   [43.61496169999999, -79.4886581]  43.614962 -79.488658  \n4                         [0.0, 0.0]   0.000000   0.000000  \n5    [43.677135, -79.35820799999999]  43.677135 -79.358208  \n6   [43.6593626, -79.34769709999999]  43.659363 -79.347697  \n7                         [0.0, 0.0]   0.000000   0.000000  \n8          [43.6890219, -79.3016857]  43.689022 -79.301686  \n9   [43.6478469, -79.39588049999999]  43.647847 -79.395880  \n10                        [0.0, 0.0]   0.000000   0.000000  \n11          [43.653332, -79.3961386]  43.653332 -79.396139  \n12         [43.6564647, -79.4077012]  43.656465 -79.407701  \n13  [43.63441590000001, -79.4258807]  43.634416 -79.425881  \n14         [43.6426297, -79.4021618]  43.642630 -79.402162  \n15         [43.6384598, -79.3916564]  43.638460 -79.391656  \n16   [43.63878890000001, -79.446111]  43.638789 -79.446111  \n17  [43.64533489999999, -79.4131843]  43.645335 -79.413184  \n18         [43.6454419, -79.3951458]  43.645442 -79.395146  \n19         [43.6454419, -79.3951458]  43.645442 -79.395146  \n20   [43.63079099999999, -79.478622]  43.630791 -79.478622  \n21         [43.6872125, -79.3980108]  43.687213 -79.398011  \n22  [43.6753569, -79.32028249999999]  43.675357 -79.320282  \n23  [43.6753569, -79.32028249999999]  43.675357 -79.320282  \n24   [43.659681, -79.40069810000001]  43.659681 -79.400698  \n25  [43.6723671, -79.32211559999999]  43.672367 -79.322116  \n26         [43.6579365, -79.3999151]  43.657936 -79.399915  \n27         [43.6430758, -79.4243556]  43.643076 -79.424356  \n28         [43.6372723, -79.4358608]  43.637272 -79.435861  \n29         [43.6390997, -79.4451902]  43.639100 -79.445190  "
                    }, 
                    "output_type": "execute_result"
                }
            ], 
            "source": "df_out.head(30)"
        }, 
        {
            "execution_count": 25, 
            "cell_type": "code", 
            "metadata": {}, 
            "outputs": [
                {
                    "execution_count": 25, 
                    "metadata": {}, 
                    "data": {
                        "text/plain": "(69603, 14)"
                    }, 
                    "output_type": "execute_result"
                }
            ], 
            "source": "df_out.shape"
        }, 
        {
            "execution_count": 32, 
            "cell_type": "code", 
            "metadata": {}, 
            "outputs": [
                {
                    "output_type": "stream", 
                    "name": "stdout", 
                    "text": "Bad route latitude: 1675\n"
                }
            ], 
            "source": "print(\"Bad route latitude:\",df_out[df_out.latitude == 0.0].shape[0])"
        }, 
        {
            "execution_count": 26, 
            "cell_type": "code", 
            "metadata": {}, 
            "outputs": [
                {
                    "execution_count": 26, 
                    "metadata": {}, 
                    "data": {
                        "text/plain": "'2014_2018_df_cleaned_keep_bad_loc_geocoded_apr23.pkl'"
                    }, 
                    "output_type": "execute_result"
                }
            ], 
            "source": "pickled_output_dataframe"
        }, 
        {
            "execution_count": 27, 
            "cell_type": "code", 
            "metadata": {}, 
            "outputs": [], 
            "source": "# pickle the cleansed dataframe\nfile_name = path + pickled_output_dataframe\ndf_out.to_pickle(file_name)"
        }, 
        {
            "execution_count": 28, 
            "cell_type": "code", 
            "metadata": {}, 
            "outputs": [
                {
                    "execution_count": 28, 
                    "metadata": {}, 
                    "data": {
                        "text/html": "<div>\n<style scoped>\n    .dataframe tbody tr th:only-of-type {\n        vertical-align: middle;\n    }\n\n    .dataframe tbody tr th {\n        vertical-align: top;\n    }\n\n    .dataframe thead th {\n        text-align: right;\n    }\n</style>\n<table border=\"1\" class=\"dataframe\">\n  <thead>\n    <tr style=\"text-align: right;\">\n      <th></th>\n      <th>Report Date</th>\n      <th>Route</th>\n      <th>Time</th>\n      <th>Day</th>\n      <th>Location</th>\n      <th>Incident</th>\n      <th>Min Delay</th>\n      <th>Min Gap</th>\n      <th>Direction</th>\n      <th>Vehicle</th>\n      <th>Report Date Time</th>\n      <th>lat_long</th>\n      <th>latitude</th>\n      <th>longitude</th>\n    </tr>\n  </thead>\n  <tbody>\n    <tr>\n      <th>0</th>\n      <td>2016-01-01</td>\n      <td>505</td>\n      <td>00:00:00</td>\n      <td>Friday</td>\n      <td>dundas west stationt to broadview station</td>\n      <td>General Delay</td>\n      <td>7.0</td>\n      <td>14.0</td>\n      <td>w</td>\n      <td>4028</td>\n      <td>2016-01-01 00:00:00</td>\n      <td>[0.0, 0.0]</td>\n      <td>0.000000</td>\n      <td>0.000000</td>\n    </tr>\n    <tr>\n      <th>1</th>\n      <td>2016-01-01</td>\n      <td>511</td>\n      <td>02:14:00</td>\n      <td>Friday</td>\n      <td>fleet st. and strachan</td>\n      <td>Mechanical</td>\n      <td>10.0</td>\n      <td>20.0</td>\n      <td>e</td>\n      <td>4018</td>\n      <td>2016-01-01 02:14:00</td>\n      <td>[43.6362976, -79.4096351]</td>\n      <td>43.636298</td>\n      <td>-79.409635</td>\n    </tr>\n    <tr>\n      <th>2</th>\n      <td>2016-01-01</td>\n      <td>301</td>\n      <td>02:22:00</td>\n      <td>Friday</td>\n      <td>queen st. west and roncesvalles</td>\n      <td>Mechanical</td>\n      <td>9.0</td>\n      <td>18.0</td>\n      <td>w</td>\n      <td>4201</td>\n      <td>2016-01-01 02:22:00</td>\n      <td>[43.64533489999999, -79.4131843]</td>\n      <td>43.645335</td>\n      <td>-79.413184</td>\n    </tr>\n    <tr>\n      <th>3</th>\n      <td>2016-01-01</td>\n      <td>301</td>\n      <td>03:28:00</td>\n      <td>Friday</td>\n      <td>lake shore blvd. and superior st.</td>\n      <td>Mechanical</td>\n      <td>20.0</td>\n      <td>40.0</td>\n      <td>e</td>\n      <td>4251</td>\n      <td>2016-01-01 03:28:00</td>\n      <td>[43.61496169999999, -79.4886581]</td>\n      <td>43.614962</td>\n      <td>-79.488658</td>\n    </tr>\n    <tr>\n      <th>4</th>\n      <td>2016-01-01</td>\n      <td>501</td>\n      <td>14:28:00</td>\n      <td>Friday</td>\n      <td>roncesvalles to neville park</td>\n      <td>Mechanical</td>\n      <td>6.0</td>\n      <td>12.0</td>\n      <td>e</td>\n      <td>4242</td>\n      <td>2016-01-01 14:28:00</td>\n      <td>[0.0, 0.0]</td>\n      <td>0.000000</td>\n      <td>0.000000</td>\n    </tr>\n  </tbody>\n</table>\n</div>", 
                        "text/plain": "  Report Date Route      Time     Day  \\\n0  2016-01-01   505  00:00:00  Friday   \n1  2016-01-01   511  02:14:00  Friday   \n2  2016-01-01   301  02:22:00  Friday   \n3  2016-01-01   301  03:28:00  Friday   \n4  2016-01-01   501  14:28:00  Friday   \n\n                                    Location       Incident  Min Delay  \\\n0  dundas west stationt to broadview station  General Delay        7.0   \n1                     fleet st. and strachan     Mechanical       10.0   \n2            queen st. west and roncesvalles     Mechanical        9.0   \n3          lake shore blvd. and superior st.     Mechanical       20.0   \n4               roncesvalles to neville park     Mechanical        6.0   \n\n   Min Gap Direction Vehicle    Report Date Time  \\\n0     14.0         w    4028 2016-01-01 00:00:00   \n1     20.0         e    4018 2016-01-01 02:14:00   \n2     18.0         w    4201 2016-01-01 02:22:00   \n3     40.0         e    4251 2016-01-01 03:28:00   \n4     12.0         e    4242 2016-01-01 14:28:00   \n\n                           lat_long   latitude  longitude  \n0                        [0.0, 0.0]   0.000000   0.000000  \n1         [43.6362976, -79.4096351]  43.636298 -79.409635  \n2  [43.64533489999999, -79.4131843]  43.645335 -79.413184  \n3  [43.61496169999999, -79.4886581]  43.614962 -79.488658  \n4                        [0.0, 0.0]   0.000000   0.000000  "
                    }, 
                    "output_type": "execute_result"
                }
            ], 
            "source": "dfn = pd.read_pickle(file_name)\ndfn.head()"
        }, 
        {
            "execution_count": 29, 
            "cell_type": "code", 
            "metadata": {}, 
            "outputs": [
                {
                    "execution_count": 29, 
                    "metadata": {}, 
                    "data": {
                        "text/plain": "(69603, 14)"
                    }, 
                    "output_type": "execute_result"
                }
            ], 
            "source": "dfn.shape"
        }
    ], 
    "metadata": {
        "kernelspec": {
            "display_name": "Python 3.5", 
            "name": "python3", 
            "language": "python"
        }, 
        "language_info": {
            "mimetype": "text/x-python", 
            "nbconvert_exporter": "python", 
            "version": "3.5.5", 
            "name": "python", 
            "file_extension": ".py", 
            "pygments_lexer": "ipython3", 
            "codemirror_mode": {
                "version": 3, 
                "name": "ipython"
            }
        }
    }, 
    "nbformat": 4
}