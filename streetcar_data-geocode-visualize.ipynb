{
 "cells": [
  {
   "cell_type": "markdown",
   "metadata": {},
   "source": [
    "# Streetcar Delay Prediction - Geocode Visualization\n",
    "\n",
    "Use dataset covering Toronto Transit Commission (TTC) streetcar delays 2014 - present to predict future delays and come up with recommendations for avoiding delays.\n",
    "\n",
    "Source dataset: : https://www.toronto.ca/city-government/data-research-maps/open-data/open-data-catalogue/#e8f359f0-2f47-3058-bf64-6ec488de52da\n",
    "\n",
    "This notebook contains the steps for a simple visualization of the cleaned and geocoded version of this dataset."
   ]
  },
  {
   "cell_type": "markdown",
   "metadata": {},
   "source": [
    "# Streetcar routes\n",
    "\n",
    "From https://www.ttc.ca/PDF/Maps/TTC_StreetcarMap.pdf\n",
    "\n",
    "<table style=\"border: none\" align=\"left\">\n",
    "   </tr>\n",
    "   <tr style=\"border: none\">\n",
    "       <th style=\"border: none\"><img src=\"https://raw.githubusercontent.com/ryanmark1867/manning/master/ttc_sc_map.jpg\" width=\"900\" alt=\"Icon\"> </th>\n",
    "   </tr>\n",
    "</table>\n"
   ]
  },
  {
   "cell_type": "markdown",
   "metadata": {},
   "source": [
    "# Load libraries"
   ]
  },
  {
   "cell_type": "code",
   "execution_count": 32,
   "metadata": {},
   "outputs": [],
   "source": [
    "import numpy as np # linear algebra\n",
    "import pandas as pd # data processing, CSV file I/O (e.g. pd.read_csv)\n",
    "import matplotlib.pyplot as plt\n",
    "# import seaborn as sns\n",
    "import datetime\n",
    "import os\n",
    "\n",
    "remove_bad_values = False\n",
    "city_name = 'Toronto'\n"
   ]
  },
  {
   "cell_type": "code",
   "execution_count": 18,
   "metadata": {},
   "outputs": [
    {
     "name": "stdout",
     "output_type": "stream",
     "text": [
      "Requirement already satisfied: pixiedust in /opt/conda/envs/fastai/lib/python3.6/site-packages (1.1.15)\n",
      "Requirement already satisfied: astunparse in /opt/conda/envs/fastai/lib/python3.6/site-packages (from pixiedust) (1.6.2)\n",
      "Requirement already satisfied: colour in /opt/conda/envs/fastai/lib/python3.6/site-packages (from pixiedust) (0.1.5)\n",
      "Requirement already satisfied: geojson in /opt/conda/envs/fastai/lib/python3.6/site-packages (from pixiedust) (2.4.1)\n",
      "Requirement already satisfied: requests in /opt/conda/envs/fastai/lib/python3.6/site-packages (from pixiedust) (2.21.0)\n",
      "Requirement already satisfied: lxml in /opt/conda/envs/fastai/lib/python3.6/site-packages (from pixiedust) (4.3.2)\n",
      "Requirement already satisfied: markdown in /opt/conda/envs/fastai/lib/python3.6/site-packages (from pixiedust) (3.0.1)\n",
      "Requirement already satisfied: mpld3 in /opt/conda/envs/fastai/lib/python3.6/site-packages (from pixiedust) (0.3)\n",
      "Requirement already satisfied: six<2.0,>=1.6.1 in /opt/conda/envs/fastai/lib/python3.6/site-packages (from astunparse->pixiedust) (1.12.0)\n",
      "Requirement already satisfied: wheel<1.0,>=0.23.0 in /opt/conda/envs/fastai/lib/python3.6/site-packages (from astunparse->pixiedust) (0.32.3)\n",
      "Requirement already satisfied: idna<2.9,>=2.5 in /opt/conda/envs/fastai/lib/python3.6/site-packages (from requests->pixiedust) (2.8)\n",
      "Requirement already satisfied: chardet<3.1.0,>=3.0.2 in /opt/conda/envs/fastai/lib/python3.6/site-packages (from requests->pixiedust) (3.0.4)\n",
      "Requirement already satisfied: certifi>=2017.4.17 in /opt/conda/envs/fastai/lib/python3.6/site-packages (from requests->pixiedust) (2018.11.29)\n",
      "Requirement already satisfied: urllib3<1.25,>=1.21.1 in /opt/conda/envs/fastai/lib/python3.6/site-packages (from requests->pixiedust) (1.24.1)\n"
     ]
    }
   ],
   "source": [
    "!pip install pixiedust"
   ]
  },
  {
   "cell_type": "code",
   "execution_count": 19,
   "metadata": {},
   "outputs": [],
   "source": [
    "import pixiedust"
   ]
  },
  {
   "cell_type": "markdown",
   "metadata": {},
   "source": [
    "# Load dataset"
   ]
  },
  {
   "cell_type": "code",
   "execution_count": 33,
   "metadata": {},
   "outputs": [
    {
     "data": {
      "text/html": [
       "<div>\n",
       "<style scoped>\n",
       "    .dataframe tbody tr th:only-of-type {\n",
       "        vertical-align: middle;\n",
       "    }\n",
       "\n",
       "    .dataframe tbody tr th {\n",
       "        vertical-align: top;\n",
       "    }\n",
       "\n",
       "    .dataframe thead th {\n",
       "        text-align: right;\n",
       "    }\n",
       "</style>\n",
       "<table border=\"1\" class=\"dataframe\">\n",
       "  <thead>\n",
       "    <tr style=\"text-align: right;\">\n",
       "      <th></th>\n",
       "      <th>Unnamed: 0</th>\n",
       "      <th>Report Date</th>\n",
       "      <th>Route</th>\n",
       "      <th>Time</th>\n",
       "      <th>Day</th>\n",
       "      <th>Location</th>\n",
       "      <th>Incident</th>\n",
       "      <th>Min Delay</th>\n",
       "      <th>Min Gap</th>\n",
       "      <th>Direction</th>\n",
       "      <th>Vehicle</th>\n",
       "      <th>Report Date Time</th>\n",
       "      <th>lat_long</th>\n",
       "      <th>latitude</th>\n",
       "      <th>longitude</th>\n",
       "    </tr>\n",
       "  </thead>\n",
       "  <tbody>\n",
       "    <tr>\n",
       "      <th>0</th>\n",
       "      <td>0</td>\n",
       "      <td>2016-01-01 00:00:00</td>\n",
       "      <td>505</td>\n",
       "      <td>00:00:00</td>\n",
       "      <td>Friday</td>\n",
       "      <td>dundas west stationt to broadview station</td>\n",
       "      <td>General Delay</td>\n",
       "      <td>7.0</td>\n",
       "      <td>14.0</td>\n",
       "      <td>w</td>\n",
       "      <td>4028</td>\n",
       "      <td>2016-01-01 00:00:00</td>\n",
       "      <td>[0.0, 0.0]</td>\n",
       "      <td>0.000000</td>\n",
       "      <td>0.000000</td>\n",
       "    </tr>\n",
       "    <tr>\n",
       "      <th>1</th>\n",
       "      <td>1</td>\n",
       "      <td>2016-01-01 00:00:00</td>\n",
       "      <td>511</td>\n",
       "      <td>02:14:00</td>\n",
       "      <td>Friday</td>\n",
       "      <td>fleet st. and strachan</td>\n",
       "      <td>Mechanical</td>\n",
       "      <td>10.0</td>\n",
       "      <td>20.0</td>\n",
       "      <td>e</td>\n",
       "      <td>4018</td>\n",
       "      <td>2016-01-01 02:14:00</td>\n",
       "      <td>[43.6362976, -79.4096351]</td>\n",
       "      <td>43.636298</td>\n",
       "      <td>-79.409635</td>\n",
       "    </tr>\n",
       "    <tr>\n",
       "      <th>2</th>\n",
       "      <td>2</td>\n",
       "      <td>2016-01-01 00:00:00</td>\n",
       "      <td>301</td>\n",
       "      <td>02:22:00</td>\n",
       "      <td>Friday</td>\n",
       "      <td>queen st. west and roncesvalles</td>\n",
       "      <td>Mechanical</td>\n",
       "      <td>9.0</td>\n",
       "      <td>18.0</td>\n",
       "      <td>w</td>\n",
       "      <td>4201</td>\n",
       "      <td>2016-01-01 02:22:00</td>\n",
       "      <td>[43.64533489999999, -79.4131843]</td>\n",
       "      <td>43.645335</td>\n",
       "      <td>-79.413184</td>\n",
       "    </tr>\n",
       "    <tr>\n",
       "      <th>3</th>\n",
       "      <td>3</td>\n",
       "      <td>2016-01-01 00:00:00</td>\n",
       "      <td>301</td>\n",
       "      <td>03:28:00</td>\n",
       "      <td>Friday</td>\n",
       "      <td>lake shore blvd. and superior st.</td>\n",
       "      <td>Mechanical</td>\n",
       "      <td>20.0</td>\n",
       "      <td>40.0</td>\n",
       "      <td>e</td>\n",
       "      <td>4251</td>\n",
       "      <td>2016-01-01 03:28:00</td>\n",
       "      <td>[43.61496169999999, -79.4886581]</td>\n",
       "      <td>43.614962</td>\n",
       "      <td>-79.488658</td>\n",
       "    </tr>\n",
       "    <tr>\n",
       "      <th>4</th>\n",
       "      <td>4</td>\n",
       "      <td>2016-01-01 00:00:00</td>\n",
       "      <td>501</td>\n",
       "      <td>14:28:00</td>\n",
       "      <td>Friday</td>\n",
       "      <td>roncesvalles to neville park</td>\n",
       "      <td>Mechanical</td>\n",
       "      <td>6.0</td>\n",
       "      <td>12.0</td>\n",
       "      <td>e</td>\n",
       "      <td>4242</td>\n",
       "      <td>2016-01-01 14:28:00</td>\n",
       "      <td>[0.0, 0.0]</td>\n",
       "      <td>0.000000</td>\n",
       "      <td>0.000000</td>\n",
       "    </tr>\n",
       "  </tbody>\n",
       "</table>\n",
       "</div>"
      ],
      "text/plain": [
       "   Unnamed: 0          Report Date Route      Time     Day  \\\n",
       "0           0  2016-01-01 00:00:00   505  00:00:00  Friday   \n",
       "1           1  2016-01-01 00:00:00   511  02:14:00  Friday   \n",
       "2           2  2016-01-01 00:00:00   301  02:22:00  Friday   \n",
       "3           3  2016-01-01 00:00:00   301  03:28:00  Friday   \n",
       "4           4  2016-01-01 00:00:00   501  14:28:00  Friday   \n",
       "\n",
       "                                    Location       Incident  Min Delay  \\\n",
       "0  dundas west stationt to broadview station  General Delay        7.0   \n",
       "1                     fleet st. and strachan     Mechanical       10.0   \n",
       "2            queen st. west and roncesvalles     Mechanical        9.0   \n",
       "3          lake shore blvd. and superior st.     Mechanical       20.0   \n",
       "4               roncesvalles to neville park     Mechanical        6.0   \n",
       "\n",
       "   Min Gap Direction Vehicle     Report Date Time  \\\n",
       "0     14.0         w    4028  2016-01-01 00:00:00   \n",
       "1     20.0         e    4018  2016-01-01 02:14:00   \n",
       "2     18.0         w    4201  2016-01-01 02:22:00   \n",
       "3     40.0         e    4251  2016-01-01 03:28:00   \n",
       "4     12.0         e    4242  2016-01-01 14:28:00   \n",
       "\n",
       "                           lat_long   latitude  longitude  \n",
       "0                        [0.0, 0.0]   0.000000   0.000000  \n",
       "1         [43.6362976, -79.4096351]  43.636298 -79.409635  \n",
       "2  [43.64533489999999, -79.4131843]  43.645335 -79.413184  \n",
       "3  [43.61496169999999, -79.4886581]  43.614962 -79.488658  \n",
       "4                        [0.0, 0.0]   0.000000   0.000000  "
      ]
     },
     "execution_count": 33,
     "metadata": {},
     "output_type": "execute_result"
    }
   ],
   "source": [
    "url=\"https://raw.githubusercontent.com/ryanmark1867/manning/master/2014_2018_df_cleaned_keep_bad_loc_geocoded_apr23.csv\"\n",
    "\n",
    "df=pd.read_csv(url)\n",
    "df.head()\n"
   ]
  },
  {
   "cell_type": "code",
   "execution_count": 34,
   "metadata": {},
   "outputs": [
    {
     "data": {
      "text/plain": [
       "(69603, 15)"
      ]
     },
     "execution_count": 34,
     "metadata": {},
     "output_type": "execute_result"
    }
   ],
   "source": [
    "df.shape"
   ]
  },
  {
   "cell_type": "code",
   "execution_count": 35,
   "metadata": {},
   "outputs": [
    {
     "data": {
      "text/plain": [
       "(67928, 15)"
      ]
     },
     "execution_count": 35,
     "metadata": {},
     "output_type": "execute_result"
    }
   ],
   "source": [
    "# remove bad location markers\n",
    "df = df[df.latitude != 0.0]\n",
    "df.shape"
   ]
  },
  {
   "cell_type": "code",
   "execution_count": 36,
   "metadata": {},
   "outputs": [
    {
     "data": {
      "text/html": [
       "<div>\n",
       "<style scoped>\n",
       "    .dataframe tbody tr th:only-of-type {\n",
       "        vertical-align: middle;\n",
       "    }\n",
       "\n",
       "    .dataframe tbody tr th {\n",
       "        vertical-align: top;\n",
       "    }\n",
       "\n",
       "    .dataframe thead th {\n",
       "        text-align: right;\n",
       "    }\n",
       "</style>\n",
       "<table border=\"1\" class=\"dataframe\">\n",
       "  <thead>\n",
       "    <tr style=\"text-align: right;\">\n",
       "      <th></th>\n",
       "      <th>Unnamed: 0</th>\n",
       "      <th>Report Date</th>\n",
       "      <th>Route</th>\n",
       "      <th>Time</th>\n",
       "      <th>Day</th>\n",
       "      <th>Location</th>\n",
       "      <th>Incident</th>\n",
       "      <th>Min Delay</th>\n",
       "      <th>Min Gap</th>\n",
       "      <th>Direction</th>\n",
       "      <th>Vehicle</th>\n",
       "      <th>Report Date Time</th>\n",
       "      <th>lat_long</th>\n",
       "      <th>latitude</th>\n",
       "      <th>longitude</th>\n",
       "    </tr>\n",
       "  </thead>\n",
       "  <tbody>\n",
       "    <tr>\n",
       "      <th>1</th>\n",
       "      <td>1</td>\n",
       "      <td>2016-01-01 00:00:00</td>\n",
       "      <td>511</td>\n",
       "      <td>02:14:00</td>\n",
       "      <td>Friday</td>\n",
       "      <td>fleet st. and strachan</td>\n",
       "      <td>Mechanical</td>\n",
       "      <td>10.0</td>\n",
       "      <td>20.0</td>\n",
       "      <td>e</td>\n",
       "      <td>4018</td>\n",
       "      <td>2016-01-01 02:14:00</td>\n",
       "      <td>[43.6362976, -79.4096351]</td>\n",
       "      <td>43.636298</td>\n",
       "      <td>-79.409635</td>\n",
       "    </tr>\n",
       "    <tr>\n",
       "      <th>2</th>\n",
       "      <td>2</td>\n",
       "      <td>2016-01-01 00:00:00</td>\n",
       "      <td>301</td>\n",
       "      <td>02:22:00</td>\n",
       "      <td>Friday</td>\n",
       "      <td>queen st. west and roncesvalles</td>\n",
       "      <td>Mechanical</td>\n",
       "      <td>9.0</td>\n",
       "      <td>18.0</td>\n",
       "      <td>w</td>\n",
       "      <td>4201</td>\n",
       "      <td>2016-01-01 02:22:00</td>\n",
       "      <td>[43.64533489999999, -79.4131843]</td>\n",
       "      <td>43.645335</td>\n",
       "      <td>-79.413184</td>\n",
       "    </tr>\n",
       "    <tr>\n",
       "      <th>3</th>\n",
       "      <td>3</td>\n",
       "      <td>2016-01-01 00:00:00</td>\n",
       "      <td>301</td>\n",
       "      <td>03:28:00</td>\n",
       "      <td>Friday</td>\n",
       "      <td>lake shore blvd. and superior st.</td>\n",
       "      <td>Mechanical</td>\n",
       "      <td>20.0</td>\n",
       "      <td>40.0</td>\n",
       "      <td>e</td>\n",
       "      <td>4251</td>\n",
       "      <td>2016-01-01 03:28:00</td>\n",
       "      <td>[43.61496169999999, -79.4886581]</td>\n",
       "      <td>43.614962</td>\n",
       "      <td>-79.488658</td>\n",
       "    </tr>\n",
       "    <tr>\n",
       "      <th>5</th>\n",
       "      <td>5</td>\n",
       "      <td>2016-01-01 00:00:00</td>\n",
       "      <td>505</td>\n",
       "      <td>15:42:00</td>\n",
       "      <td>Friday</td>\n",
       "      <td>broadview station loop</td>\n",
       "      <td>Investigation</td>\n",
       "      <td>4.0</td>\n",
       "      <td>10.0</td>\n",
       "      <td>w</td>\n",
       "      <td>4187</td>\n",
       "      <td>2016-01-01 15:42:00</td>\n",
       "      <td>[43.677135, -79.35820799999999]</td>\n",
       "      <td>43.677135</td>\n",
       "      <td>-79.358208</td>\n",
       "    </tr>\n",
       "    <tr>\n",
       "      <th>6</th>\n",
       "      <td>6</td>\n",
       "      <td>2016-01-01 00:00:00</td>\n",
       "      <td>504</td>\n",
       "      <td>15:54:00</td>\n",
       "      <td>Friday</td>\n",
       "      <td>broadview and queen</td>\n",
       "      <td>Mechanical</td>\n",
       "      <td>6.0</td>\n",
       "      <td>12.0</td>\n",
       "      <td>e</td>\n",
       "      <td>4181</td>\n",
       "      <td>2016-01-01 15:54:00</td>\n",
       "      <td>[43.6593626, -79.34769709999999]</td>\n",
       "      <td>43.659363</td>\n",
       "      <td>-79.347697</td>\n",
       "    </tr>\n",
       "  </tbody>\n",
       "</table>\n",
       "</div>"
      ],
      "text/plain": [
       "   Unnamed: 0          Report Date Route      Time     Day  \\\n",
       "1           1  2016-01-01 00:00:00   511  02:14:00  Friday   \n",
       "2           2  2016-01-01 00:00:00   301  02:22:00  Friday   \n",
       "3           3  2016-01-01 00:00:00   301  03:28:00  Friday   \n",
       "5           5  2016-01-01 00:00:00   505  15:42:00  Friday   \n",
       "6           6  2016-01-01 00:00:00   504  15:54:00  Friday   \n",
       "\n",
       "                            Location       Incident  Min Delay  Min Gap  \\\n",
       "1             fleet st. and strachan     Mechanical       10.0     20.0   \n",
       "2    queen st. west and roncesvalles     Mechanical        9.0     18.0   \n",
       "3  lake shore blvd. and superior st.     Mechanical       20.0     40.0   \n",
       "5             broadview station loop  Investigation        4.0     10.0   \n",
       "6                broadview and queen     Mechanical        6.0     12.0   \n",
       "\n",
       "  Direction Vehicle     Report Date Time                          lat_long  \\\n",
       "1         e    4018  2016-01-01 02:14:00         [43.6362976, -79.4096351]   \n",
       "2         w    4201  2016-01-01 02:22:00  [43.64533489999999, -79.4131843]   \n",
       "3         e    4251  2016-01-01 03:28:00  [43.61496169999999, -79.4886581]   \n",
       "5         w    4187  2016-01-01 15:42:00   [43.677135, -79.35820799999999]   \n",
       "6         e    4181  2016-01-01 15:54:00  [43.6593626, -79.34769709999999]   \n",
       "\n",
       "    latitude  longitude  \n",
       "1  43.636298 -79.409635  \n",
       "2  43.645335 -79.413184  \n",
       "3  43.614962 -79.488658  \n",
       "5  43.677135 -79.358208  \n",
       "6  43.659363 -79.347697  "
      ]
     },
     "execution_count": 36,
     "metadata": {},
     "output_type": "execute_result"
    }
   ],
   "source": [
    "# remove locations outside of portion of Toronto with streetcar routes\n",
    "# latitude NS (higher north), longitude EW (higher east)\n",
    "\n",
    "# west of Queen and Victoria Park: 43.674280, -79.280260\n",
    "# ease and north of Lakeshore and Etobicoke Creek: 43.587350, -79.547860\n",
    "# south of St Clair and Mt. Pleasant: 43.687840,-79.399800\n",
    "\n",
    "\n",
    "# boundaries of streetcar network:\n",
    "min_lat = 43.58735\n",
    "max_lat = 43.687840\n",
    "min_long = -79.547860\n",
    "max_long = -79.280260    \n",
    "    \n",
    "    \n",
    "df = df[df.latitude >= min_lat]\n",
    "df = df[df.latitude <= max_lat]\n",
    "df = df[df.longitude >= min_long]\n",
    "df = df[df.longitude <= max_long]\n",
    "df.head()\n",
    "\n"
   ]
  },
  {
   "cell_type": "code",
   "execution_count": 39,
   "metadata": {},
   "outputs": [
    {
     "data": {
      "text/plain": [
       "(65049, 15)"
      ]
     },
     "execution_count": 39,
     "metadata": {},
     "output_type": "execute_result"
    }
   ],
   "source": [
    "df.shape"
   ]
  },
  {
   "cell_type": "code",
   "execution_count": 40,
   "metadata": {
    "pixiedust": {
     "displayParams": {
      "chartsize": "84",
      "colorrampname": "Orange to Purple",
      "handlerId": "mapView",
      "keyFields": "latitude,longitude",
      "kind": "choropleth",
      "legend": "false",
      "mapboxtoken": "pk.eyJ1IjoibWFwYm94IiwiYSI6ImNpejY4M29iazA2Z2gycXA4N2pmbDZmangifQ.-g_vE53SD2WrJ6tFX7QHmA",
      "numbins": "19",
      "rowCount": "67000"
     }
    },
    "scrolled": true
   },
   "outputs": [
    {
     "data": {
      "text/html": [
       "<style type=\"text/css\">.pd_warning{display:none;}</style><div class=\"pd_warning\"><em>Hey, there's something awesome here! To see it, open this notebook outside GitHub, in a viewer like Jupyter</em></div>"
      ],
      "text/plain": [
       "<IPython.core.display.HTML object>"
      ]
     },
     "metadata": {},
     "output_type": "display_data"
    }
   ],
   "source": [
    "display(df)"
   ]
  }
 ],
 "metadata": {
  "kernelspec": {
   "display_name": "Python 3",
   "language": "python",
   "name": "python3"
  },
  "language_info": {
   "codemirror_mode": {
    "name": "ipython",
    "version": 3
   },
   "file_extension": ".py",
   "mimetype": "text/x-python",
   "name": "python",
   "nbconvert_exporter": "python",
   "pygments_lexer": "ipython3",
   "version": "3.6.7"
  }
 },
 "nbformat": 4,
 "nbformat_minor": 2
}
